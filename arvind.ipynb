{
 "cells": [
  {
   "cell_type": "code",
   "execution_count": 1,
   "id": "cac20026-59e7-4070-b571-562a0b5432df",
   "metadata": {},
   "outputs": [],
   "source": [
    "import numpy as np\n",
    "import matplotlib.pyplot as plt\n",
    "import scipy.sparse as sc\n",
    "import networkx as ntx\n",
    "from numpy.random import choice\n",
    "import scipy.sparse.linalg as spla"
   ]
  },
  {
   "cell_type": "code",
   "execution_count": 3,
   "id": "e91dd981-ef68-4889-9aac-e7d42fbe0076",
   "metadata": {},
   "outputs": [],
   "source": [
    "def E0(layers):\n",
    "    m1=[]\n",
    "    for j in np.arange(0,8*layers,8):\n",
    "        m1.append([(i+j,i+1+j) for i in range(7)])\n",
    "    return np.array(m1).reshape(-1,2)"
   ]
  },
  {
   "cell_type": "code",
   "execution_count": null,
   "id": "2f74af5d-6fcb-407d-be1a-e4f4458e97b6",
   "metadata": {},
   "outputs": [],
   "source": [
    "E2(2)"
   ]
  },
  {
   "cell_type": "code",
   "execution_count": 5,
   "id": "6600d87b-df19-4a74-9a28-6f351b4b3dee",
   "metadata": {},
   "outputs": [],
   "source": [
    "def E1(layers):\n",
    "    m2=[]\n",
    "    for j in np.arange(0,8*(layers-1),8):\n",
    "        m2.append(np.array([((j+i,j+7+i),(j+i,j+7+2+i)) for i in np.arange(1,7,2)]))\n",
    "    m2=np.array(m2).reshape(-1,2)\n",
    "    return m2"
   ]
  },
  {
   "cell_type": "code",
   "execution_count": 7,
   "id": "5d11b37d-6ddd-4b3c-97f2-08622fd0fbb5",
   "metadata": {},
   "outputs": [],
   "source": [
    "def E2(layers):\n",
    "    m3=[]\n",
    "    m3.append([(j+7,j+14) for j in np.arange(0,8*(layers-1),8)])\n",
    "    m3=np.array(m3).reshape(-1,2)\n",
    "    return m3"
   ]
  },
  {
   "cell_type": "code",
   "execution_count": 9,
   "id": "0e8ccd1b-8f4d-4649-8788-0ec6c955fb5d",
   "metadata": {},
   "outputs": [],
   "source": [
    "def E3(layers):\n",
    "    m4=[]\n",
    "    m4.append([(8*layers+1,i) for i in np.arange(0,7,2)])\n",
    "    return np.array(m4).reshape(-1,2)"
   ]
  },
  {
   "cell_type": "code",
   "execution_count": 15,
   "id": "54952855-6943-40bb-a5e2-c6511c85053c",
   "metadata": {},
   "outputs": [],
   "source": [
    "def E4(layers):\n",
    "    m5=[]\n",
    "    m5.append([(layers*8,i) for i in np.arange((layers-1)*8+1,layers*8,2)])\n",
    "    return np.array(m5).reshape(-1,2)"
   ]
  },
  {
   "cell_type": "code",
   "execution_count": null,
   "id": "082eed50-40b8-4549-8cf1-14a9554486e0",
   "metadata": {},
   "outputs": [],
   "source": [
    "E4(10)"
   ]
  },
  {
   "cell_type": "code",
   "execution_count": 35,
   "id": "573a3267-f192-4a1c-b702-e2b9c641fac0",
   "metadata": {},
   "outputs": [
    {
     "data": {
      "image/png": "[encoded data removed]",
      "text/plain": [
       "<Figure size 640x480 with 1 Axes>"
      ]
     },
     "metadata": {},
     "output_type": "display_data"
    }
   ],
   "source": [
    "def create_graph(layers,seed):\n",
    "    np.random.seed(seed)\n",
    "    number_of_indices = 8*layers\n",
    "    G = ntx.Graph()\n",
    "    #G.add_nodes_from(range(8 * layers))\n",
    "    e0 = E0(layers)\n",
    "    e1 = E1(layers)\n",
    "    e2 = E2(layers)\n",
    "    e3 = E3(layers)\n",
    "    e4 = E4(layers)\n",
    "    G.add_edges_from(e0)\n",
    "    G.add_edges_from(e1)\n",
    "    G.add_edges_from(e2)\n",
    "#    G.add_edges_from(e3)\n",
    "#    G.add_edges_from(e4)\n",
    "#    G.add_edges_from(((0,11),(6,20)))\n",
    "    return G\n",
    "\n",
    "G = create_graph(1, 23)\n",
    "pos = ntx.planar_layout(G)\n",
    "# Draw graph with node labels\n",
    "ntx.draw(G, pos, with_labels=True, node_size=100, font_size=5)\n",
    "\n",
    "# Add custom node labels at positions\n",
    "#labels = {node: node for node in G.nodes()}  \n",
    "#ntx.draw_networkx_labels(G, pos, labels, font_size=10, font_color=\"white\")\n",
    "\n",
    "#plt.show()"
   ]
  },
  {
   "cell_type": "code",
   "execution_count": 37,
   "id": "4ec572cb-b984-4480-8a62-7da7feeb21e7",
   "metadata": {},
   "outputs": [],
   "source": [
    "def generate_random_values(mean, std, seed, num_edges):\n",
    "    np.random.seed(seed)\n",
    "    return np.abs(np.random.normal(mean, std, num_edges))"
   ]
  },
  {
   "cell_type": "code",
   "execution_count": 39,
   "id": "6386ff9d-04e0-4d15-bda1-e48be56006fe",
   "metadata": {},
   "outputs": [],
   "source": [
    "def matrix_interactions(layers):\n",
    "    grid = create_graph(layers,1)\n",
    "    num_edges = grid.number_of_edges()\n",
    "    nodes = grid.number_of_nodes()\n",
    "#    print(nodes)\n",
    "    cap_values = generate_random_values(1, 0.01, 1, num_edges)\n",
    "    \n",
    "    adjM = sc.lil_matrix((nodes, nodes))\n",
    "    xxx = list(grid.edges())\n",
    "    interactions = 1/cap_values\n",
    "    \n",
    "    for edge_idx, (i, j) in enumerate(xxx):\n",
    "        if i < nodes and j < nodes:  # Check if indices are valid\n",
    "            interaction_value = interactions[edge_idx]\n",
    "            adjM[i, j] = interaction_value\n",
    "            adjM[j, i] = interaction_value\n",
    "        else:\n",
    "            print(f\"Warning: Skipping invalid edge ({i}, {j})\")   # Ensure the matrix is symmetric\n",
    "    \n",
    "    adjM.setdiag(adjM.sum(axis=1).A1 - 0.0001)\n",
    "    \n",
    "    MI = spla.inv(adjM.tocsc())  # Using inv for CSC matrices\n",
    "    \n",
    "    return MI,nodes"
   ]
  },
  {
   "cell_type": "code",
   "execution_count": null,
   "id": "55f44699-0628-45f6-acb7-2dfa0276623d",
   "metadata": {},
   "outputs": [],
   "source": [
    "matrix_interactions(1)"
   ]
  },
  {
   "cell_type": "code",
   "execution_count": 41,
   "id": "fc62d13c-86e4-446a-ae8e-4a32c5ad3bd4",
   "metadata": {},
   "outputs": [],
   "source": [
    "def R(layers,a,b):\n",
    "    MI,nodes = matrix_interactions(layers)\n",
    "    #a= 8*layers\n",
    "    #b= 8*layers+1\n",
    "    return MI[a, a] + MI[b, b] - MI[a,b] - MI[b, a] "
   ]
  },
  {
   "cell_type": "code",
   "execution_count": null,
   "id": "57e4eb30-686c-4ad7-9827-685464c531f0",
   "metadata": {},
   "outputs": [],
   "source": [
    "Rin=[]\n",
    "for layers in np.arange(10,100,1):\n",
    "    p = []\n",
    "    for a in np.arange(0,7,2):\n",
    "        for b in np.arange(8*(layers-1)+1,8*layers,2):\n",
    "            p.append(R(layers,a,b))            \n",
    "            \n",
    "    Rin.append(np.array(p).sum())"
   ]
  },
  {
   "cell_type": "code",
   "execution_count": null,
   "id": "3d35a9c2-b5b9-434e-8851-77314394623a",
   "metadata": {},
   "outputs": [],
   "source": [
    "Rin"
   ]
  },
  {
   "cell_type": "code",
   "execution_count": null,
   "id": "b759c26a-f999-457f-9db3-6893541d0c60",
   "metadata": {},
   "outputs": [],
   "source": [
    "np.arange(0,7,2)"
   ]
  },
  {
   "cell_type": "code",
   "execution_count": null,
   "id": "4a6eb973-d200-493e-b3f7-e665fb9d8dd8",
   "metadata": {},
   "outputs": [],
   "source": [
    "np.arange(4,5,1)"
   ]
  },
  {
   "cell_type": "code",
   "execution_count": null,
   "id": "0a5b612e-1772-42c5-98b0-4abdd11793fb",
   "metadata": {},
   "outputs": [],
   "source": []
  }
 ],
 "metadata": {
  "kernelspec": {
   "display_name": "Python 3 (ipykernel)",
   "language": "python",
   "name": "python3"
  },
  "language_info": {
   "codemirror_mode": {
    "name": "ipython",
    "version": 3
   },
   "file_extension": ".py",
   "mimetype": "text/x-python",
   "name": "python",
   "nbconvert_exporter": "python",
   "pygments_lexer": "ipython3",
   "version": "3.11.5"
  }
 },
 "nbformat": 4,
 "nbformat_minor": 5
}
