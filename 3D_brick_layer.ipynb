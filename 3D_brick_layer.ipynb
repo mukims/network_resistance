{
 "cells": [
  {
   "cell_type": "code",
   "execution_count": 1,
   "id": "619c5c75-553b-4071-9885-cfdf93cc7bce",
   "metadata": {},
   "outputs": [],
   "source": [
    "import numpy as np\n",
    "import matplotlib.pyplot as plt\n",
    "import scipy.sparse as sc\n",
    "import networkx as ntx\n",
    "from numpy.random import choice\n",
    "import scipy.sparse.linalg as spla\n",
    "import pandas as pd\n",
    "import gc"
   ]
  },
  {
   "cell_type": "code",
   "execution_count": 3,
   "id": "e354b8f7-41f2-45fb-b7f9-3a8713568f9d",
   "metadata": {},
   "outputs": [],
   "source": [
    "def E0(layers):\n",
    "    m1=[]\n",
    "    for j in np.arange(0,8*layers,8):\n",
    "        m1.append([(i+j,i+1+j) for i in range(7)])\n",
    "    return np.array(m1).reshape(-1,2)\n",
    "def E1(layers):\n",
    "    m2=[]\n",
    "    for j in np.arange(0,8*(layers-1),8):\n",
    "        m2.append(np.array([((j+i,j+7+i),(j+i,j+7+2+i)) for i in np.arange(1,7,2)]))\n",
    "    m2=np.array(m2).reshape(-1,2)\n",
    "    return m2\n",
    "def E2(layers):\n",
    "    m3=[]\n",
    "    m3.append([(j+7,j+14) for j in np.arange(0,8*(layers-1),8)])\n",
    "    m3=np.array(m3).reshape(-1,2)\n",
    "    return m3\n",
    "def E3(layers):\n",
    "    m4=[]\n",
    "    m4.append([(8*layers+1,i) for i in np.arange(0,7,2)])\n",
    "    return np.array(m4).reshape(-1,2)\n",
    "\n",
    "\n",
    "def E4(layers):\n",
    "    m5=[]\n",
    "    m5.append([(layers*8,i) for i in np.arange((layers-1)*8+1,layers*8,2)])\n",
    "    return np.array(m5).reshape(-1,2)"
   ]
  },
  {
   "cell_type": "code",
   "execution_count": 5,
   "id": "c2cfb456-b7e8-45c8-ab25-b7621b119967",
   "metadata": {},
   "outputs": [],
   "source": [
    "def create_graph(layers,seed):\n",
    "    np.random.seed(seed)\n",
    "    number_of_indices = 8*layers\n",
    "    G = ntx.Graph()\n",
    "    #G.add_nodes_from(range(8 * layers))\n",
    "    e0 = E0(layers)\n",
    "    e1 = E1(layers)\n",
    "    e2 = E2(layers)\n",
    "    e3 = E3(layers)\n",
    "    e4 = E4(layers)\n",
    "    G.add_edges_from(e0)\n",
    "    G.add_edges_from(e1)\n",
    "    G.add_edges_from(e2)\n",
    "  #  G.add_edges_from(e3)\n",
    "  #  G.add_edges_from(e4)\n",
    "#    G.add_edges_from(((0,11),(6,20)))\n",
    "    return G"
   ]
  },
  {
   "cell_type": "code",
   "execution_count": 7,
   "id": "16ba35b7-af83-43a5-b012-1e68d6092052",
   "metadata": {},
   "outputs": [],
   "source": [
    "#print(list(create_3d_graph(4,1,2).neighbors((0,1))))"
   ]
  },
  {
   "cell_type": "code",
   "execution_count": 7,
   "id": "8d3e99b3-d6db-4dbe-a55e-231a29684471",
   "metadata": {},
   "outputs": [],
   "source": [
    "def create_3d_graph(layers, seed, depth):\n",
    "    G_2d = create_graph(layers, seed)\n",
    "    G_3d = ntx.Graph()\n",
    "\n",
    "    node_count = 0\n",
    "    node_mapping = {}  # Map old node to new sequential index\n",
    "\n",
    "    for z in range(depth):\n",
    "        for node in G_2d.nodes:\n",
    "            G_3d.add_node(node_count)\n",
    "            node_mapping[(node, z)] = node_count\n",
    "            node_count += 1\n",
    "\n",
    "    for edge in G_2d.edges:\n",
    "        for z in range(depth):\n",
    "            G_3d.add_edge(\n",
    "                node_mapping[(edge[0], z)], node_mapping[(edge[1], z)]\n",
    "            )\n",
    "\n",
    "    # Connect layers vertically (with the correction)\n",
    "    for z in range(depth - 1):\n",
    "        for node in G_2d.nodes:\n",
    "            if node % 2 == 1 and node < max(G_2d.nodes):\n",
    "                for neighbor in G_2d.neighbors(node):\n",
    "                    if neighbor % 2 == 0:  # Even neighbors in the current layer\n",
    "                        G_3d.add_edge(\n",
    "                            node_mapping[(node, z)], node_mapping[(neighbor, z + 1)]\n",
    "                        )\n",
    "                    elif neighbor % 2 == 1 and neighbor > node: # Odd neighbors in the current layer with a higher index\n",
    "                        G_3d.add_edge(\n",
    "                            node_mapping[(node, z)], node_mapping[(neighbor, z + 1)]\n",
    "                        )\n",
    "\n",
    "    \n",
    "\n",
    "    node_count = max(G_3d.nodes) + 1\n",
    "    G_3d.add_node(node_count)  # node_in_3d_graph + 1\n",
    "    external_node_1 = node_count\n",
    "\n",
    "    node_count += 1\n",
    "    G_3d.add_node(node_count)  # node_in_3d_graph + 2\n",
    "    external_node_2 = node_count\n",
    "\n",
    "    # Connect bottom layer even nodes to external_node_1\n",
    "    for node in G_2d.nodes:\n",
    "        if node % 2 == 0:\n",
    "            G_3d.add_edge(node_mapping[(node, 0)], external_node_1)  # Bottom layer (z=0)\n",
    "\n",
    "    # Connect top layer odd nodes to external_node_2\n",
    "    for node in G_2d.nodes:\n",
    "        if node % 2 == 1 and node < max(G_2d.nodes):\n",
    "            G_3d.add_edge(node_mapping[(node, depth - 1)], external_node_2)  # Top layer (z=depth-1)\n",
    "\n",
    "\n",
    "    return G_3d,external_node_1,external_node_2\n"
   ]
  },
  {
   "cell_type": "code",
   "execution_count": 11,
   "id": "d401680c-b70e-4ec3-b31e-30b963e49300",
   "metadata": {},
   "outputs": [
    {
     "data": {
      "text/plain": [
       "(<networkx.classes.graph.Graph at 0x746ec976f5d0>, 320, 321)"
      ]
     },
     "execution_count": 11,
     "metadata": {},
     "output_type": "execute_result"
    }
   ],
   "source": [
    "create_3d_graph(4, 1, 10)"
   ]
  },
  {
   "cell_type": "code",
   "execution_count": null,
   "id": "2a46234b-7500-40c7-90b3-ed4f26b4b740",
   "metadata": {},
   "outputs": [],
   "source": [
    "print(list(create_3d_graph(4,1,2).neighbors(65)))"
   ]
  },
  {
   "cell_type": "code",
   "execution_count": null,
   "id": "a02139c0-5cf0-4e34-813d-8d2cc7bedb61",
   "metadata": {},
   "outputs": [],
   "source": [
    "# Extract node positions for plotting\n",
    "#pos_3d = {node: (node[0], node[1]) for node in create_3d_graph(4, 1, 2).edges}  \n",
    "#pos_3d"
   ]
  },
  {
   "cell_type": "code",
   "execution_count": 9,
   "id": "75c62ad5-6264-46c2-8e17-d5bf9e8276e5",
   "metadata": {},
   "outputs": [],
   "source": [
    "def generate_random_values(mean, std, seed, num_edges):\n",
    "    np.random.seed(seed)\n",
    "    return np.abs(np.random.normal(mean, std, num_edges))"
   ]
  },
  {
   "cell_type": "code",
   "execution_count": 11,
   "id": "5f02bf9e-19dc-4394-a798-23d685351514",
   "metadata": {},
   "outputs": [],
   "source": [
    "def matrix_interactions(seed, depth, h, std,ext):\n",
    "\n",
    "    grid,a,b = create_3d_graph(4, seed, depth)\n",
    "    num_edges = grid.number_of_edges()\n",
    "    nodes = grid.number_of_nodes()\n",
    "\n",
    "    h= int(h * num_edges)\n",
    "    np.random.seed(seed)\n",
    "    cap_values = np.abs(1 * np.concatenate((generate_random_values(1, std, seed, num_edges-h),generate_random_values(1, 0, seed, h)))) \n",
    "    np.random.shuffle(cap_values)\n",
    "    interactions = 1 / cap_values\n",
    "    #print(cap_values)\n",
    "\n",
    "    adjM = sc.lil_matrix((nodes, nodes))\n",
    "\n",
    "    xxx = list(grid.edges())\n",
    "    #print(xxx)\n",
    "\n",
    "    # Fill adjacency matrix with interaction values\n",
    "    for edge_idx, (i, j) in enumerate(xxx):\n",
    "        if i == a or j == a or i == b or j == b:\n",
    "            interaction_value = interactions[edge_idx]\n",
    "            adjM[i, j] = ext\n",
    "            adjM[j, i] = ext\n",
    "        else:\n",
    "            #print(i,j,interactions[edge_idx])\n",
    "            interaction_value = interactions[edge_idx]\n",
    "            adjM[i, j] = interaction_value\n",
    "            adjM[j, i] = interaction_value\n",
    "            \n",
    "\n",
    "    # Set diagonal elements based on row sums\n",
    "    adjM.setdiag(-1 * adjM.sum(axis=1).A1 - 0.0001)\n",
    "\n",
    "    # Invert the matrix (assuming adjM is negative definite)\n",
    "    MI = spla.inv(-1 * adjM.tocsc())\n",
    "\n",
    "    return MI, a,b\n"
   ]
  },
  {
   "cell_type": "code",
   "execution_count": null,
   "id": "0303308d-ae41-4852-a453-3dcf66b078ab",
   "metadata": {},
   "outputs": [],
   "source": [
    "n,m,o = matrix_interactions(4,2,1,0)"
   ]
  },
  {
   "cell_type": "code",
   "execution_count": null,
   "id": "25fe4d0f-98a7-4b6a-ab41-2ff50a0255d4",
   "metadata": {},
   "outputs": [],
   "source": [
    "n"
   ]
  },
  {
   "cell_type": "code",
   "execution_count": 13,
   "id": "942f40f6-f80b-48b0-8130-f2bd60eceed6",
   "metadata": {},
   "outputs": [],
   "source": [
    "#matrix_interactions(seed, depth, h, std)\n",
    "def R(seed,depth,h,std,ext):\n",
    "    MI,a,b = matrix_interactions(seed,depth,h,std,ext)\n",
    "    return MI[a, a] + MI[b, b] - MI[a,b] - MI[b, a] "
   ]
  },
  {
   "cell_type": "code",
   "execution_count": null,
   "id": "f0d2c76a-ef84-4a30-83e9-b56599027741",
   "metadata": {},
   "outputs": [],
   "source": [
    "#joop=[np.mean([R(seed,std) for seed in range(2)]) for std in np.arange(0.0,5,0.1)]"
   ]
  },
  {
   "cell_type": "code",
   "execution_count": null,
   "id": "bc1e16a3-4d0d-4bc5-8ac0-495fe7644b76",
   "metadata": {},
   "outputs": [],
   "source": [
    "#plt.plot(np.arange(0,5,0.1),joop)\n",
    "#plt.xlabel('Std')\n",
    "#plt.ylabel(r'$R_{oop}$')\n",
    "#plt.title(r'$R_{\\mu} = 10$, # of flakes = 1600,# of in plane = 16')"
   ]
  },
  {
   "cell_type": "code",
   "execution_count": null,
   "id": "9eb99ba5-3384-470e-817c-a69fbeaeb558",
   "metadata": {},
   "outputs": [],
   "source": []
  },
  {
   "cell_type": "code",
   "execution_count": 15,
   "id": "cbf8a4f1-4630-435c-8567-0202f0e04d4b",
   "metadata": {},
   "outputs": [],
   "source": [
    "# depth decides # no of flakes in the box\n",
    "def create_3d_graph_ip(layers, seed, depth):\n",
    "    G_2d = create_graph(layers, seed)\n",
    "    G_3d = ntx.Graph()\n",
    "\n",
    "    node_count = 0\n",
    "    node_mapping = {}  # Map old node to new sequential index\n",
    "\n",
    "    for z in range(depth):\n",
    "        for node in G_2d.nodes:\n",
    "            G_3d.add_node(node_count)\n",
    "            node_mapping[(node, z)] = node_count\n",
    "            node_count += 1\n",
    "\n",
    "    for edge in G_2d.edges:\n",
    "        for z in range(depth):\n",
    "            G_3d.add_edge(\n",
    "                node_mapping[(edge[0], z)], node_mapping[(edge[1], z)]\n",
    "            )\n",
    "\n",
    "    # Connect layers vertically (with the correction)\n",
    "    for z in range(depth - 1):\n",
    "        for node in G_2d.nodes:\n",
    "            if node % 2 == 1 and node < max(G_2d.nodes):\n",
    "                for neighbor in G_2d.neighbors(node):\n",
    "                    if neighbor % 2 == 0:  # Even neighbors in the current layer\n",
    "                        G_3d.add_edge(\n",
    "                            node_mapping[(node, z)], node_mapping[(neighbor, z + 1)]\n",
    "                        )\n",
    "                    elif neighbor % 2 == 1 and neighbor > node: # Odd neighbors in the current layer with a higher index\n",
    "                        G_3d.add_edge(\n",
    "                            node_mapping[(node, z)], node_mapping[(neighbor, z + 1)]\n",
    "                        )\n",
    "\n",
    "    node_count = max(G_3d.nodes) + 1\n",
    "    G_3d.add_node(node_count)  # node_in_3d_graph + 1\n",
    "    external_node_1 = node_count\n",
    "\n",
    "    node_count += 1\n",
    "    G_3d.add_node(node_count)  # node_in_3d_graph + 2\n",
    "    external_node_2 = node_count\n",
    "\n",
    "    # Connect side layer even nodes to external_node_1\n",
    "    for x in range(depth):\n",
    "        for node in G_2d.nodes:\n",
    "            if node % 8 == 0:\n",
    "                G_3d.add_edge(node_mapping[(node, x)], external_node_1)  # side l\n",
    "\n",
    "    # Connect side layer odd nodes to external_node_2\n",
    "    for x in range(depth):\n",
    "        for node in G_2d.nodes:\n",
    "            if node % 8 == 7 :\n",
    "                G_3d.add_edge(node_mapping[(node, x)], external_node_2)  # Top layer (z=depth-1)\n",
    "\n",
    "\n",
    "    return G_3d,external_node_1,external_node_2"
   ]
  },
  {
   "cell_type": "code",
   "execution_count": 17,
   "id": "69bb158f-ff2b-4f76-9408-37b219a886ca",
   "metadata": {},
   "outputs": [],
   "source": [
    "def matrix_interactions_ip(seed, depth, h, std,ext):\n",
    "\n",
    "    grid,a,b = create_3d_graph_ip(4, seed, depth)  # Assuming this function exists\n",
    "    num_edges = grid.number_of_edges()\n",
    "    nodes = grid.number_of_nodes()\n",
    "    np.random.seed(seed)\n",
    "    #print(a,b)\n",
    "\n",
    "    h= int(h * num_edges)\n",
    "    np.random.seed(seed)\n",
    "\n",
    "    cap_values = np.abs(1 * np.concatenate((generate_random_values(1, std, seed, num_edges-h),generate_random_values(0.0001, 0, seed, h))))      #hotspots\n",
    "    np.random.shuffle(cap_values)\n",
    "    interactions = 1 / cap_values\n",
    "    #print(round(cap_values,2))\n",
    "    adjM = sc.lil_matrix((nodes, nodes))\n",
    "    xxx = list(grid.edges())\n",
    "    for edge_idx, (i, j) in enumerate(xxx):\n",
    "        if i == a or j == a or i == b or j == b:\n",
    "            interaction_value = interactions[edge_idx]\n",
    "            adjM[i, j] = ext\n",
    "            adjM[j, i] = ext\n",
    "        else:\n",
    "            #print(i,j,interactions[edge_idx])\n",
    "            interaction_value = interactions[edge_idx]\n",
    "            adjM[i, j] = interaction_value\n",
    "            adjM[j, i] = interaction_value\n",
    "            \n",
    "    adjM.setdiag(-1 * adjM.sum(axis=1).A1 - 0.0001)\n",
    "\n",
    "    MI = spla.inv(-1 * adjM.tocsc())\n",
    "    #print(MI.shape)\n",
    "\n",
    "    return MI, a, b#, np.round(cap_values,2)\n",
    "#matrix_interactions_ip(0, 2, 0.5, 0)"
   ]
  },
  {
   "cell_type": "code",
   "execution_count": 19,
   "id": "4b3afb4e-8877-42bf-84f7-13e133501181",
   "metadata": {},
   "outputs": [],
   "source": [
    "def R_ip(seed,depth,h,std,ext):\n",
    "    MI,a,b = matrix_interactions_ip(seed, depth, h, std,ext)\n",
    "    return MI[a, a] + MI[b, b] - MI[a,b] - MI[b, a] "
   ]
  },
  {
   "cell_type": "code",
   "execution_count": 25,
   "id": "0aeafb61-e972-4671-b338-dd126cd11402",
   "metadata": {},
   "outputs": [
    {
     "ename": "NameError",
     "evalue": "name 'ratio' is not defined",
     "output_type": "error",
     "traceback": [
      "\u001b[0;31m---------------------------------------------------------------------------\u001b[0m",
      "\u001b[0;31mNameError\u001b[0m                                 Traceback (most recent call last)",
      "Cell \u001b[0;32mIn[25], line 1\u001b[0m\n\u001b[0;32m----> 1\u001b[0m ratio(\u001b[38;5;241m10\u001b[39m,\u001b[38;5;241m0.5\u001b[39m,\u001b[38;5;241m0\u001b[39m)\n",
      "\u001b[0;31mNameError\u001b[0m: name 'ratio' is not defined"
     ]
    }
   ],
   "source": [
    "ratio(10,0.5,0)"
   ]
  },
  {
   "cell_type": "code",
   "execution_count": 33,
   "id": "6f19b6b8-2791-4774-be28-f43cb8fe526a",
   "metadata": {},
   "outputs": [],
   "source": [
    "r_out = {}\n",
    "r_ip = {}\n",
    "rat={}\n",
    "def ratio(depth, h, std, ext):\n",
    "    name = f'depth_{depth:2.2f}_hf_{h:2.2f}_std_{std:2.2f}_extr_{ext:2.2f}'\n",
    "\n",
    "    \n",
    "    R_o = [R(seed,depth,h,std,ext) for seed in range(500)]\n",
    "    R_i = [R_ip(seed,depth,h,std,ext) for seed in range(500)]\n",
    "    \n",
    "    r_out[name] = R_o\n",
    "    r_ip[name] = R_i\n",
    "    \n",
    "    # Calculate ratio\n",
    "    r = (np.mean(R_o)/np.mean(R_i)) * (4.0 / depth**2)\n",
    "\n",
    "    rat[name] = r\n",
    "    # Save DataFrame\n",
    "    \n",
    "    return print(r)"
   ]
  },
  {
   "cell_type": "code",
   "execution_count": 43,
   "id": "1fbc91a4-9eba-4389-a576-fba2c3356ff9",
   "metadata": {},
   "outputs": [
    {
     "name": "stdout",
     "output_type": "stream",
     "text": [
      "depth_10_hf_0.5_std_0.5_extr_1_exported\n"
     ]
    },
    {
     "data": {
      "text/plain": [
       "0.3702945322536622"
      ]
     },
     "execution_count": 43,
     "metadata": {},
     "output_type": "execute_result"
    }
   ],
   "source": [
    "ratio(10,0.5,0.5,1)"
   ]
  },
  {
   "cell_type": "code",
   "execution_count": 23,
   "id": "f416f259-bebb-4424-aa88-7eb21907ee55",
   "metadata": {},
   "outputs": [],
   "source": [
    "import pandas as pd"
   ]
  },
  {
   "cell_type": "code",
   "execution_count": null,
   "id": "edb83d15-766a-4ae6-a73c-a8fc12f0f529",
   "metadata": {},
   "outputs": [
    {
     "name": "stdout",
     "output_type": "stream",
     "text": [
      "working on: depth_5_hf_0.0_std_0.0_extr_0.0001 \n",
      "0.20382852973507734\n",
      "working on: depth_5_hf_0.0_std_0.2_extr_0.0001 \n",
      "0.20382832081204\n",
      "working on: depth_5_hf_0.0_std_0.4_extr_0.0001 \n",
      "0.20382763846374438\n",
      "working on: depth_5_hf_0.0_std_0.6000000000000001_extr_0.0001 \n",
      "0.20382697079737738\n",
      "working on: depth_5_hf_0.0_std_0.8_extr_0.0001 \n",
      "0.20382660625062682\n",
      "working on: depth_5_hf_0.2_std_0.0_extr_0.0001 \n",
      "0.2038419863769556\n",
      "working on: depth_5_hf_0.2_std_0.2_extr_0.0001 \n",
      "0.2038416610680632\n",
      "working on: depth_5_hf_0.2_std_0.4_extr_0.0001 \n",
      "0.2038406212060071\n",
      "working on: depth_5_hf_0.2_std_0.6000000000000001_extr_0.0001 \n",
      "0.20383951753668916\n",
      "working on: depth_5_hf_0.2_std_0.8_extr_0.0001 \n",
      "0.20383905410053238\n",
      "working on: depth_5_hf_0.4_std_0.0_extr_0.0001 \n",
      "0.20384937287047453\n",
      "working on: depth_5_hf_0.4_std_0.2_extr_0.0001 \n",
      "0.20384895546248416\n",
      "working on: depth_5_hf_0.4_std_0.4_extr_0.0001 \n",
      "0.20384751856071437\n",
      "working on: depth_5_hf_0.4_std_0.6000000000000001_extr_0.0001 \n",
      "0.2038459750848522\n",
      "working on: depth_5_hf_0.4_std_0.8_extr_0.0001 \n",
      "0.2038454249653783\n",
      "working on: depth_5_hf_0.6000000000000001_std_0.0_extr_0.0001 \n",
      "0.2038511535966453\n",
      "working on: depth_5_hf_0.6000000000000001_std_0.2_extr_0.0001 \n",
      "0.2038508642071101\n",
      "working on: depth_5_hf_0.6000000000000001_std_0.4_extr_0.0001 \n",
      "0.20384983735901596\n",
      "working on: depth_5_hf_0.6000000000000001_std_0.6000000000000001_extr_0.0001 \n",
      "0.2038487658756143\n",
      "working on: depth_5_hf_0.6000000000000001_std_0.8_extr_0.0001 \n",
      "0.20384842612762655\n",
      "working on: depth_5_hf_0.8_std_0.0_extr_0.0001 \n",
      "0.20385214952759742\n",
      "working on: depth_5_hf_0.8_std_0.2_extr_0.0001 \n",
      "0.20385199595208167\n",
      "working on: depth_5_hf_0.8_std_0.4_extr_0.0001 \n",
      "0.20385146461323814\n",
      "working on: depth_5_hf_0.8_std_0.6000000000000001_extr_0.0001 \n",
      "0.2038509070317982\n",
      "working on: depth_5_hf_0.8_std_0.8_extr_0.0001 \n",
      "0.20385070469308517\n",
      "working on: depth_10_hf_0.0_std_0.0_extr_0.0001 \n",
      "0.09950310674543099\n",
      "working on: depth_10_hf_0.0_std_0.2_extr_0.0001 \n",
      "0.09950258546361075\n",
      "working on: depth_10_hf_0.0_std_0.4_extr_0.0001 \n",
      "0.09950076284184176\n",
      "working on: depth_10_hf_0.0_std_0.6000000000000001_extr_0.0001 \n",
      "0.09949880736460084\n",
      "working on: depth_10_hf_0.0_std_0.8_extr_0.0001 \n",
      "0.09949806002998486\n",
      "working on: depth_10_hf_0.2_std_0.0_extr_0.0001 \n",
      "0.09950984867934373\n",
      "working on: depth_10_hf_0.2_std_0.2_extr_0.0001 \n",
      "0.0995093331465249\n",
      "working on: depth_10_hf_0.2_std_0.4_extr_0.0001 \n",
      "0.09950755342505502\n",
      "working on: depth_10_hf_0.2_std_0.6000000000000001_extr_0.0001 \n",
      "0.09950563996302675\n",
      "working on: depth_10_hf_0.2_std_0.8_extr_0.0001 \n",
      "0.09950499342254288\n",
      "working on: depth_10_hf_0.4_std_0.0_extr_0.0001 \n",
      "0.09951310845313022\n",
      "working on: depth_10_hf_0.4_std_0.2_extr_0.0001 \n",
      "0.09951264205861056\n",
      "working on: depth_10_hf_0.4_std_0.4_extr_0.0001 \n",
      "0.09951100095274303\n",
      "working on: depth_10_hf_0.4_std_0.6000000000000001_extr_0.0001 \n",
      "0.0995092521349116\n",
      "working on: depth_10_hf_0.4_std_0.8_extr_0.0001 \n",
      "0.09950867876322102\n",
      "working on: depth_10_hf_0.6000000000000001_std_0.0_extr_0.0001 \n",
      "0.09951385950775944\n",
      "working on: depth_10_hf_0.6000000000000001_std_0.2_extr_0.0001 \n",
      "0.0995135458112409\n",
      "working on: depth_10_hf_0.6000000000000001_std_0.4_extr_0.0001 \n",
      "0.09951242817242573\n",
      "working on: depth_10_hf_0.6000000000000001_std_0.6000000000000001_extr_0.0001 \n",
      "0.09951121462298415\n",
      "working on: depth_10_hf_0.6000000000000001_std_0.8_extr_0.0001 \n",
      "0.09951083214413833\n",
      "working on: depth_10_hf_0.8_std_0.0_extr_0.0001 \n",
      "0.0995142985456486\n",
      "working on: depth_10_hf_0.8_std_0.2_extr_0.0001 \n",
      "0.09951414115468103\n",
      "working on: depth_10_hf_0.8_std_0.4_extr_0.0001 \n",
      "0.09951357296808563\n",
      "working on: depth_10_hf_0.8_std_0.6000000000000001_extr_0.0001 \n",
      "0.09951297630853422\n",
      "working on: depth_10_hf_0.8_std_0.8_extr_0.0001 \n",
      "0.09951277584392205\n",
      "working on: depth_15_hf_0.0_std_0.0_extr_0.0001 \n",
      "0.0658060815204275\n",
      "working on: depth_15_hf_0.0_std_0.2_extr_0.0001 \n",
      "0.06580545621858726\n",
      "working on: depth_15_hf_0.0_std_0.4_extr_0.0001 \n",
      "0.06580324765656935\n",
      "working on: depth_15_hf_0.0_std_0.6000000000000001_extr_0.0001 \n",
      "0.06580085850907699\n",
      "working on: depth_15_hf_0.0_std_0.8_extr_0.0001 \n",
      "0.06580004188524094\n",
      "working on: depth_15_hf_0.2_std_0.0_extr_0.0001 \n",
      "0.06581054364787992\n",
      "working on: depth_15_hf_0.2_std_0.2_extr_0.0001 \n",
      "0.06580996888805041\n",
      "working on: depth_15_hf_0.2_std_0.4_extr_0.0001 \n",
      "0.06580796910273072\n",
      "working on: depth_15_hf_0.2_std_0.6000000000000001_extr_0.0001 \n",
      "0.06580580516896062\n",
      "working on: depth_15_hf_0.2_std_0.8_extr_0.0001 \n",
      "0.06580510547851484\n",
      "working on: depth_15_hf_0.4_std_0.0_extr_0.0001 \n",
      "0.06581264075853392\n",
      "working on: depth_15_hf_0.4_std_0.2_extr_0.0001 \n",
      "0.06581216621953978\n",
      "working on: depth_15_hf_0.4_std_0.4_extr_0.0001 \n",
      "0.06581048232179353\n",
      "working on: depth_15_hf_0.4_std_0.6000000000000001_extr_0.0001 \n",
      "0.0658086702420699\n",
      "working on: depth_15_hf_0.4_std_0.8_extr_0.0001 \n",
      "0.06580805941346506\n",
      "working on: depth_15_hf_0.6000000000000001_std_0.0_extr_0.0001 \n",
      "0.06581313646289369\n",
      "working on: depth_15_hf_0.6000000000000001_std_0.2_extr_0.0001 \n",
      "0.06581281176561055\n",
      "working on: depth_15_hf_0.6000000000000001_std_0.4_extr_0.0001 \n",
      "0.06581165600800021\n",
      "working on: depth_15_hf_0.6000000000000001_std_0.6000000000000001_extr_0.0001 \n",
      "0.0658104164699208\n",
      "working on: depth_15_hf_0.6000000000000001_std_0.8_extr_0.0001 \n",
      "0.06581002641948062\n",
      "working on: depth_15_hf_0.8_std_0.0_extr_0.0001 \n",
      "0.06581339835332459\n",
      "working on: depth_15_hf_0.8_std_0.2_extr_0.0001 \n",
      "0.06581323438560062\n",
      "working on: depth_15_hf_0.8_std_0.4_extr_0.0001 \n",
      "0.06581265431006021\n",
      "working on: depth_15_hf_0.8_std_0.6000000000000001_extr_0.0001 \n",
      "0.06581202258911059\n",
      "working on: depth_15_hf_0.8_std_0.8_extr_0.0001 \n",
      "0.06581183188819269\n",
      "working on: depth_20_hf_0.0_std_0.0_extr_0.0001 \n",
      "0.04915968471075987\n",
      "working on: depth_20_hf_0.0_std_0.2_extr_0.0001 \n",
      "0.04915901108779831\n",
      "working on: depth_20_hf_0.0_std_0.4_extr_0.0001 \n",
      "0.04915662476854296\n",
      "working on: depth_20_hf_0.0_std_0.6000000000000001_extr_0.0001 \n",
      "0.04915403346917324\n",
      "working on: depth_20_hf_0.0_std_0.8_extr_0.0001 \n",
      "0.049153172134397724\n",
      "working on: depth_20_hf_0.2_std_0.0_extr_0.0001 \n",
      "0.04916301957962759\n",
      "working on: depth_20_hf_0.2_std_0.2_extr_0.0001 \n",
      "0.049162427687040045\n",
      "working on: depth_20_hf_0.2_std_0.4_extr_0.0001 \n",
      "0.049160349427945456\n",
      "working on: depth_20_hf_0.2_std_0.6000000000000001_extr_0.0001 \n",
      "0.04915811054597104\n",
      "working on: depth_20_hf_0.2_std_0.8_extr_0.0001 \n",
      "0.04915733116902388\n",
      "working on: depth_20_hf_0.4_std_0.0_extr_0.0001 \n",
      "0.04916456748869851\n",
      "working on: depth_20_hf_0.4_std_0.2_extr_0.0001 \n",
      "0.04916409154812113\n",
      "working on: depth_20_hf_0.4_std_0.4_extr_0.0001 \n",
      "0.04916238373372482\n",
      "working on: depth_20_hf_0.4_std_0.6000000000000001_extr_0.0001 \n"
     ]
    }
   ],
   "source": [
    "exr_R = [0.0001,1,10000]\n",
    "depths = np.arange(5,50,5)\n",
    "for exr in exr_R:\n",
    "    for dep in depths:\n",
    "        for h in np.arange(0,0.9,0.2):\n",
    "            for std in np.arange(0,0.9,0.2):\n",
    "                print(f'working on: depth_{dep}_hf_{h}_std_{std}_extr_{exr} ')\n",
    "                ratio(dep,h,std,exr)\n",
    "\n",
    "r1 = pd.DataFrame(r_out).to_csv(f'/home/shardul/arvind/resistances_test_rout.csv')\n",
    "r2 = pd.DataFrame(r_ip).to_csv(f'/home/shardul/arvind/resistances_test_rip.csv')\n",
    "r3 = pd.DataFrame(rat).to_csv(f'/home/shardul/arvind/resistances_test_ratio.csv')\n",
    "\n"
   ]
  },
  {
   "cell_type": "code",
   "execution_count": 31,
   "id": "4556311e-b865-4bfa-a3ac-5e64019433f1",
   "metadata": {},
   "outputs": [],
   "source": [
    "r1"
   ]
  },
  {
   "cell_type": "code",
   "execution_count": 55,
   "id": "84d8e51e-2ca3-4cc6-843b-20e57d7ea13c",
   "metadata": {},
   "outputs": [
    {
     "name": "stdout",
     "output_type": "stream",
     "text": [
      "lead_0.0001_hotspot_0.10_std_0.00\n",
      "lead_0.0001_hotspot_0.10_std_0.10\n",
      "lead_0.0001_hotspot_0.10_std_0.20\n",
      "lead_0.0001_hotspot_0.10_std_0.30\n",
      "lead_0.0001_hotspot_0.10_std_0.40\n",
      "lead_0.0001_hotspot_0.10_std_0.50\n",
      "lead_0.0001_hotspot_0.10_std_0.60\n",
      "lead_0.0001_hotspot_0.10_std_0.70\n",
      "lead_0.0001_hotspot_0.10_std_0.80\n",
      "lead_0.0001_hotspot_0.10_std_0.90\n",
      "lead_0.0001_hotspot_0.20_std_0.00\n",
      "lead_0.0001_hotspot_0.20_std_0.10\n",
      "lead_0.0001_hotspot_0.20_std_0.20\n",
      "lead_0.0001_hotspot_0.20_std_0.30\n",
      "lead_0.0001_hotspot_0.20_std_0.40\n",
      "lead_0.0001_hotspot_0.20_std_0.50\n",
      "lead_0.0001_hotspot_0.20_std_0.60\n",
      "lead_0.0001_hotspot_0.20_std_0.70\n",
      "lead_0.0001_hotspot_0.20_std_0.80\n",
      "lead_0.0001_hotspot_0.20_std_0.90\n",
      "lead_0.0001_hotspot_0.30_std_0.00\n",
      "lead_0.0001_hotspot_0.30_std_0.10\n",
      "lead_0.0001_hotspot_0.30_std_0.20\n",
      "lead_0.0001_hotspot_0.30_std_0.30\n",
      "lead_0.0001_hotspot_0.30_std_0.40\n",
      "lead_0.0001_hotspot_0.30_std_0.50\n",
      "lead_0.0001_hotspot_0.30_std_0.60\n",
      "lead_0.0001_hotspot_0.30_std_0.70\n",
      "lead_0.0001_hotspot_0.30_std_0.80\n",
      "lead_0.0001_hotspot_0.30_std_0.90\n",
      "lead_0.0001_hotspot_0.40_std_0.00\n",
      "lead_0.0001_hotspot_0.40_std_0.10\n",
      "lead_0.0001_hotspot_0.40_std_0.20\n",
      "lead_0.0001_hotspot_0.40_std_0.30\n",
      "lead_0.0001_hotspot_0.40_std_0.40\n",
      "lead_0.0001_hotspot_0.40_std_0.50\n",
      "lead_0.0001_hotspot_0.40_std_0.60\n",
      "lead_0.0001_hotspot_0.40_std_0.70\n",
      "lead_0.0001_hotspot_0.40_std_0.80\n",
      "lead_0.0001_hotspot_0.40_std_0.90\n",
      "lead_0.0001_hotspot_0.50_std_0.00\n",
      "lead_0.0001_hotspot_0.50_std_0.10\n",
      "lead_0.0001_hotspot_0.50_std_0.20\n",
      "lead_0.0001_hotspot_0.50_std_0.30\n",
      "lead_0.0001_hotspot_0.50_std_0.40\n",
      "lead_0.0001_hotspot_0.50_std_0.50\n",
      "lead_0.0001_hotspot_0.50_std_0.60\n",
      "lead_0.0001_hotspot_0.50_std_0.70\n",
      "lead_0.0001_hotspot_0.50_std_0.80\n",
      "lead_0.0001_hotspot_0.50_std_0.90\n",
      "lead_0.0001_hotspot_0.60_std_0.00\n",
      "lead_0.0001_hotspot_0.60_std_0.10\n",
      "lead_0.0001_hotspot_0.60_std_0.20\n",
      "lead_0.0001_hotspot_0.60_std_0.30\n",
      "lead_0.0001_hotspot_0.60_std_0.40\n",
      "lead_0.0001_hotspot_0.60_std_0.50\n",
      "lead_0.0001_hotspot_0.60_std_0.60\n",
      "lead_0.0001_hotspot_0.60_std_0.70\n",
      "lead_0.0001_hotspot_0.60_std_0.80\n",
      "lead_0.0001_hotspot_0.60_std_0.90\n",
      "lead_0.0001_hotspot_0.70_std_0.00\n",
      "lead_0.0001_hotspot_0.70_std_0.10\n",
      "lead_0.0001_hotspot_0.70_std_0.20\n",
      "lead_0.0001_hotspot_0.70_std_0.30\n",
      "lead_0.0001_hotspot_0.70_std_0.40\n",
      "lead_0.0001_hotspot_0.70_std_0.50\n",
      "lead_0.0001_hotspot_0.70_std_0.60\n",
      "lead_0.0001_hotspot_0.70_std_0.70\n",
      "lead_0.0001_hotspot_0.70_std_0.80\n",
      "lead_0.0001_hotspot_0.70_std_0.90\n",
      "lead_1_hotspot_0.10_std_0.00\n",
      "lead_1_hotspot_0.10_std_0.10\n",
      "lead_1_hotspot_0.10_std_0.20\n",
      "lead_1_hotspot_0.10_std_0.30\n",
      "lead_1_hotspot_0.10_std_0.40\n",
      "lead_1_hotspot_0.10_std_0.50\n",
      "lead_1_hotspot_0.10_std_0.60\n",
      "lead_1_hotspot_0.10_std_0.70\n",
      "lead_1_hotspot_0.10_std_0.80\n",
      "lead_1_hotspot_0.10_std_0.90\n",
      "lead_1_hotspot_0.20_std_0.00\n",
      "lead_1_hotspot_0.20_std_0.10\n",
      "lead_1_hotspot_0.20_std_0.20\n",
      "lead_1_hotspot_0.20_std_0.30\n",
      "lead_1_hotspot_0.20_std_0.40\n",
      "lead_1_hotspot_0.20_std_0.50\n",
      "lead_1_hotspot_0.20_std_0.60\n",
      "lead_1_hotspot_0.20_std_0.70\n",
      "lead_1_hotspot_0.20_std_0.80\n",
      "lead_1_hotspot_0.20_std_0.90\n",
      "lead_1_hotspot_0.30_std_0.00\n",
      "lead_1_hotspot_0.30_std_0.10\n",
      "lead_1_hotspot_0.30_std_0.20\n",
      "lead_1_hotspot_0.30_std_0.30\n",
      "lead_1_hotspot_0.30_std_0.40\n",
      "lead_1_hotspot_0.30_std_0.50\n",
      "lead_1_hotspot_0.30_std_0.60\n",
      "lead_1_hotspot_0.30_std_0.70\n",
      "lead_1_hotspot_0.30_std_0.80\n",
      "lead_1_hotspot_0.30_std_0.90\n",
      "lead_1_hotspot_0.40_std_0.00\n"
     ]
    },
    {
     "name": "stderr",
     "output_type": "stream",
     "text": [
      "/tmp/ipykernel_45563/347217416.py:7: PerformanceWarning: DataFrame is highly fragmented.  This is usually the result of calling `frame.insert` many times, which has poor performance.  Consider joining all columns at once using pd.concat(axis=1) instead. To get a de-fragmented frame, use `newframe = frame.copy()`\n",
      "  df[name] = [ratio(x, h, std,r) for x in depths]  # Consider vectorizing ratio function\n"
     ]
    },
    {
     "name": "stdout",
     "output_type": "stream",
     "text": [
      "lead_1_hotspot_0.40_std_0.10\n"
     ]
    },
    {
     "name": "stderr",
     "output_type": "stream",
     "text": [
      "/tmp/ipykernel_45563/347217416.py:7: PerformanceWarning: DataFrame is highly fragmented.  This is usually the result of calling `frame.insert` many times, which has poor performance.  Consider joining all columns at once using pd.concat(axis=1) instead. To get a de-fragmented frame, use `newframe = frame.copy()`\n",
      "  df[name] = [ratio(x, h, std,r) for x in depths]  # Consider vectorizing ratio function\n"
     ]
    },
    {
     "name": "stdout",
     "output_type": "stream",
     "text": [
      "lead_1_hotspot_0.40_std_0.20\n"
     ]
    },
    {
     "name": "stderr",
     "output_type": "stream",
     "text": [
      "/tmp/ipykernel_45563/347217416.py:7: PerformanceWarning: DataFrame is highly fragmented.  This is usually the result of calling `frame.insert` many times, which has poor performance.  Consider joining all columns at once using pd.concat(axis=1) instead. To get a de-fragmented frame, use `newframe = frame.copy()`\n",
      "  df[name] = [ratio(x, h, std,r) for x in depths]  # Consider vectorizing ratio function\n"
     ]
    },
    {
     "name": "stdout",
     "output_type": "stream",
     "text": [
      "lead_1_hotspot_0.40_std_0.30\n"
     ]
    },
    {
     "name": "stderr",
     "output_type": "stream",
     "text": [
      "/tmp/ipykernel_45563/347217416.py:7: PerformanceWarning: DataFrame is highly fragmented.  This is usually the result of calling `frame.insert` many times, which has poor performance.  Consider joining all columns at once using pd.concat(axis=1) instead. To get a de-fragmented frame, use `newframe = frame.copy()`\n",
      "  df[name] = [ratio(x, h, std,r) for x in depths]  # Consider vectorizing ratio function\n"
     ]
    },
    {
     "name": "stdout",
     "output_type": "stream",
     "text": [
      "lead_1_hotspot_0.40_std_0.40\n"
     ]
    },
    {
     "name": "stderr",
     "output_type": "stream",
     "text": [
      "/tmp/ipykernel_45563/347217416.py:7: PerformanceWarning: DataFrame is highly fragmented.  This is usually the result of calling `frame.insert` many times, which has poor performance.  Consider joining all columns at once using pd.concat(axis=1) instead. To get a de-fragmented frame, use `newframe = frame.copy()`\n",
      "  df[name] = [ratio(x, h, std,r) for x in depths]  # Consider vectorizing ratio function\n"
     ]
    },
    {
     "name": "stdout",
     "output_type": "stream",
     "text": [
      "lead_1_hotspot_0.40_std_0.50\n"
     ]
    },
    {
     "name": "stderr",
     "output_type": "stream",
     "text": [
      "/tmp/ipykernel_45563/347217416.py:7: PerformanceWarning: DataFrame is highly fragmented.  This is usually the result of calling `frame.insert` many times, which has poor performance.  Consider joining all columns at once using pd.concat(axis=1) instead. To get a de-fragmented frame, use `newframe = frame.copy()`\n",
      "  df[name] = [ratio(x, h, std,r) for x in depths]  # Consider vectorizing ratio function\n"
     ]
    },
    {
     "name": "stdout",
     "output_type": "stream",
     "text": [
      "lead_1_hotspot_0.40_std_0.60\n"
     ]
    },
    {
     "name": "stderr",
     "output_type": "stream",
     "text": [
      "/tmp/ipykernel_45563/347217416.py:7: PerformanceWarning: DataFrame is highly fragmented.  This is usually the result of calling `frame.insert` many times, which has poor performance.  Consider joining all columns at once using pd.concat(axis=1) instead. To get a de-fragmented frame, use `newframe = frame.copy()`\n",
      "  df[name] = [ratio(x, h, std,r) for x in depths]  # Consider vectorizing ratio function\n"
     ]
    },
    {
     "name": "stdout",
     "output_type": "stream",
     "text": [
      "lead_1_hotspot_0.40_std_0.70\n"
     ]
    },
    {
     "name": "stderr",
     "output_type": "stream",
     "text": [
      "/tmp/ipykernel_45563/347217416.py:7: PerformanceWarning: DataFrame is highly fragmented.  This is usually the result of calling `frame.insert` many times, which has poor performance.  Consider joining all columns at once using pd.concat(axis=1) instead. To get a de-fragmented frame, use `newframe = frame.copy()`\n",
      "  df[name] = [ratio(x, h, std,r) for x in depths]  # Consider vectorizing ratio function\n"
     ]
    },
    {
     "name": "stdout",
     "output_type": "stream",
     "text": [
      "lead_1_hotspot_0.40_std_0.80\n"
     ]
    },
    {
     "name": "stderr",
     "output_type": "stream",
     "text": [
      "/tmp/ipykernel_45563/347217416.py:7: PerformanceWarning: DataFrame is highly fragmented.  This is usually the result of calling `frame.insert` many times, which has poor performance.  Consider joining all columns at once using pd.concat(axis=1) instead. To get a de-fragmented frame, use `newframe = frame.copy()`\n",
      "  df[name] = [ratio(x, h, std,r) for x in depths]  # Consider vectorizing ratio function\n"
     ]
    },
    {
     "name": "stdout",
     "output_type": "stream",
     "text": [
      "lead_1_hotspot_0.40_std_0.90\n"
     ]
    },
    {
     "name": "stderr",
     "output_type": "stream",
     "text": [
      "/tmp/ipykernel_45563/347217416.py:7: PerformanceWarning: DataFrame is highly fragmented.  This is usually the result of calling `frame.insert` many times, which has poor performance.  Consider joining all columns at once using pd.concat(axis=1) instead. To get a de-fragmented frame, use `newframe = frame.copy()`\n",
      "  df[name] = [ratio(x, h, std,r) for x in depths]  # Consider vectorizing ratio function\n"
     ]
    },
    {
     "name": "stdout",
     "output_type": "stream",
     "text": [
      "lead_1_hotspot_0.50_std_0.00\n"
     ]
    },
    {
     "name": "stderr",
     "output_type": "stream",
     "text": [
      "/tmp/ipykernel_45563/347217416.py:7: PerformanceWarning: DataFrame is highly fragmented.  This is usually the result of calling `frame.insert` many times, which has poor performance.  Consider joining all columns at once using pd.concat(axis=1) instead. To get a de-fragmented frame, use `newframe = frame.copy()`\n",
      "  df[name] = [ratio(x, h, std,r) for x in depths]  # Consider vectorizing ratio function\n"
     ]
    },
    {
     "name": "stdout",
     "output_type": "stream",
     "text": [
      "lead_1_hotspot_0.50_std_0.10\n"
     ]
    },
    {
     "name": "stderr",
     "output_type": "stream",
     "text": [
      "/tmp/ipykernel_45563/347217416.py:7: PerformanceWarning: DataFrame is highly fragmented.  This is usually the result of calling `frame.insert` many times, which has poor performance.  Consider joining all columns at once using pd.concat(axis=1) instead. To get a de-fragmented frame, use `newframe = frame.copy()`\n",
      "  df[name] = [ratio(x, h, std,r) for x in depths]  # Consider vectorizing ratio function\n"
     ]
    },
    {
     "name": "stdout",
     "output_type": "stream",
     "text": [
      "lead_1_hotspot_0.50_std_0.20\n"
     ]
    },
    {
     "name": "stderr",
     "output_type": "stream",
     "text": [
      "/tmp/ipykernel_45563/347217416.py:7: PerformanceWarning: DataFrame is highly fragmented.  This is usually the result of calling `frame.insert` many times, which has poor performance.  Consider joining all columns at once using pd.concat(axis=1) instead. To get a de-fragmented frame, use `newframe = frame.copy()`\n",
      "  df[name] = [ratio(x, h, std,r) for x in depths]  # Consider vectorizing ratio function\n"
     ]
    },
    {
     "name": "stdout",
     "output_type": "stream",
     "text": [
      "lead_1_hotspot_0.50_std_0.30\n"
     ]
    },
    {
     "name": "stderr",
     "output_type": "stream",
     "text": [
      "/tmp/ipykernel_45563/347217416.py:7: PerformanceWarning: DataFrame is highly fragmented.  This is usually the result of calling `frame.insert` many times, which has poor performance.  Consider joining all columns at once using pd.concat(axis=1) instead. To get a de-fragmented frame, use `newframe = frame.copy()`\n",
      "  df[name] = [ratio(x, h, std,r) for x in depths]  # Consider vectorizing ratio function\n"
     ]
    },
    {
     "name": "stdout",
     "output_type": "stream",
     "text": [
      "lead_1_hotspot_0.50_std_0.40\n"
     ]
    },
    {
     "name": "stderr",
     "output_type": "stream",
     "text": [
      "/tmp/ipykernel_45563/347217416.py:7: PerformanceWarning: DataFrame is highly fragmented.  This is usually the result of calling `frame.insert` many times, which has poor performance.  Consider joining all columns at once using pd.concat(axis=1) instead. To get a de-fragmented frame, use `newframe = frame.copy()`\n",
      "  df[name] = [ratio(x, h, std,r) for x in depths]  # Consider vectorizing ratio function\n"
     ]
    },
    {
     "name": "stdout",
     "output_type": "stream",
     "text": [
      "lead_1_hotspot_0.50_std_0.50\n"
     ]
    },
    {
     "name": "stderr",
     "output_type": "stream",
     "text": [
      "/tmp/ipykernel_45563/347217416.py:7: PerformanceWarning: DataFrame is highly fragmented.  This is usually the result of calling `frame.insert` many times, which has poor performance.  Consider joining all columns at once using pd.concat(axis=1) instead. To get a de-fragmented frame, use `newframe = frame.copy()`\n",
      "  df[name] = [ratio(x, h, std,r) for x in depths]  # Consider vectorizing ratio function\n"
     ]
    },
    {
     "name": "stdout",
     "output_type": "stream",
     "text": [
      "lead_1_hotspot_0.50_std_0.60\n"
     ]
    },
    {
     "name": "stderr",
     "output_type": "stream",
     "text": [
      "/tmp/ipykernel_45563/347217416.py:7: PerformanceWarning: DataFrame is highly fragmented.  This is usually the result of calling `frame.insert` many times, which has poor performance.  Consider joining all columns at once using pd.concat(axis=1) instead. To get a de-fragmented frame, use `newframe = frame.copy()`\n",
      "  df[name] = [ratio(x, h, std,r) for x in depths]  # Consider vectorizing ratio function\n"
     ]
    },
    {
     "name": "stdout",
     "output_type": "stream",
     "text": [
      "lead_1_hotspot_0.50_std_0.70\n"
     ]
    },
    {
     "name": "stderr",
     "output_type": "stream",
     "text": [
      "/tmp/ipykernel_45563/347217416.py:7: PerformanceWarning: DataFrame is highly fragmented.  This is usually the result of calling `frame.insert` many times, which has poor performance.  Consider joining all columns at once using pd.concat(axis=1) instead. To get a de-fragmented frame, use `newframe = frame.copy()`\n",
      "  df[name] = [ratio(x, h, std,r) for x in depths]  # Consider vectorizing ratio function\n"
     ]
    },
    {
     "name": "stdout",
     "output_type": "stream",
     "text": [
      "lead_1_hotspot_0.50_std_0.80\n"
     ]
    },
    {
     "name": "stderr",
     "output_type": "stream",
     "text": [
      "/tmp/ipykernel_45563/347217416.py:7: PerformanceWarning: DataFrame is highly fragmented.  This is usually the result of calling `frame.insert` many times, which has poor performance.  Consider joining all columns at once using pd.concat(axis=1) instead. To get a de-fragmented frame, use `newframe = frame.copy()`\n",
      "  df[name] = [ratio(x, h, std,r) for x in depths]  # Consider vectorizing ratio function\n"
     ]
    },
    {
     "name": "stdout",
     "output_type": "stream",
     "text": [
      "lead_1_hotspot_0.50_std_0.90\n"
     ]
    },
    {
     "name": "stderr",
     "output_type": "stream",
     "text": [
      "/tmp/ipykernel_45563/347217416.py:7: PerformanceWarning: DataFrame is highly fragmented.  This is usually the result of calling `frame.insert` many times, which has poor performance.  Consider joining all columns at once using pd.concat(axis=1) instead. To get a de-fragmented frame, use `newframe = frame.copy()`\n",
      "  df[name] = [ratio(x, h, std,r) for x in depths]  # Consider vectorizing ratio function\n"
     ]
    },
    {
     "name": "stdout",
     "output_type": "stream",
     "text": [
      "lead_1_hotspot_0.60_std_0.00\n"
     ]
    },
    {
     "name": "stderr",
     "output_type": "stream",
     "text": [
      "/tmp/ipykernel_45563/347217416.py:7: PerformanceWarning: DataFrame is highly fragmented.  This is usually the result of calling `frame.insert` many times, which has poor performance.  Consider joining all columns at once using pd.concat(axis=1) instead. To get a de-fragmented frame, use `newframe = frame.copy()`\n",
      "  df[name] = [ratio(x, h, std,r) for x in depths]  # Consider vectorizing ratio function\n"
     ]
    },
    {
     "name": "stdout",
     "output_type": "stream",
     "text": [
      "lead_1_hotspot_0.60_std_0.10\n"
     ]
    },
    {
     "name": "stderr",
     "output_type": "stream",
     "text": [
      "/tmp/ipykernel_45563/347217416.py:7: PerformanceWarning: DataFrame is highly fragmented.  This is usually the result of calling `frame.insert` many times, which has poor performance.  Consider joining all columns at once using pd.concat(axis=1) instead. To get a de-fragmented frame, use `newframe = frame.copy()`\n",
      "  df[name] = [ratio(x, h, std,r) for x in depths]  # Consider vectorizing ratio function\n"
     ]
    },
    {
     "name": "stdout",
     "output_type": "stream",
     "text": [
      "lead_1_hotspot_0.60_std_0.20\n"
     ]
    },
    {
     "name": "stderr",
     "output_type": "stream",
     "text": [
      "/tmp/ipykernel_45563/347217416.py:7: PerformanceWarning: DataFrame is highly fragmented.  This is usually the result of calling `frame.insert` many times, which has poor performance.  Consider joining all columns at once using pd.concat(axis=1) instead. To get a de-fragmented frame, use `newframe = frame.copy()`\n",
      "  df[name] = [ratio(x, h, std,r) for x in depths]  # Consider vectorizing ratio function\n"
     ]
    },
    {
     "name": "stdout",
     "output_type": "stream",
     "text": [
      "lead_1_hotspot_0.60_std_0.30\n"
     ]
    },
    {
     "name": "stderr",
     "output_type": "stream",
     "text": [
      "/tmp/ipykernel_45563/347217416.py:7: PerformanceWarning: DataFrame is highly fragmented.  This is usually the result of calling `frame.insert` many times, which has poor performance.  Consider joining all columns at once using pd.concat(axis=1) instead. To get a de-fragmented frame, use `newframe = frame.copy()`\n",
      "  df[name] = [ratio(x, h, std,r) for x in depths]  # Consider vectorizing ratio function\n"
     ]
    },
    {
     "name": "stdout",
     "output_type": "stream",
     "text": [
      "lead_1_hotspot_0.60_std_0.40\n"
     ]
    },
    {
     "name": "stderr",
     "output_type": "stream",
     "text": [
      "/tmp/ipykernel_45563/347217416.py:7: PerformanceWarning: DataFrame is highly fragmented.  This is usually the result of calling `frame.insert` many times, which has poor performance.  Consider joining all columns at once using pd.concat(axis=1) instead. To get a de-fragmented frame, use `newframe = frame.copy()`\n",
      "  df[name] = [ratio(x, h, std,r) for x in depths]  # Consider vectorizing ratio function\n"
     ]
    },
    {
     "name": "stdout",
     "output_type": "stream",
     "text": [
      "lead_1_hotspot_0.60_std_0.50\n"
     ]
    },
    {
     "name": "stderr",
     "output_type": "stream",
     "text": [
      "/tmp/ipykernel_45563/347217416.py:7: PerformanceWarning: DataFrame is highly fragmented.  This is usually the result of calling `frame.insert` many times, which has poor performance.  Consider joining all columns at once using pd.concat(axis=1) instead. To get a de-fragmented frame, use `newframe = frame.copy()`\n",
      "  df[name] = [ratio(x, h, std,r) for x in depths]  # Consider vectorizing ratio function\n"
     ]
    },
    {
     "name": "stdout",
     "output_type": "stream",
     "text": [
      "lead_1_hotspot_0.60_std_0.60\n"
     ]
    },
    {
     "name": "stderr",
     "output_type": "stream",
     "text": [
      "/tmp/ipykernel_45563/347217416.py:7: PerformanceWarning: DataFrame is highly fragmented.  This is usually the result of calling `frame.insert` many times, which has poor performance.  Consider joining all columns at once using pd.concat(axis=1) instead. To get a de-fragmented frame, use `newframe = frame.copy()`\n",
      "  df[name] = [ratio(x, h, std,r) for x in depths]  # Consider vectorizing ratio function\n"
     ]
    },
    {
     "name": "stdout",
     "output_type": "stream",
     "text": [
      "lead_1_hotspot_0.60_std_0.70\n"
     ]
    },
    {
     "name": "stderr",
     "output_type": "stream",
     "text": [
      "/tmp/ipykernel_45563/347217416.py:7: PerformanceWarning: DataFrame is highly fragmented.  This is usually the result of calling `frame.insert` many times, which has poor performance.  Consider joining all columns at once using pd.concat(axis=1) instead. To get a de-fragmented frame, use `newframe = frame.copy()`\n",
      "  df[name] = [ratio(x, h, std,r) for x in depths]  # Consider vectorizing ratio function\n"
     ]
    },
    {
     "name": "stdout",
     "output_type": "stream",
     "text": [
      "lead_1_hotspot_0.60_std_0.80\n"
     ]
    },
    {
     "name": "stderr",
     "output_type": "stream",
     "text": [
      "/tmp/ipykernel_45563/347217416.py:7: PerformanceWarning: DataFrame is highly fragmented.  This is usually the result of calling `frame.insert` many times, which has poor performance.  Consider joining all columns at once using pd.concat(axis=1) instead. To get a de-fragmented frame, use `newframe = frame.copy()`\n",
      "  df[name] = [ratio(x, h, std,r) for x in depths]  # Consider vectorizing ratio function\n"
     ]
    },
    {
     "name": "stdout",
     "output_type": "stream",
     "text": [
      "lead_1_hotspot_0.60_std_0.90\n"
     ]
    },
    {
     "name": "stderr",
     "output_type": "stream",
     "text": [
      "/tmp/ipykernel_45563/347217416.py:7: PerformanceWarning: DataFrame is highly fragmented.  This is usually the result of calling `frame.insert` many times, which has poor performance.  Consider joining all columns at once using pd.concat(axis=1) instead. To get a de-fragmented frame, use `newframe = frame.copy()`\n",
      "  df[name] = [ratio(x, h, std,r) for x in depths]  # Consider vectorizing ratio function\n"
     ]
    },
    {
     "name": "stdout",
     "output_type": "stream",
     "text": [
      "lead_1_hotspot_0.70_std_0.00\n"
     ]
    },
    {
     "name": "stderr",
     "output_type": "stream",
     "text": [
      "/tmp/ipykernel_45563/347217416.py:7: PerformanceWarning: DataFrame is highly fragmented.  This is usually the result of calling `frame.insert` many times, which has poor performance.  Consider joining all columns at once using pd.concat(axis=1) instead. To get a de-fragmented frame, use `newframe = frame.copy()`\n",
      "  df[name] = [ratio(x, h, std,r) for x in depths]  # Consider vectorizing ratio function\n"
     ]
    },
    {
     "name": "stdout",
     "output_type": "stream",
     "text": [
      "lead_1_hotspot_0.70_std_0.10\n"
     ]
    },
    {
     "name": "stderr",
     "output_type": "stream",
     "text": [
      "/tmp/ipykernel_45563/347217416.py:7: PerformanceWarning: DataFrame is highly fragmented.  This is usually the result of calling `frame.insert` many times, which has poor performance.  Consider joining all columns at once using pd.concat(axis=1) instead. To get a de-fragmented frame, use `newframe = frame.copy()`\n",
      "  df[name] = [ratio(x, h, std,r) for x in depths]  # Consider vectorizing ratio function\n"
     ]
    },
    {
     "name": "stdout",
     "output_type": "stream",
     "text": [
      "lead_1_hotspot_0.70_std_0.20\n"
     ]
    },
    {
     "name": "stderr",
     "output_type": "stream",
     "text": [
      "/tmp/ipykernel_45563/347217416.py:7: PerformanceWarning: DataFrame is highly fragmented.  This is usually the result of calling `frame.insert` many times, which has poor performance.  Consider joining all columns at once using pd.concat(axis=1) instead. To get a de-fragmented frame, use `newframe = frame.copy()`\n",
      "  df[name] = [ratio(x, h, std,r) for x in depths]  # Consider vectorizing ratio function\n"
     ]
    },
    {
     "name": "stdout",
     "output_type": "stream",
     "text": [
      "lead_1_hotspot_0.70_std_0.30\n"
     ]
    },
    {
     "name": "stderr",
     "output_type": "stream",
     "text": [
      "/tmp/ipykernel_45563/347217416.py:7: PerformanceWarning: DataFrame is highly fragmented.  This is usually the result of calling `frame.insert` many times, which has poor performance.  Consider joining all columns at once using pd.concat(axis=1) instead. To get a de-fragmented frame, use `newframe = frame.copy()`\n",
      "  df[name] = [ratio(x, h, std,r) for x in depths]  # Consider vectorizing ratio function\n"
     ]
    },
    {
     "name": "stdout",
     "output_type": "stream",
     "text": [
      "lead_1_hotspot_0.70_std_0.40\n"
     ]
    },
    {
     "name": "stderr",
     "output_type": "stream",
     "text": [
      "/tmp/ipykernel_45563/347217416.py:7: PerformanceWarning: DataFrame is highly fragmented.  This is usually the result of calling `frame.insert` many times, which has poor performance.  Consider joining all columns at once using pd.concat(axis=1) instead. To get a de-fragmented frame, use `newframe = frame.copy()`\n",
      "  df[name] = [ratio(x, h, std,r) for x in depths]  # Consider vectorizing ratio function\n"
     ]
    },
    {
     "name": "stdout",
     "output_type": "stream",
     "text": [
      "lead_1_hotspot_0.70_std_0.50\n"
     ]
    },
    {
     "name": "stderr",
     "output_type": "stream",
     "text": [
      "/tmp/ipykernel_45563/347217416.py:7: PerformanceWarning: DataFrame is highly fragmented.  This is usually the result of calling `frame.insert` many times, which has poor performance.  Consider joining all columns at once using pd.concat(axis=1) instead. To get a de-fragmented frame, use `newframe = frame.copy()`\n",
      "  df[name] = [ratio(x, h, std,r) for x in depths]  # Consider vectorizing ratio function\n"
     ]
    },
    {
     "name": "stdout",
     "output_type": "stream",
     "text": [
      "lead_1_hotspot_0.70_std_0.60\n"
     ]
    },
    {
     "name": "stderr",
     "output_type": "stream",
     "text": [
      "/tmp/ipykernel_45563/347217416.py:7: PerformanceWarning: DataFrame is highly fragmented.  This is usually the result of calling `frame.insert` many times, which has poor performance.  Consider joining all columns at once using pd.concat(axis=1) instead. To get a de-fragmented frame, use `newframe = frame.copy()`\n",
      "  df[name] = [ratio(x, h, std,r) for x in depths]  # Consider vectorizing ratio function\n"
     ]
    },
    {
     "name": "stdout",
     "output_type": "stream",
     "text": [
      "lead_1_hotspot_0.70_std_0.70\n"
     ]
    },
    {
     "name": "stderr",
     "output_type": "stream",
     "text": [
      "/tmp/ipykernel_45563/347217416.py:7: PerformanceWarning: DataFrame is highly fragmented.  This is usually the result of calling `frame.insert` many times, which has poor performance.  Consider joining all columns at once using pd.concat(axis=1) instead. To get a de-fragmented frame, use `newframe = frame.copy()`\n",
      "  df[name] = [ratio(x, h, std,r) for x in depths]  # Consider vectorizing ratio function\n"
     ]
    },
    {
     "name": "stdout",
     "output_type": "stream",
     "text": [
      "lead_1_hotspot_0.70_std_0.80\n"
     ]
    },
    {
     "name": "stderr",
     "output_type": "stream",
     "text": [
      "/tmp/ipykernel_45563/347217416.py:7: PerformanceWarning: DataFrame is highly fragmented.  This is usually the result of calling `frame.insert` many times, which has poor performance.  Consider joining all columns at once using pd.concat(axis=1) instead. To get a de-fragmented frame, use `newframe = frame.copy()`\n",
      "  df[name] = [ratio(x, h, std,r) for x in depths]  # Consider vectorizing ratio function\n"
     ]
    },
    {
     "name": "stdout",
     "output_type": "stream",
     "text": [
      "lead_1_hotspot_0.70_std_0.90\n"
     ]
    },
    {
     "name": "stderr",
     "output_type": "stream",
     "text": [
      "/tmp/ipykernel_45563/347217416.py:7: PerformanceWarning: DataFrame is highly fragmented.  This is usually the result of calling `frame.insert` many times, which has poor performance.  Consider joining all columns at once using pd.concat(axis=1) instead. To get a de-fragmented frame, use `newframe = frame.copy()`\n",
      "  df[name] = [ratio(x, h, std,r) for x in depths]  # Consider vectorizing ratio function\n"
     ]
    },
    {
     "name": "stdout",
     "output_type": "stream",
     "text": [
      "lead_10000_hotspot_0.10_std_0.00\n"
     ]
    },
    {
     "name": "stderr",
     "output_type": "stream",
     "text": [
      "/tmp/ipykernel_45563/347217416.py:7: PerformanceWarning: DataFrame is highly fragmented.  This is usually the result of calling `frame.insert` many times, which has poor performance.  Consider joining all columns at once using pd.concat(axis=1) instead. To get a de-fragmented frame, use `newframe = frame.copy()`\n",
      "  df[name] = [ratio(x, h, std,r) for x in depths]  # Consider vectorizing ratio function\n"
     ]
    },
    {
     "name": "stdout",
     "output_type": "stream",
     "text": [
      "lead_10000_hotspot_0.10_std_0.10\n"
     ]
    },
    {
     "name": "stderr",
     "output_type": "stream",
     "text": [
      "/tmp/ipykernel_45563/347217416.py:7: PerformanceWarning: DataFrame is highly fragmented.  This is usually the result of calling `frame.insert` many times, which has poor performance.  Consider joining all columns at once using pd.concat(axis=1) instead. To get a de-fragmented frame, use `newframe = frame.copy()`\n",
      "  df[name] = [ratio(x, h, std,r) for x in depths]  # Consider vectorizing ratio function\n"
     ]
    },
    {
     "name": "stdout",
     "output_type": "stream",
     "text": [
      "lead_10000_hotspot_0.10_std_0.20\n"
     ]
    },
    {
     "name": "stderr",
     "output_type": "stream",
     "text": [
      "/tmp/ipykernel_45563/347217416.py:7: PerformanceWarning: DataFrame is highly fragmented.  This is usually the result of calling `frame.insert` many times, which has poor performance.  Consider joining all columns at once using pd.concat(axis=1) instead. To get a de-fragmented frame, use `newframe = frame.copy()`\n",
      "  df[name] = [ratio(x, h, std,r) for x in depths]  # Consider vectorizing ratio function\n"
     ]
    },
    {
     "name": "stdout",
     "output_type": "stream",
     "text": [
      "lead_10000_hotspot_0.10_std_0.30\n"
     ]
    },
    {
     "name": "stderr",
     "output_type": "stream",
     "text": [
      "/tmp/ipykernel_45563/347217416.py:7: PerformanceWarning: DataFrame is highly fragmented.  This is usually the result of calling `frame.insert` many times, which has poor performance.  Consider joining all columns at once using pd.concat(axis=1) instead. To get a de-fragmented frame, use `newframe = frame.copy()`\n",
      "  df[name] = [ratio(x, h, std,r) for x in depths]  # Consider vectorizing ratio function\n"
     ]
    },
    {
     "name": "stdout",
     "output_type": "stream",
     "text": [
      "lead_10000_hotspot_0.10_std_0.40\n"
     ]
    },
    {
     "name": "stderr",
     "output_type": "stream",
     "text": [
      "/tmp/ipykernel_45563/347217416.py:7: PerformanceWarning: DataFrame is highly fragmented.  This is usually the result of calling `frame.insert` many times, which has poor performance.  Consider joining all columns at once using pd.concat(axis=1) instead. To get a de-fragmented frame, use `newframe = frame.copy()`\n",
      "  df[name] = [ratio(x, h, std,r) for x in depths]  # Consider vectorizing ratio function\n"
     ]
    },
    {
     "name": "stdout",
     "output_type": "stream",
     "text": [
      "lead_10000_hotspot_0.10_std_0.50\n"
     ]
    },
    {
     "name": "stderr",
     "output_type": "stream",
     "text": [
      "/tmp/ipykernel_45563/347217416.py:7: PerformanceWarning: DataFrame is highly fragmented.  This is usually the result of calling `frame.insert` many times, which has poor performance.  Consider joining all columns at once using pd.concat(axis=1) instead. To get a de-fragmented frame, use `newframe = frame.copy()`\n",
      "  df[name] = [ratio(x, h, std,r) for x in depths]  # Consider vectorizing ratio function\n"
     ]
    },
    {
     "name": "stdout",
     "output_type": "stream",
     "text": [
      "lead_10000_hotspot_0.10_std_0.60\n"
     ]
    },
    {
     "name": "stderr",
     "output_type": "stream",
     "text": [
      "/tmp/ipykernel_45563/347217416.py:7: PerformanceWarning: DataFrame is highly fragmented.  This is usually the result of calling `frame.insert` many times, which has poor performance.  Consider joining all columns at once using pd.concat(axis=1) instead. To get a de-fragmented frame, use `newframe = frame.copy()`\n",
      "  df[name] = [ratio(x, h, std,r) for x in depths]  # Consider vectorizing ratio function\n"
     ]
    },
    {
     "name": "stdout",
     "output_type": "stream",
     "text": [
      "lead_10000_hotspot_0.10_std_0.70\n"
     ]
    },
    {
     "name": "stderr",
     "output_type": "stream",
     "text": [
      "/tmp/ipykernel_45563/347217416.py:7: PerformanceWarning: DataFrame is highly fragmented.  This is usually the result of calling `frame.insert` many times, which has poor performance.  Consider joining all columns at once using pd.concat(axis=1) instead. To get a de-fragmented frame, use `newframe = frame.copy()`\n",
      "  df[name] = [ratio(x, h, std,r) for x in depths]  # Consider vectorizing ratio function\n"
     ]
    },
    {
     "name": "stdout",
     "output_type": "stream",
     "text": [
      "lead_10000_hotspot_0.10_std_0.80\n"
     ]
    },
    {
     "name": "stderr",
     "output_type": "stream",
     "text": [
      "/tmp/ipykernel_45563/347217416.py:7: PerformanceWarning: DataFrame is highly fragmented.  This is usually the result of calling `frame.insert` many times, which has poor performance.  Consider joining all columns at once using pd.concat(axis=1) instead. To get a de-fragmented frame, use `newframe = frame.copy()`\n",
      "  df[name] = [ratio(x, h, std,r) for x in depths]  # Consider vectorizing ratio function\n"
     ]
    },
    {
     "name": "stdout",
     "output_type": "stream",
     "text": [
      "lead_10000_hotspot_0.10_std_0.90\n"
     ]
    },
    {
     "name": "stderr",
     "output_type": "stream",
     "text": [
      "/tmp/ipykernel_45563/347217416.py:7: PerformanceWarning: DataFrame is highly fragmented.  This is usually the result of calling `frame.insert` many times, which has poor performance.  Consider joining all columns at once using pd.concat(axis=1) instead. To get a de-fragmented frame, use `newframe = frame.copy()`\n",
      "  df[name] = [ratio(x, h, std,r) for x in depths]  # Consider vectorizing ratio function\n"
     ]
    },
    {
     "name": "stdout",
     "output_type": "stream",
     "text": [
      "lead_10000_hotspot_0.20_std_0.00\n"
     ]
    },
    {
     "name": "stderr",
     "output_type": "stream",
     "text": [
      "/tmp/ipykernel_45563/347217416.py:7: PerformanceWarning: DataFrame is highly fragmented.  This is usually the result of calling `frame.insert` many times, which has poor performance.  Consider joining all columns at once using pd.concat(axis=1) instead. To get a de-fragmented frame, use `newframe = frame.copy()`\n",
      "  df[name] = [ratio(x, h, std,r) for x in depths]  # Consider vectorizing ratio function\n"
     ]
    },
    {
     "name": "stdout",
     "output_type": "stream",
     "text": [
      "lead_10000_hotspot_0.20_std_0.10\n"
     ]
    },
    {
     "name": "stderr",
     "output_type": "stream",
     "text": [
      "/tmp/ipykernel_45563/347217416.py:7: PerformanceWarning: DataFrame is highly fragmented.  This is usually the result of calling `frame.insert` many times, which has poor performance.  Consider joining all columns at once using pd.concat(axis=1) instead. To get a de-fragmented frame, use `newframe = frame.copy()`\n",
      "  df[name] = [ratio(x, h, std,r) for x in depths]  # Consider vectorizing ratio function\n"
     ]
    },
    {
     "name": "stdout",
     "output_type": "stream",
     "text": [
      "lead_10000_hotspot_0.20_std_0.20\n"
     ]
    },
    {
     "name": "stderr",
     "output_type": "stream",
     "text": [
      "/tmp/ipykernel_45563/347217416.py:7: PerformanceWarning: DataFrame is highly fragmented.  This is usually the result of calling `frame.insert` many times, which has poor performance.  Consider joining all columns at once using pd.concat(axis=1) instead. To get a de-fragmented frame, use `newframe = frame.copy()`\n",
      "  df[name] = [ratio(x, h, std,r) for x in depths]  # Consider vectorizing ratio function\n"
     ]
    },
    {
     "name": "stdout",
     "output_type": "stream",
     "text": [
      "lead_10000_hotspot_0.20_std_0.30\n"
     ]
    },
    {
     "name": "stderr",
     "output_type": "stream",
     "text": [
      "/tmp/ipykernel_45563/347217416.py:7: PerformanceWarning: DataFrame is highly fragmented.  This is usually the result of calling `frame.insert` many times, which has poor performance.  Consider joining all columns at once using pd.concat(axis=1) instead. To get a de-fragmented frame, use `newframe = frame.copy()`\n",
      "  df[name] = [ratio(x, h, std,r) for x in depths]  # Consider vectorizing ratio function\n"
     ]
    },
    {
     "name": "stdout",
     "output_type": "stream",
     "text": [
      "lead_10000_hotspot_0.20_std_0.40\n"
     ]
    },
    {
     "name": "stderr",
     "output_type": "stream",
     "text": [
      "/tmp/ipykernel_45563/347217416.py:7: PerformanceWarning: DataFrame is highly fragmented.  This is usually the result of calling `frame.insert` many times, which has poor performance.  Consider joining all columns at once using pd.concat(axis=1) instead. To get a de-fragmented frame, use `newframe = frame.copy()`\n",
      "  df[name] = [ratio(x, h, std,r) for x in depths]  # Consider vectorizing ratio function\n"
     ]
    },
    {
     "name": "stdout",
     "output_type": "stream",
     "text": [
      "lead_10000_hotspot_0.20_std_0.50\n"
     ]
    },
    {
     "name": "stderr",
     "output_type": "stream",
     "text": [
      "/tmp/ipykernel_45563/347217416.py:7: PerformanceWarning: DataFrame is highly fragmented.  This is usually the result of calling `frame.insert` many times, which has poor performance.  Consider joining all columns at once using pd.concat(axis=1) instead. To get a de-fragmented frame, use `newframe = frame.copy()`\n",
      "  df[name] = [ratio(x, h, std,r) for x in depths]  # Consider vectorizing ratio function\n"
     ]
    },
    {
     "name": "stdout",
     "output_type": "stream",
     "text": [
      "lead_10000_hotspot_0.20_std_0.60\n"
     ]
    },
    {
     "name": "stderr",
     "output_type": "stream",
     "text": [
      "/tmp/ipykernel_45563/347217416.py:7: PerformanceWarning: DataFrame is highly fragmented.  This is usually the result of calling `frame.insert` many times, which has poor performance.  Consider joining all columns at once using pd.concat(axis=1) instead. To get a de-fragmented frame, use `newframe = frame.copy()`\n",
      "  df[name] = [ratio(x, h, std,r) for x in depths]  # Consider vectorizing ratio function\n"
     ]
    },
    {
     "name": "stdout",
     "output_type": "stream",
     "text": [
      "lead_10000_hotspot_0.20_std_0.70\n"
     ]
    },
    {
     "name": "stderr",
     "output_type": "stream",
     "text": [
      "/tmp/ipykernel_45563/347217416.py:7: PerformanceWarning: DataFrame is highly fragmented.  This is usually the result of calling `frame.insert` many times, which has poor performance.  Consider joining all columns at once using pd.concat(axis=1) instead. To get a de-fragmented frame, use `newframe = frame.copy()`\n",
      "  df[name] = [ratio(x, h, std,r) for x in depths]  # Consider vectorizing ratio function\n"
     ]
    },
    {
     "name": "stdout",
     "output_type": "stream",
     "text": [
      "lead_10000_hotspot_0.20_std_0.80\n"
     ]
    },
    {
     "name": "stderr",
     "output_type": "stream",
     "text": [
      "/tmp/ipykernel_45563/347217416.py:7: PerformanceWarning: DataFrame is highly fragmented.  This is usually the result of calling `frame.insert` many times, which has poor performance.  Consider joining all columns at once using pd.concat(axis=1) instead. To get a de-fragmented frame, use `newframe = frame.copy()`\n",
      "  df[name] = [ratio(x, h, std,r) for x in depths]  # Consider vectorizing ratio function\n"
     ]
    },
    {
     "name": "stdout",
     "output_type": "stream",
     "text": [
      "lead_10000_hotspot_0.20_std_0.90\n"
     ]
    },
    {
     "name": "stderr",
     "output_type": "stream",
     "text": [
      "/tmp/ipykernel_45563/347217416.py:7: PerformanceWarning: DataFrame is highly fragmented.  This is usually the result of calling `frame.insert` many times, which has poor performance.  Consider joining all columns at once using pd.concat(axis=1) instead. To get a de-fragmented frame, use `newframe = frame.copy()`\n",
      "  df[name] = [ratio(x, h, std,r) for x in depths]  # Consider vectorizing ratio function\n"
     ]
    },
    {
     "name": "stdout",
     "output_type": "stream",
     "text": [
      "lead_10000_hotspot_0.30_std_0.00\n"
     ]
    },
    {
     "name": "stderr",
     "output_type": "stream",
     "text": [
      "/tmp/ipykernel_45563/347217416.py:7: PerformanceWarning: DataFrame is highly fragmented.  This is usually the result of calling `frame.insert` many times, which has poor performance.  Consider joining all columns at once using pd.concat(axis=1) instead. To get a de-fragmented frame, use `newframe = frame.copy()`\n",
      "  df[name] = [ratio(x, h, std,r) for x in depths]  # Consider vectorizing ratio function\n"
     ]
    },
    {
     "name": "stdout",
     "output_type": "stream",
     "text": [
      "lead_10000_hotspot_0.30_std_0.10\n"
     ]
    },
    {
     "name": "stderr",
     "output_type": "stream",
     "text": [
      "/tmp/ipykernel_45563/347217416.py:7: PerformanceWarning: DataFrame is highly fragmented.  This is usually the result of calling `frame.insert` many times, which has poor performance.  Consider joining all columns at once using pd.concat(axis=1) instead. To get a de-fragmented frame, use `newframe = frame.copy()`\n",
      "  df[name] = [ratio(x, h, std,r) for x in depths]  # Consider vectorizing ratio function\n"
     ]
    },
    {
     "name": "stdout",
     "output_type": "stream",
     "text": [
      "lead_10000_hotspot_0.30_std_0.20\n"
     ]
    },
    {
     "name": "stderr",
     "output_type": "stream",
     "text": [
      "/tmp/ipykernel_45563/347217416.py:7: PerformanceWarning: DataFrame is highly fragmented.  This is usually the result of calling `frame.insert` many times, which has poor performance.  Consider joining all columns at once using pd.concat(axis=1) instead. To get a de-fragmented frame, use `newframe = frame.copy()`\n",
      "  df[name] = [ratio(x, h, std,r) for x in depths]  # Consider vectorizing ratio function\n"
     ]
    },
    {
     "name": "stdout",
     "output_type": "stream",
     "text": [
      "lead_10000_hotspot_0.30_std_0.30\n"
     ]
    },
    {
     "name": "stderr",
     "output_type": "stream",
     "text": [
      "/tmp/ipykernel_45563/347217416.py:7: PerformanceWarning: DataFrame is highly fragmented.  This is usually the result of calling `frame.insert` many times, which has poor performance.  Consider joining all columns at once using pd.concat(axis=1) instead. To get a de-fragmented frame, use `newframe = frame.copy()`\n",
      "  df[name] = [ratio(x, h, std,r) for x in depths]  # Consider vectorizing ratio function\n"
     ]
    },
    {
     "name": "stdout",
     "output_type": "stream",
     "text": [
      "lead_10000_hotspot_0.30_std_0.40\n"
     ]
    },
    {
     "name": "stderr",
     "output_type": "stream",
     "text": [
      "/tmp/ipykernel_45563/347217416.py:7: PerformanceWarning: DataFrame is highly fragmented.  This is usually the result of calling `frame.insert` many times, which has poor performance.  Consider joining all columns at once using pd.concat(axis=1) instead. To get a de-fragmented frame, use `newframe = frame.copy()`\n",
      "  df[name] = [ratio(x, h, std,r) for x in depths]  # Consider vectorizing ratio function\n"
     ]
    },
    {
     "name": "stdout",
     "output_type": "stream",
     "text": [
      "lead_10000_hotspot_0.30_std_0.50\n"
     ]
    },
    {
     "name": "stderr",
     "output_type": "stream",
     "text": [
      "/tmp/ipykernel_45563/347217416.py:7: PerformanceWarning: DataFrame is highly fragmented.  This is usually the result of calling `frame.insert` many times, which has poor performance.  Consider joining all columns at once using pd.concat(axis=1) instead. To get a de-fragmented frame, use `newframe = frame.copy()`\n",
      "  df[name] = [ratio(x, h, std,r) for x in depths]  # Consider vectorizing ratio function\n"
     ]
    },
    {
     "name": "stdout",
     "output_type": "stream",
     "text": [
      "lead_10000_hotspot_0.30_std_0.60\n"
     ]
    },
    {
     "name": "stderr",
     "output_type": "stream",
     "text": [
      "/tmp/ipykernel_45563/347217416.py:7: PerformanceWarning: DataFrame is highly fragmented.  This is usually the result of calling `frame.insert` many times, which has poor performance.  Consider joining all columns at once using pd.concat(axis=1) instead. To get a de-fragmented frame, use `newframe = frame.copy()`\n",
      "  df[name] = [ratio(x, h, std,r) for x in depths]  # Consider vectorizing ratio function\n"
     ]
    },
    {
     "name": "stdout",
     "output_type": "stream",
     "text": [
      "lead_10000_hotspot_0.30_std_0.70\n"
     ]
    },
    {
     "name": "stderr",
     "output_type": "stream",
     "text": [
      "/tmp/ipykernel_45563/347217416.py:7: PerformanceWarning: DataFrame is highly fragmented.  This is usually the result of calling `frame.insert` many times, which has poor performance.  Consider joining all columns at once using pd.concat(axis=1) instead. To get a de-fragmented frame, use `newframe = frame.copy()`\n",
      "  df[name] = [ratio(x, h, std,r) for x in depths]  # Consider vectorizing ratio function\n"
     ]
    },
    {
     "name": "stdout",
     "output_type": "stream",
     "text": [
      "lead_10000_hotspot_0.30_std_0.80\n"
     ]
    },
    {
     "name": "stderr",
     "output_type": "stream",
     "text": [
      "/tmp/ipykernel_45563/347217416.py:7: PerformanceWarning: DataFrame is highly fragmented.  This is usually the result of calling `frame.insert` many times, which has poor performance.  Consider joining all columns at once using pd.concat(axis=1) instead. To get a de-fragmented frame, use `newframe = frame.copy()`\n",
      "  df[name] = [ratio(x, h, std,r) for x in depths]  # Consider vectorizing ratio function\n"
     ]
    },
    {
     "name": "stdout",
     "output_type": "stream",
     "text": [
      "lead_10000_hotspot_0.30_std_0.90\n"
     ]
    },
    {
     "name": "stderr",
     "output_type": "stream",
     "text": [
      "/tmp/ipykernel_45563/347217416.py:7: PerformanceWarning: DataFrame is highly fragmented.  This is usually the result of calling `frame.insert` many times, which has poor performance.  Consider joining all columns at once using pd.concat(axis=1) instead. To get a de-fragmented frame, use `newframe = frame.copy()`\n",
      "  df[name] = [ratio(x, h, std,r) for x in depths]  # Consider vectorizing ratio function\n"
     ]
    },
    {
     "name": "stdout",
     "output_type": "stream",
     "text": [
      "lead_10000_hotspot_0.40_std_0.00\n"
     ]
    },
    {
     "name": "stderr",
     "output_type": "stream",
     "text": [
      "/tmp/ipykernel_45563/347217416.py:7: PerformanceWarning: DataFrame is highly fragmented.  This is usually the result of calling `frame.insert` many times, which has poor performance.  Consider joining all columns at once using pd.concat(axis=1) instead. To get a de-fragmented frame, use `newframe = frame.copy()`\n",
      "  df[name] = [ratio(x, h, std,r) for x in depths]  # Consider vectorizing ratio function\n"
     ]
    },
    {
     "name": "stdout",
     "output_type": "stream",
     "text": [
      "lead_10000_hotspot_0.40_std_0.10\n"
     ]
    },
    {
     "name": "stderr",
     "output_type": "stream",
     "text": [
      "/tmp/ipykernel_45563/347217416.py:7: PerformanceWarning: DataFrame is highly fragmented.  This is usually the result of calling `frame.insert` many times, which has poor performance.  Consider joining all columns at once using pd.concat(axis=1) instead. To get a de-fragmented frame, use `newframe = frame.copy()`\n",
      "  df[name] = [ratio(x, h, std,r) for x in depths]  # Consider vectorizing ratio function\n"
     ]
    },
    {
     "name": "stdout",
     "output_type": "stream",
     "text": [
      "lead_10000_hotspot_0.40_std_0.20\n"
     ]
    },
    {
     "name": "stderr",
     "output_type": "stream",
     "text": [
      "/tmp/ipykernel_45563/347217416.py:7: PerformanceWarning: DataFrame is highly fragmented.  This is usually the result of calling `frame.insert` many times, which has poor performance.  Consider joining all columns at once using pd.concat(axis=1) instead. To get a de-fragmented frame, use `newframe = frame.copy()`\n",
      "  df[name] = [ratio(x, h, std,r) for x in depths]  # Consider vectorizing ratio function\n"
     ]
    },
    {
     "name": "stdout",
     "output_type": "stream",
     "text": [
      "lead_10000_hotspot_0.40_std_0.30\n"
     ]
    },
    {
     "name": "stderr",
     "output_type": "stream",
     "text": [
      "/tmp/ipykernel_45563/347217416.py:7: PerformanceWarning: DataFrame is highly fragmented.  This is usually the result of calling `frame.insert` many times, which has poor performance.  Consider joining all columns at once using pd.concat(axis=1) instead. To get a de-fragmented frame, use `newframe = frame.copy()`\n",
      "  df[name] = [ratio(x, h, std,r) for x in depths]  # Consider vectorizing ratio function\n"
     ]
    },
    {
     "name": "stdout",
     "output_type": "stream",
     "text": [
      "lead_10000_hotspot_0.40_std_0.40\n"
     ]
    },
    {
     "name": "stderr",
     "output_type": "stream",
     "text": [
      "/tmp/ipykernel_45563/347217416.py:7: PerformanceWarning: DataFrame is highly fragmented.  This is usually the result of calling `frame.insert` many times, which has poor performance.  Consider joining all columns at once using pd.concat(axis=1) instead. To get a de-fragmented frame, use `newframe = frame.copy()`\n",
      "  df[name] = [ratio(x, h, std,r) for x in depths]  # Consider vectorizing ratio function\n"
     ]
    },
    {
     "name": "stdout",
     "output_type": "stream",
     "text": [
      "lead_10000_hotspot_0.40_std_0.50\n"
     ]
    },
    {
     "name": "stderr",
     "output_type": "stream",
     "text": [
      "/tmp/ipykernel_45563/347217416.py:7: PerformanceWarning: DataFrame is highly fragmented.  This is usually the result of calling `frame.insert` many times, which has poor performance.  Consider joining all columns at once using pd.concat(axis=1) instead. To get a de-fragmented frame, use `newframe = frame.copy()`\n",
      "  df[name] = [ratio(x, h, std,r) for x in depths]  # Consider vectorizing ratio function\n"
     ]
    },
    {
     "name": "stdout",
     "output_type": "stream",
     "text": [
      "lead_10000_hotspot_0.40_std_0.60\n"
     ]
    },
    {
     "name": "stderr",
     "output_type": "stream",
     "text": [
      "/tmp/ipykernel_45563/347217416.py:7: PerformanceWarning: DataFrame is highly fragmented.  This is usually the result of calling `frame.insert` many times, which has poor performance.  Consider joining all columns at once using pd.concat(axis=1) instead. To get a de-fragmented frame, use `newframe = frame.copy()`\n",
      "  df[name] = [ratio(x, h, std,r) for x in depths]  # Consider vectorizing ratio function\n"
     ]
    },
    {
     "name": "stdout",
     "output_type": "stream",
     "text": [
      "lead_10000_hotspot_0.40_std_0.70\n"
     ]
    },
    {
     "name": "stderr",
     "output_type": "stream",
     "text": [
      "/tmp/ipykernel_45563/347217416.py:7: PerformanceWarning: DataFrame is highly fragmented.  This is usually the result of calling `frame.insert` many times, which has poor performance.  Consider joining all columns at once using pd.concat(axis=1) instead. To get a de-fragmented frame, use `newframe = frame.copy()`\n",
      "  df[name] = [ratio(x, h, std,r) for x in depths]  # Consider vectorizing ratio function\n"
     ]
    },
    {
     "name": "stdout",
     "output_type": "stream",
     "text": [
      "lead_10000_hotspot_0.40_std_0.80\n"
     ]
    },
    {
     "name": "stderr",
     "output_type": "stream",
     "text": [
      "/tmp/ipykernel_45563/347217416.py:7: PerformanceWarning: DataFrame is highly fragmented.  This is usually the result of calling `frame.insert` many times, which has poor performance.  Consider joining all columns at once using pd.concat(axis=1) instead. To get a de-fragmented frame, use `newframe = frame.copy()`\n",
      "  df[name] = [ratio(x, h, std,r) for x in depths]  # Consider vectorizing ratio function\n"
     ]
    },
    {
     "name": "stdout",
     "output_type": "stream",
     "text": [
      "lead_10000_hotspot_0.40_std_0.90\n"
     ]
    },
    {
     "name": "stderr",
     "output_type": "stream",
     "text": [
      "/tmp/ipykernel_45563/347217416.py:7: PerformanceWarning: DataFrame is highly fragmented.  This is usually the result of calling `frame.insert` many times, which has poor performance.  Consider joining all columns at once using pd.concat(axis=1) instead. To get a de-fragmented frame, use `newframe = frame.copy()`\n",
      "  df[name] = [ratio(x, h, std,r) for x in depths]  # Consider vectorizing ratio function\n"
     ]
    },
    {
     "name": "stdout",
     "output_type": "stream",
     "text": [
      "lead_10000_hotspot_0.50_std_0.00\n"
     ]
    },
    {
     "name": "stderr",
     "output_type": "stream",
     "text": [
      "/tmp/ipykernel_45563/347217416.py:7: PerformanceWarning: DataFrame is highly fragmented.  This is usually the result of calling `frame.insert` many times, which has poor performance.  Consider joining all columns at once using pd.concat(axis=1) instead. To get a de-fragmented frame, use `newframe = frame.copy()`\n",
      "  df[name] = [ratio(x, h, std,r) for x in depths]  # Consider vectorizing ratio function\n"
     ]
    },
    {
     "name": "stdout",
     "output_type": "stream",
     "text": [
      "lead_10000_hotspot_0.50_std_0.10\n"
     ]
    },
    {
     "name": "stderr",
     "output_type": "stream",
     "text": [
      "/tmp/ipykernel_45563/347217416.py:7: PerformanceWarning: DataFrame is highly fragmented.  This is usually the result of calling `frame.insert` many times, which has poor performance.  Consider joining all columns at once using pd.concat(axis=1) instead. To get a de-fragmented frame, use `newframe = frame.copy()`\n",
      "  df[name] = [ratio(x, h, std,r) for x in depths]  # Consider vectorizing ratio function\n"
     ]
    },
    {
     "name": "stdout",
     "output_type": "stream",
     "text": [
      "lead_10000_hotspot_0.50_std_0.20\n"
     ]
    },
    {
     "name": "stderr",
     "output_type": "stream",
     "text": [
      "/tmp/ipykernel_45563/347217416.py:7: PerformanceWarning: DataFrame is highly fragmented.  This is usually the result of calling `frame.insert` many times, which has poor performance.  Consider joining all columns at once using pd.concat(axis=1) instead. To get a de-fragmented frame, use `newframe = frame.copy()`\n",
      "  df[name] = [ratio(x, h, std,r) for x in depths]  # Consider vectorizing ratio function\n"
     ]
    },
    {
     "name": "stdout",
     "output_type": "stream",
     "text": [
      "lead_10000_hotspot_0.50_std_0.30\n"
     ]
    },
    {
     "name": "stderr",
     "output_type": "stream",
     "text": [
      "/tmp/ipykernel_45563/347217416.py:7: PerformanceWarning: DataFrame is highly fragmented.  This is usually the result of calling `frame.insert` many times, which has poor performance.  Consider joining all columns at once using pd.concat(axis=1) instead. To get a de-fragmented frame, use `newframe = frame.copy()`\n",
      "  df[name] = [ratio(x, h, std,r) for x in depths]  # Consider vectorizing ratio function\n"
     ]
    },
    {
     "name": "stdout",
     "output_type": "stream",
     "text": [
      "lead_10000_hotspot_0.50_std_0.40\n"
     ]
    },
    {
     "name": "stderr",
     "output_type": "stream",
     "text": [
      "/tmp/ipykernel_45563/347217416.py:7: PerformanceWarning: DataFrame is highly fragmented.  This is usually the result of calling `frame.insert` many times, which has poor performance.  Consider joining all columns at once using pd.concat(axis=1) instead. To get a de-fragmented frame, use `newframe = frame.copy()`\n",
      "  df[name] = [ratio(x, h, std,r) for x in depths]  # Consider vectorizing ratio function\n"
     ]
    },
    {
     "name": "stdout",
     "output_type": "stream",
     "text": [
      "lead_10000_hotspot_0.50_std_0.50\n"
     ]
    },
    {
     "name": "stderr",
     "output_type": "stream",
     "text": [
      "/tmp/ipykernel_45563/347217416.py:7: PerformanceWarning: DataFrame is highly fragmented.  This is usually the result of calling `frame.insert` many times, which has poor performance.  Consider joining all columns at once using pd.concat(axis=1) instead. To get a de-fragmented frame, use `newframe = frame.copy()`\n",
      "  df[name] = [ratio(x, h, std,r) for x in depths]  # Consider vectorizing ratio function\n"
     ]
    },
    {
     "name": "stdout",
     "output_type": "stream",
     "text": [
      "lead_10000_hotspot_0.50_std_0.60\n"
     ]
    },
    {
     "name": "stderr",
     "output_type": "stream",
     "text": [
      "/tmp/ipykernel_45563/347217416.py:7: PerformanceWarning: DataFrame is highly fragmented.  This is usually the result of calling `frame.insert` many times, which has poor performance.  Consider joining all columns at once using pd.concat(axis=1) instead. To get a de-fragmented frame, use `newframe = frame.copy()`\n",
      "  df[name] = [ratio(x, h, std,r) for x in depths]  # Consider vectorizing ratio function\n"
     ]
    },
    {
     "name": "stdout",
     "output_type": "stream",
     "text": [
      "lead_10000_hotspot_0.50_std_0.70\n"
     ]
    },
    {
     "name": "stderr",
     "output_type": "stream",
     "text": [
      "/tmp/ipykernel_45563/347217416.py:7: PerformanceWarning: DataFrame is highly fragmented.  This is usually the result of calling `frame.insert` many times, which has poor performance.  Consider joining all columns at once using pd.concat(axis=1) instead. To get a de-fragmented frame, use `newframe = frame.copy()`\n",
      "  df[name] = [ratio(x, h, std,r) for x in depths]  # Consider vectorizing ratio function\n"
     ]
    },
    {
     "name": "stdout",
     "output_type": "stream",
     "text": [
      "lead_10000_hotspot_0.50_std_0.80\n"
     ]
    },
    {
     "name": "stderr",
     "output_type": "stream",
     "text": [
      "/tmp/ipykernel_45563/347217416.py:7: PerformanceWarning: DataFrame is highly fragmented.  This is usually the result of calling `frame.insert` many times, which has poor performance.  Consider joining all columns at once using pd.concat(axis=1) instead. To get a de-fragmented frame, use `newframe = frame.copy()`\n",
      "  df[name] = [ratio(x, h, std,r) for x in depths]  # Consider vectorizing ratio function\n"
     ]
    },
    {
     "name": "stdout",
     "output_type": "stream",
     "text": [
      "lead_10000_hotspot_0.50_std_0.90\n"
     ]
    },
    {
     "name": "stderr",
     "output_type": "stream",
     "text": [
      "/tmp/ipykernel_45563/347217416.py:7: PerformanceWarning: DataFrame is highly fragmented.  This is usually the result of calling `frame.insert` many times, which has poor performance.  Consider joining all columns at once using pd.concat(axis=1) instead. To get a de-fragmented frame, use `newframe = frame.copy()`\n",
      "  df[name] = [ratio(x, h, std,r) for x in depths]  # Consider vectorizing ratio function\n"
     ]
    },
    {
     "name": "stdout",
     "output_type": "stream",
     "text": [
      "lead_10000_hotspot_0.60_std_0.00\n"
     ]
    },
    {
     "name": "stderr",
     "output_type": "stream",
     "text": [
      "/tmp/ipykernel_45563/347217416.py:7: PerformanceWarning: DataFrame is highly fragmented.  This is usually the result of calling `frame.insert` many times, which has poor performance.  Consider joining all columns at once using pd.concat(axis=1) instead. To get a de-fragmented frame, use `newframe = frame.copy()`\n",
      "  df[name] = [ratio(x, h, std,r) for x in depths]  # Consider vectorizing ratio function\n"
     ]
    },
    {
     "name": "stdout",
     "output_type": "stream",
     "text": [
      "lead_10000_hotspot_0.60_std_0.10\n"
     ]
    },
    {
     "name": "stderr",
     "output_type": "stream",
     "text": [
      "/tmp/ipykernel_45563/347217416.py:7: PerformanceWarning: DataFrame is highly fragmented.  This is usually the result of calling `frame.insert` many times, which has poor performance.  Consider joining all columns at once using pd.concat(axis=1) instead. To get a de-fragmented frame, use `newframe = frame.copy()`\n",
      "  df[name] = [ratio(x, h, std,r) for x in depths]  # Consider vectorizing ratio function\n"
     ]
    },
    {
     "name": "stdout",
     "output_type": "stream",
     "text": [
      "lead_10000_hotspot_0.60_std_0.20\n"
     ]
    },
    {
     "name": "stderr",
     "output_type": "stream",
     "text": [
      "/tmp/ipykernel_45563/347217416.py:7: PerformanceWarning: DataFrame is highly fragmented.  This is usually the result of calling `frame.insert` many times, which has poor performance.  Consider joining all columns at once using pd.concat(axis=1) instead. To get a de-fragmented frame, use `newframe = frame.copy()`\n",
      "  df[name] = [ratio(x, h, std,r) for x in depths]  # Consider vectorizing ratio function\n"
     ]
    },
    {
     "name": "stdout",
     "output_type": "stream",
     "text": [
      "lead_10000_hotspot_0.60_std_0.30\n"
     ]
    },
    {
     "name": "stderr",
     "output_type": "stream",
     "text": [
      "/tmp/ipykernel_45563/347217416.py:7: PerformanceWarning: DataFrame is highly fragmented.  This is usually the result of calling `frame.insert` many times, which has poor performance.  Consider joining all columns at once using pd.concat(axis=1) instead. To get a de-fragmented frame, use `newframe = frame.copy()`\n",
      "  df[name] = [ratio(x, h, std,r) for x in depths]  # Consider vectorizing ratio function\n"
     ]
    },
    {
     "name": "stdout",
     "output_type": "stream",
     "text": [
      "lead_10000_hotspot_0.60_std_0.40\n"
     ]
    },
    {
     "name": "stderr",
     "output_type": "stream",
     "text": [
      "/tmp/ipykernel_45563/347217416.py:7: PerformanceWarning: DataFrame is highly fragmented.  This is usually the result of calling `frame.insert` many times, which has poor performance.  Consider joining all columns at once using pd.concat(axis=1) instead. To get a de-fragmented frame, use `newframe = frame.copy()`\n",
      "  df[name] = [ratio(x, h, std,r) for x in depths]  # Consider vectorizing ratio function\n"
     ]
    },
    {
     "name": "stdout",
     "output_type": "stream",
     "text": [
      "lead_10000_hotspot_0.60_std_0.50\n"
     ]
    },
    {
     "name": "stderr",
     "output_type": "stream",
     "text": [
      "/tmp/ipykernel_45563/347217416.py:7: PerformanceWarning: DataFrame is highly fragmented.  This is usually the result of calling `frame.insert` many times, which has poor performance.  Consider joining all columns at once using pd.concat(axis=1) instead. To get a de-fragmented frame, use `newframe = frame.copy()`\n",
      "  df[name] = [ratio(x, h, std,r) for x in depths]  # Consider vectorizing ratio function\n"
     ]
    },
    {
     "name": "stdout",
     "output_type": "stream",
     "text": [
      "lead_10000_hotspot_0.60_std_0.60\n"
     ]
    },
    {
     "name": "stderr",
     "output_type": "stream",
     "text": [
      "/tmp/ipykernel_45563/347217416.py:7: PerformanceWarning: DataFrame is highly fragmented.  This is usually the result of calling `frame.insert` many times, which has poor performance.  Consider joining all columns at once using pd.concat(axis=1) instead. To get a de-fragmented frame, use `newframe = frame.copy()`\n",
      "  df[name] = [ratio(x, h, std,r) for x in depths]  # Consider vectorizing ratio function\n"
     ]
    },
    {
     "name": "stdout",
     "output_type": "stream",
     "text": [
      "lead_10000_hotspot_0.60_std_0.70\n"
     ]
    },
    {
     "name": "stderr",
     "output_type": "stream",
     "text": [
      "/tmp/ipykernel_45563/347217416.py:7: PerformanceWarning: DataFrame is highly fragmented.  This is usually the result of calling `frame.insert` many times, which has poor performance.  Consider joining all columns at once using pd.concat(axis=1) instead. To get a de-fragmented frame, use `newframe = frame.copy()`\n",
      "  df[name] = [ratio(x, h, std,r) for x in depths]  # Consider vectorizing ratio function\n"
     ]
    },
    {
     "name": "stdout",
     "output_type": "stream",
     "text": [
      "lead_10000_hotspot_0.60_std_0.80\n"
     ]
    },
    {
     "name": "stderr",
     "output_type": "stream",
     "text": [
      "/tmp/ipykernel_45563/347217416.py:7: PerformanceWarning: DataFrame is highly fragmented.  This is usually the result of calling `frame.insert` many times, which has poor performance.  Consider joining all columns at once using pd.concat(axis=1) instead. To get a de-fragmented frame, use `newframe = frame.copy()`\n",
      "  df[name] = [ratio(x, h, std,r) for x in depths]  # Consider vectorizing ratio function\n"
     ]
    },
    {
     "name": "stdout",
     "output_type": "stream",
     "text": [
      "lead_10000_hotspot_0.60_std_0.90\n"
     ]
    },
    {
     "name": "stderr",
     "output_type": "stream",
     "text": [
      "/tmp/ipykernel_45563/347217416.py:7: PerformanceWarning: DataFrame is highly fragmented.  This is usually the result of calling `frame.insert` many times, which has poor performance.  Consider joining all columns at once using pd.concat(axis=1) instead. To get a de-fragmented frame, use `newframe = frame.copy()`\n",
      "  df[name] = [ratio(x, h, std,r) for x in depths]  # Consider vectorizing ratio function\n"
     ]
    },
    {
     "name": "stdout",
     "output_type": "stream",
     "text": [
      "lead_10000_hotspot_0.70_std_0.00\n"
     ]
    },
    {
     "name": "stderr",
     "output_type": "stream",
     "text": [
      "/tmp/ipykernel_45563/347217416.py:7: PerformanceWarning: DataFrame is highly fragmented.  This is usually the result of calling `frame.insert` many times, which has poor performance.  Consider joining all columns at once using pd.concat(axis=1) instead. To get a de-fragmented frame, use `newframe = frame.copy()`\n",
      "  df[name] = [ratio(x, h, std,r) for x in depths]  # Consider vectorizing ratio function\n"
     ]
    },
    {
     "name": "stdout",
     "output_type": "stream",
     "text": [
      "lead_10000_hotspot_0.70_std_0.10\n"
     ]
    },
    {
     "name": "stderr",
     "output_type": "stream",
     "text": [
      "/tmp/ipykernel_45563/347217416.py:7: PerformanceWarning: DataFrame is highly fragmented.  This is usually the result of calling `frame.insert` many times, which has poor performance.  Consider joining all columns at once using pd.concat(axis=1) instead. To get a de-fragmented frame, use `newframe = frame.copy()`\n",
      "  df[name] = [ratio(x, h, std,r) for x in depths]  # Consider vectorizing ratio function\n"
     ]
    },
    {
     "name": "stdout",
     "output_type": "stream",
     "text": [
      "lead_10000_hotspot_0.70_std_0.20\n"
     ]
    },
    {
     "name": "stderr",
     "output_type": "stream",
     "text": [
      "/tmp/ipykernel_45563/347217416.py:7: PerformanceWarning: DataFrame is highly fragmented.  This is usually the result of calling `frame.insert` many times, which has poor performance.  Consider joining all columns at once using pd.concat(axis=1) instead. To get a de-fragmented frame, use `newframe = frame.copy()`\n",
      "  df[name] = [ratio(x, h, std,r) for x in depths]  # Consider vectorizing ratio function\n"
     ]
    },
    {
     "name": "stdout",
     "output_type": "stream",
     "text": [
      "lead_10000_hotspot_0.70_std_0.30\n"
     ]
    },
    {
     "name": "stderr",
     "output_type": "stream",
     "text": [
      "/tmp/ipykernel_45563/347217416.py:7: PerformanceWarning: DataFrame is highly fragmented.  This is usually the result of calling `frame.insert` many times, which has poor performance.  Consider joining all columns at once using pd.concat(axis=1) instead. To get a de-fragmented frame, use `newframe = frame.copy()`\n",
      "  df[name] = [ratio(x, h, std,r) for x in depths]  # Consider vectorizing ratio function\n"
     ]
    },
    {
     "name": "stdout",
     "output_type": "stream",
     "text": [
      "lead_10000_hotspot_0.70_std_0.40\n"
     ]
    },
    {
     "name": "stderr",
     "output_type": "stream",
     "text": [
      "/tmp/ipykernel_45563/347217416.py:7: PerformanceWarning: DataFrame is highly fragmented.  This is usually the result of calling `frame.insert` many times, which has poor performance.  Consider joining all columns at once using pd.concat(axis=1) instead. To get a de-fragmented frame, use `newframe = frame.copy()`\n",
      "  df[name] = [ratio(x, h, std,r) for x in depths]  # Consider vectorizing ratio function\n"
     ]
    },
    {
     "name": "stdout",
     "output_type": "stream",
     "text": [
      "lead_10000_hotspot_0.70_std_0.50\n"
     ]
    },
    {
     "name": "stderr",
     "output_type": "stream",
     "text": [
      "/tmp/ipykernel_45563/347217416.py:7: PerformanceWarning: DataFrame is highly fragmented.  This is usually the result of calling `frame.insert` many times, which has poor performance.  Consider joining all columns at once using pd.concat(axis=1) instead. To get a de-fragmented frame, use `newframe = frame.copy()`\n",
      "  df[name] = [ratio(x, h, std,r) for x in depths]  # Consider vectorizing ratio function\n"
     ]
    },
    {
     "name": "stdout",
     "output_type": "stream",
     "text": [
      "lead_10000_hotspot_0.70_std_0.60\n"
     ]
    },
    {
     "name": "stderr",
     "output_type": "stream",
     "text": [
      "/tmp/ipykernel_45563/347217416.py:7: PerformanceWarning: DataFrame is highly fragmented.  This is usually the result of calling `frame.insert` many times, which has poor performance.  Consider joining all columns at once using pd.concat(axis=1) instead. To get a de-fragmented frame, use `newframe = frame.copy()`\n",
      "  df[name] = [ratio(x, h, std,r) for x in depths]  # Consider vectorizing ratio function\n"
     ]
    },
    {
     "name": "stdout",
     "output_type": "stream",
     "text": [
      "lead_10000_hotspot_0.70_std_0.70\n"
     ]
    },
    {
     "name": "stderr",
     "output_type": "stream",
     "text": [
      "/tmp/ipykernel_45563/347217416.py:7: PerformanceWarning: DataFrame is highly fragmented.  This is usually the result of calling `frame.insert` many times, which has poor performance.  Consider joining all columns at once using pd.concat(axis=1) instead. To get a de-fragmented frame, use `newframe = frame.copy()`\n",
      "  df[name] = [ratio(x, h, std,r) for x in depths]  # Consider vectorizing ratio function\n"
     ]
    },
    {
     "name": "stdout",
     "output_type": "stream",
     "text": [
      "lead_10000_hotspot_0.70_std_0.80\n"
     ]
    },
    {
     "name": "stderr",
     "output_type": "stream",
     "text": [
      "/tmp/ipykernel_45563/347217416.py:7: PerformanceWarning: DataFrame is highly fragmented.  This is usually the result of calling `frame.insert` many times, which has poor performance.  Consider joining all columns at once using pd.concat(axis=1) instead. To get a de-fragmented frame, use `newframe = frame.copy()`\n",
      "  df[name] = [ratio(x, h, std,r) for x in depths]  # Consider vectorizing ratio function\n"
     ]
    },
    {
     "name": "stdout",
     "output_type": "stream",
     "text": [
      "lead_10000_hotspot_0.70_std_0.90\n",
      "Saved: /home/shardul/arvind/ca_all.csv\n"
     ]
    },
    {
     "name": "stderr",
     "output_type": "stream",
     "text": [
      "/tmp/ipykernel_45563/347217416.py:7: PerformanceWarning: DataFrame is highly fragmented.  This is usually the result of calling `frame.insert` many times, which has poor performance.  Consider joining all columns at once using pd.concat(axis=1) instead. To get a de-fragmented frame, use `newframe = frame.copy()`\n",
      "  df[name] = [ratio(x, h, std,r) for x in depths]  # Consider vectorizing ratio function\n"
     ]
    },
    {
     "data": {
      "text/html": [
       "<div>\n",
       "<style scoped>\n",
       "    .dataframe tbody tr th:only-of-type {\n",
       "        vertical-align: middle;\n",
       "    }\n",
       "\n",
       "    .dataframe tbody tr th {\n",
       "        vertical-align: top;\n",
       "    }\n",
       "\n",
       "    .dataframe thead th {\n",
       "        text-align: right;\n",
       "    }\n",
       "</style>\n",
       "<table border=\"1\" class=\"dataframe\">\n",
       "  <thead>\n",
       "    <tr style=\"text-align: right;\">\n",
       "      <th></th>\n",
       "      <th>lead_0.0001_hotspot_0.10_std_0.00</th>\n",
       "      <th>lead_0.0001_hotspot_0.10_std_0.10</th>\n",
       "      <th>lead_0.0001_hotspot_0.10_std_0.20</th>\n",
       "      <th>lead_0.0001_hotspot_0.10_std_0.30</th>\n",
       "      <th>lead_0.0001_hotspot_0.10_std_0.40</th>\n",
       "      <th>lead_0.0001_hotspot_0.10_std_0.50</th>\n",
       "      <th>lead_0.0001_hotspot_0.10_std_0.60</th>\n",
       "      <th>lead_0.0001_hotspot_0.10_std_0.70</th>\n",
       "      <th>lead_0.0001_hotspot_0.10_std_0.80</th>\n",
       "      <th>lead_0.0001_hotspot_0.10_std_0.90</th>\n",
       "      <th>...</th>\n",
       "      <th>lead_10000_hotspot_0.70_std_0.00</th>\n",
       "      <th>lead_10000_hotspot_0.70_std_0.10</th>\n",
       "      <th>lead_10000_hotspot_0.70_std_0.20</th>\n",
       "      <th>lead_10000_hotspot_0.70_std_0.30</th>\n",
       "      <th>lead_10000_hotspot_0.70_std_0.40</th>\n",
       "      <th>lead_10000_hotspot_0.70_std_0.50</th>\n",
       "      <th>lead_10000_hotspot_0.70_std_0.60</th>\n",
       "      <th>lead_10000_hotspot_0.70_std_0.70</th>\n",
       "      <th>lead_10000_hotspot_0.70_std_0.80</th>\n",
       "      <th>lead_10000_hotspot_0.70_std_0.90</th>\n",
       "    </tr>\n",
       "  </thead>\n",
       "  <tbody>\n",
       "    <tr>\n",
       "      <th>0</th>\n",
       "      <td>0.203835</td>\n",
       "      <td>0.203835</td>\n",
       "      <td>0.203835</td>\n",
       "      <td>0.203835</td>\n",
       "      <td>0.203834</td>\n",
       "      <td>0.203834</td>\n",
       "      <td>0.203834</td>\n",
       "      <td>0.203833</td>\n",
       "      <td>0.203833</td>\n",
       "      <td>0.203833</td>\n",
       "      <td>...</td>\n",
       "      <td>954.428219</td>\n",
       "      <td>952.487315</td>\n",
       "      <td>945.944802</td>\n",
       "      <td>933.140076</td>\n",
       "      <td>913.078531</td>\n",
       "      <td>890.777898</td>\n",
       "      <td>878.108034</td>\n",
       "      <td>871.833364</td>\n",
       "      <td>868.718778</td>\n",
       "      <td>869.406772</td>\n",
       "    </tr>\n",
       "    <tr>\n",
       "      <th>1</th>\n",
       "      <td>0.099506</td>\n",
       "      <td>0.099506</td>\n",
       "      <td>0.099506</td>\n",
       "      <td>0.099505</td>\n",
       "      <td>0.099504</td>\n",
       "      <td>0.099503</td>\n",
       "      <td>0.099502</td>\n",
       "      <td>0.099502</td>\n",
       "      <td>0.099502</td>\n",
       "      <td>0.099502</td>\n",
       "      <td>...</td>\n",
       "      <td>1063.265154</td>\n",
       "      <td>1060.902143</td>\n",
       "      <td>1053.636291</td>\n",
       "      <td>1039.783068</td>\n",
       "      <td>1019.500023</td>\n",
       "      <td>996.699511</td>\n",
       "      <td>980.571480</td>\n",
       "      <td>972.646155</td>\n",
       "      <td>969.952305</td>\n",
       "      <td>971.354002</td>\n",
       "    </tr>\n",
       "    <tr>\n",
       "      <th>2</th>\n",
       "      <td>0.065808</td>\n",
       "      <td>0.065808</td>\n",
       "      <td>0.065808</td>\n",
       "      <td>0.065807</td>\n",
       "      <td>0.065806</td>\n",
       "      <td>0.065804</td>\n",
       "      <td>0.065804</td>\n",
       "      <td>0.065803</td>\n",
       "      <td>0.065803</td>\n",
       "      <td>0.065803</td>\n",
       "      <td>...</td>\n",
       "      <td>1090.914440</td>\n",
       "      <td>1088.516427</td>\n",
       "      <td>1081.106695</td>\n",
       "      <td>1067.039977</td>\n",
       "      <td>1045.932282</td>\n",
       "      <td>1023.879461</td>\n",
       "      <td>1007.332044</td>\n",
       "      <td>999.031806</td>\n",
       "      <td>996.303567</td>\n",
       "      <td>998.269158</td>\n",
       "    </tr>\n",
       "    <tr>\n",
       "      <th>3</th>\n",
       "      <td>0.049161</td>\n",
       "      <td>0.049161</td>\n",
       "      <td>0.049161</td>\n",
       "      <td>0.049160</td>\n",
       "      <td>0.049159</td>\n",
       "      <td>0.049157</td>\n",
       "      <td>0.049156</td>\n",
       "      <td>0.049155</td>\n",
       "      <td>0.049155</td>\n",
       "      <td>0.049155</td>\n",
       "      <td>...</td>\n",
       "      <td>1111.372177</td>\n",
       "      <td>1108.776145</td>\n",
       "      <td>1101.083845</td>\n",
       "      <td>1086.577899</td>\n",
       "      <td>1065.271814</td>\n",
       "      <td>1042.754396</td>\n",
       "      <td>1026.403131</td>\n",
       "      <td>1017.081189</td>\n",
       "      <td>1013.910995</td>\n",
       "      <td>1014.729179</td>\n",
       "    </tr>\n",
       "    <tr>\n",
       "      <th>4</th>\n",
       "      <td>0.039238</td>\n",
       "      <td>0.039238</td>\n",
       "      <td>0.039237</td>\n",
       "      <td>0.039236</td>\n",
       "      <td>0.039235</td>\n",
       "      <td>0.039233</td>\n",
       "      <td>0.039232</td>\n",
       "      <td>0.039232</td>\n",
       "      <td>0.039232</td>\n",
       "      <td>0.039232</td>\n",
       "      <td>...</td>\n",
       "      <td>1119.071627</td>\n",
       "      <td>1116.579228</td>\n",
       "      <td>1109.031471</td>\n",
       "      <td>1094.797117</td>\n",
       "      <td>1073.388122</td>\n",
       "      <td>1051.191542</td>\n",
       "      <td>1035.026582</td>\n",
       "      <td>1025.985354</td>\n",
       "      <td>1022.627335</td>\n",
       "      <td>1024.824723</td>\n",
       "    </tr>\n",
       "    <tr>\n",
       "      <th>5</th>\n",
       "      <td>0.032649</td>\n",
       "      <td>0.032649</td>\n",
       "      <td>0.032648</td>\n",
       "      <td>0.032647</td>\n",
       "      <td>0.032646</td>\n",
       "      <td>0.032645</td>\n",
       "      <td>0.032644</td>\n",
       "      <td>0.032643</td>\n",
       "      <td>0.032643</td>\n",
       "      <td>0.032643</td>\n",
       "      <td>...</td>\n",
       "      <td>1124.630820</td>\n",
       "      <td>1122.175772</td>\n",
       "      <td>1114.663215</td>\n",
       "      <td>1100.542738</td>\n",
       "      <td>1079.535805</td>\n",
       "      <td>1057.117426</td>\n",
       "      <td>1040.261519</td>\n",
       "      <td>1030.961851</td>\n",
       "      <td>1027.487931</td>\n",
       "      <td>1029.112687</td>\n",
       "    </tr>\n",
       "    <tr>\n",
       "      <th>6</th>\n",
       "      <td>0.027956</td>\n",
       "      <td>0.027956</td>\n",
       "      <td>0.027955</td>\n",
       "      <td>0.027954</td>\n",
       "      <td>0.027953</td>\n",
       "      <td>0.027951</td>\n",
       "      <td>0.027950</td>\n",
       "      <td>0.027950</td>\n",
       "      <td>0.027950</td>\n",
       "      <td>0.027950</td>\n",
       "      <td>...</td>\n",
       "      <td>1126.342431</td>\n",
       "      <td>1123.984305</td>\n",
       "      <td>1116.591414</td>\n",
       "      <td>1102.534617</td>\n",
       "      <td>1081.475182</td>\n",
       "      <td>1059.410438</td>\n",
       "      <td>1042.892993</td>\n",
       "      <td>1033.608298</td>\n",
       "      <td>1030.649476</td>\n",
       "      <td>1032.771172</td>\n",
       "    </tr>\n",
       "    <tr>\n",
       "      <th>7</th>\n",
       "      <td>0.024443</td>\n",
       "      <td>0.024443</td>\n",
       "      <td>0.024443</td>\n",
       "      <td>0.024442</td>\n",
       "      <td>0.024440</td>\n",
       "      <td>0.024439</td>\n",
       "      <td>0.024438</td>\n",
       "      <td>0.024437</td>\n",
       "      <td>0.024437</td>\n",
       "      <td>0.024437</td>\n",
       "      <td>...</td>\n",
       "      <td>1121.823474</td>\n",
       "      <td>1119.565284</td>\n",
       "      <td>1112.329997</td>\n",
       "      <td>1098.529826</td>\n",
       "      <td>1077.943037</td>\n",
       "      <td>1056.351900</td>\n",
       "      <td>1040.736662</td>\n",
       "      <td>1031.638370</td>\n",
       "      <td>1028.988795</td>\n",
       "      <td>1030.818152</td>\n",
       "    </tr>\n",
       "    <tr>\n",
       "      <th>8</th>\n",
       "      <td>0.021715</td>\n",
       "      <td>0.021715</td>\n",
       "      <td>0.021715</td>\n",
       "      <td>0.021714</td>\n",
       "      <td>0.021712</td>\n",
       "      <td>0.021711</td>\n",
       "      <td>0.021710</td>\n",
       "      <td>0.021709</td>\n",
       "      <td>0.021709</td>\n",
       "      <td>0.021709</td>\n",
       "      <td>...</td>\n",
       "      <td>1122.405455</td>\n",
       "      <td>1120.186179</td>\n",
       "      <td>1113.030584</td>\n",
       "      <td>1099.410104</td>\n",
       "      <td>1079.125986</td>\n",
       "      <td>1057.582767</td>\n",
       "      <td>1041.703033</td>\n",
       "      <td>1032.542983</td>\n",
       "      <td>1029.971941</td>\n",
       "      <td>1032.128095</td>\n",
       "    </tr>\n",
       "    <tr>\n",
       "      <th>9</th>\n",
       "      <td>0.019536</td>\n",
       "      <td>0.019536</td>\n",
       "      <td>0.019535</td>\n",
       "      <td>0.019534</td>\n",
       "      <td>0.019533</td>\n",
       "      <td>0.019531</td>\n",
       "      <td>0.019530</td>\n",
       "      <td>0.019530</td>\n",
       "      <td>0.019529</td>\n",
       "      <td>0.019530</td>\n",
       "      <td>...</td>\n",
       "      <td>1116.943174</td>\n",
       "      <td>1114.778672</td>\n",
       "      <td>1107.714701</td>\n",
       "      <td>1094.187329</td>\n",
       "      <td>1074.051737</td>\n",
       "      <td>1052.721270</td>\n",
       "      <td>1036.558120</td>\n",
       "      <td>1027.789069</td>\n",
       "      <td>1025.668493</td>\n",
       "      <td>1027.921659</td>\n",
       "    </tr>\n",
       "    <tr>\n",
       "      <th>10</th>\n",
       "      <td>0.017754</td>\n",
       "      <td>0.017754</td>\n",
       "      <td>0.017754</td>\n",
       "      <td>0.017753</td>\n",
       "      <td>0.017751</td>\n",
       "      <td>0.017750</td>\n",
       "      <td>0.017749</td>\n",
       "      <td>0.017748</td>\n",
       "      <td>0.017748</td>\n",
       "      <td>0.017748</td>\n",
       "      <td>...</td>\n",
       "      <td>1114.087889</td>\n",
       "      <td>1111.947716</td>\n",
       "      <td>1104.946520</td>\n",
       "      <td>1091.551087</td>\n",
       "      <td>1071.521767</td>\n",
       "      <td>1050.394583</td>\n",
       "      <td>1034.635897</td>\n",
       "      <td>1025.537949</td>\n",
       "      <td>1023.064435</td>\n",
       "      <td>1025.739528</td>\n",
       "    </tr>\n",
       "  </tbody>\n",
       "</table>\n",
       "<p>11 rows × 210 columns</p>\n",
       "</div>"
      ],
      "text/plain": [
       "    lead_0.0001_hotspot_0.10_std_0.00  lead_0.0001_hotspot_0.10_std_0.10  \\\n",
       "0                            0.203835                           0.203835   \n",
       "1                            0.099506                           0.099506   \n",
       "2                            0.065808                           0.065808   \n",
       "3                            0.049161                           0.049161   \n",
       "4                            0.039238                           0.039238   \n",
       "5                            0.032649                           0.032649   \n",
       "6                            0.027956                           0.027956   \n",
       "7                            0.024443                           0.024443   \n",
       "8                            0.021715                           0.021715   \n",
       "9                            0.019536                           0.019536   \n",
       "10                           0.017754                           0.017754   \n",
       "\n",
       "    lead_0.0001_hotspot_0.10_std_0.20  lead_0.0001_hotspot_0.10_std_0.30  \\\n",
       "0                            0.203835                           0.203835   \n",
       "1                            0.099506                           0.099505   \n",
       "2                            0.065808                           0.065807   \n",
       "3                            0.049161                           0.049160   \n",
       "4                            0.039237                           0.039236   \n",
       "5                            0.032648                           0.032647   \n",
       "6                            0.027955                           0.027954   \n",
       "7                            0.024443                           0.024442   \n",
       "8                            0.021715                           0.021714   \n",
       "9                            0.019535                           0.019534   \n",
       "10                           0.017754                           0.017753   \n",
       "\n",
       "    lead_0.0001_hotspot_0.10_std_0.40  lead_0.0001_hotspot_0.10_std_0.50  \\\n",
       "0                            0.203834                           0.203834   \n",
       "1                            0.099504                           0.099503   \n",
       "2                            0.065806                           0.065804   \n",
       "3                            0.049159                           0.049157   \n",
       "4                            0.039235                           0.039233   \n",
       "5                            0.032646                           0.032645   \n",
       "6                            0.027953                           0.027951   \n",
       "7                            0.024440                           0.024439   \n",
       "8                            0.021712                           0.021711   \n",
       "9                            0.019533                           0.019531   \n",
       "10                           0.017751                           0.017750   \n",
       "\n",
       "    lead_0.0001_hotspot_0.10_std_0.60  lead_0.0001_hotspot_0.10_std_0.70  \\\n",
       "0                            0.203834                           0.203833   \n",
       "1                            0.099502                           0.099502   \n",
       "2                            0.065804                           0.065803   \n",
       "3                            0.049156                           0.049155   \n",
       "4                            0.039232                           0.039232   \n",
       "5                            0.032644                           0.032643   \n",
       "6                            0.027950                           0.027950   \n",
       "7                            0.024438                           0.024437   \n",
       "8                            0.021710                           0.021709   \n",
       "9                            0.019530                           0.019530   \n",
       "10                           0.017749                           0.017748   \n",
       "\n",
       "    lead_0.0001_hotspot_0.10_std_0.80  lead_0.0001_hotspot_0.10_std_0.90  ...  \\\n",
       "0                            0.203833                           0.203833  ...   \n",
       "1                            0.099502                           0.099502  ...   \n",
       "2                            0.065803                           0.065803  ...   \n",
       "3                            0.049155                           0.049155  ...   \n",
       "4                            0.039232                           0.039232  ...   \n",
       "5                            0.032643                           0.032643  ...   \n",
       "6                            0.027950                           0.027950  ...   \n",
       "7                            0.024437                           0.024437  ...   \n",
       "8                            0.021709                           0.021709  ...   \n",
       "9                            0.019529                           0.019530  ...   \n",
       "10                           0.017748                           0.017748  ...   \n",
       "\n",
       "    lead_10000_hotspot_0.70_std_0.00  lead_10000_hotspot_0.70_std_0.10  \\\n",
       "0                         954.428219                        952.487315   \n",
       "1                        1063.265154                       1060.902143   \n",
       "2                        1090.914440                       1088.516427   \n",
       "3                        1111.372177                       1108.776145   \n",
       "4                        1119.071627                       1116.579228   \n",
       "5                        1124.630820                       1122.175772   \n",
       "6                        1126.342431                       1123.984305   \n",
       "7                        1121.823474                       1119.565284   \n",
       "8                        1122.405455                       1120.186179   \n",
       "9                        1116.943174                       1114.778672   \n",
       "10                       1114.087889                       1111.947716   \n",
       "\n",
       "    lead_10000_hotspot_0.70_std_0.20  lead_10000_hotspot_0.70_std_0.30  \\\n",
       "0                         945.944802                        933.140076   \n",
       "1                        1053.636291                       1039.783068   \n",
       "2                        1081.106695                       1067.039977   \n",
       "3                        1101.083845                       1086.577899   \n",
       "4                        1109.031471                       1094.797117   \n",
       "5                        1114.663215                       1100.542738   \n",
       "6                        1116.591414                       1102.534617   \n",
       "7                        1112.329997                       1098.529826   \n",
       "8                        1113.030584                       1099.410104   \n",
       "9                        1107.714701                       1094.187329   \n",
       "10                       1104.946520                       1091.551087   \n",
       "\n",
       "    lead_10000_hotspot_0.70_std_0.40  lead_10000_hotspot_0.70_std_0.50  \\\n",
       "0                         913.078531                        890.777898   \n",
       "1                        1019.500023                        996.699511   \n",
       "2                        1045.932282                       1023.879461   \n",
       "3                        1065.271814                       1042.754396   \n",
       "4                        1073.388122                       1051.191542   \n",
       "5                        1079.535805                       1057.117426   \n",
       "6                        1081.475182                       1059.410438   \n",
       "7                        1077.943037                       1056.351900   \n",
       "8                        1079.125986                       1057.582767   \n",
       "9                        1074.051737                       1052.721270   \n",
       "10                       1071.521767                       1050.394583   \n",
       "\n",
       "    lead_10000_hotspot_0.70_std_0.60  lead_10000_hotspot_0.70_std_0.70  \\\n",
       "0                         878.108034                        871.833364   \n",
       "1                         980.571480                        972.646155   \n",
       "2                        1007.332044                        999.031806   \n",
       "3                        1026.403131                       1017.081189   \n",
       "4                        1035.026582                       1025.985354   \n",
       "5                        1040.261519                       1030.961851   \n",
       "6                        1042.892993                       1033.608298   \n",
       "7                        1040.736662                       1031.638370   \n",
       "8                        1041.703033                       1032.542983   \n",
       "9                        1036.558120                       1027.789069   \n",
       "10                       1034.635897                       1025.537949   \n",
       "\n",
       "    lead_10000_hotspot_0.70_std_0.80  lead_10000_hotspot_0.70_std_0.90  \n",
       "0                         868.718778                        869.406772  \n",
       "1                         969.952305                        971.354002  \n",
       "2                         996.303567                        998.269158  \n",
       "3                        1013.910995                       1014.729179  \n",
       "4                        1022.627335                       1024.824723  \n",
       "5                        1027.487931                       1029.112687  \n",
       "6                        1030.649476                       1032.771172  \n",
       "7                        1028.988795                       1030.818152  \n",
       "8                        1029.971941                       1032.128095  \n",
       "9                        1025.668493                       1027.921659  \n",
       "10                       1023.064435                       1025.739528  \n",
       "\n",
       "[11 rows x 210 columns]"
      ]
     },
     "execution_count": 55,
     "metadata": {},
     "output_type": "execute_result"
    }
   ],
   "source": [
    "def plot():\n",
    "    for r in exr_R:\n",
    "        for h in np.arange(0.1, 0.8, 0.1):\n",
    "            for std in np.arange(0.0, 1, 0.1):\n",
    "                name = f'lead_{r}_hotspot_{h:2.2f}_std_{std:2.2f}'\n",
    "                print(name)\n",
    "                df[name] = [ratio(x, h, std,r) for x in depths]  # Consider vectorizing ratio function\n",
    "    df.to_csv(f'/home/shardul/arvind/ca_all.csv', index=False)\n",
    "    #print(f'Saved: /home/shardul/arvind/ca_all.csv')\n",
    "    return df  # Return the final dataframe of the last iteration if needed\n",
    "\n",
    "plot()"
   ]
  },
  {
   "cell_type": "code",
   "execution_count": 57,
   "id": "83301e7b-4a7f-441f-b132-db741b2bea70",
   "metadata": {},
   "outputs": [],
   "source": [
    "df.to_csv(f'/home/shardul/arvind/ca_3.csv')"
   ]
  },
  {
   "cell_type": "code",
   "execution_count": null,
   "id": "0c5866db-982a-44ce-bcfe-d0d724eca0ae",
   "metadata": {},
   "outputs": [],
   "source": [
    "l=[]\n",
    "for h in np.arange(0.1,0.8,0.1):\n",
    "    for std in np.arange(0.2,1,0.2):\n",
    "        name = f'hotspot_{h:2.2f}_std_{std:2.2f}'\n",
    "        l.append(name)\n",
    "df.columns = l\n",
    "df.head()"
   ]
  },
  {
   "cell_type": "code",
   "execution_count": 75,
   "id": "2b025e3b-31d5-4500-ab9e-786cd1946c6d",
   "metadata": {},
   "outputs": [
    {
     "data": {
      "image/png": "[encoded data removed]",
      "text/plain": [
       "<Figure size 640x480 with 1 Axes>"
      ]
     },
     "metadata": {},
     "output_type": "display_data"
    }
   ],
   "source": [
    "for std in np.arange(0.1,0.8,0.1):\n",
    "    plt.plot(depths,df[f'lead_10000_hotspot_{std:2.2f}_std_{0.1:2.2f}'],label=f'{std:2.2f}')\n",
    "plt.legend()\n",
    "plt.xlabel('Depth')\n",
    "plt.ylabel('Prefactor')\n",
    "plt.title(f'for different std')\n",
    "plt.show()"
   ]
  },
  {
   "cell_type": "code",
   "execution_count": null,
   "id": "5164860f-7c67-487f-a1bf-04a9ace3ef1f",
   "metadata": {},
   "outputs": [],
   "source": [
    "plt.plot(np.arange(0,5,0.1),df[\"Rop\"],label=r'$R_{op}$')\n",
    "plt.xlabel('Std',fontsize=15)\n",
    "plt.ylabel(r'$R_{op}$',fontsize=15)\n",
    "plt.title(r'$R_{\\mu} = 10$, # of flakes = 1600,# of in plane = 16',fontsize=15)\n",
    "plt.grid(True)\n"
   ]
  },
  {
   "cell_type": "code",
   "execution_count": null,
   "id": "9ea58449-f464-40cb-98ab-6e4c8f273469",
   "metadata": {},
   "outputs": [],
   "source": [
    "plt.plot(np.arange(0,5,0.1),df[\"Rip\"],label=r'$R_{ip}$')\n",
    "plt.xlabel('Std',fontsize=15)\n",
    "plt.ylabel(r'$R_{ip}$',fontsize=15)\n",
    "plt.title(r'$R_{\\mu} = 10$, # of flakes = 1600,# of in plane = 16',fontsize=15)\n",
    "plt.grid(True)\n"
   ]
  },
  {
   "cell_type": "code",
   "execution_count": null,
   "id": "c887938c-1211-4c04-93eb-16f4ee799b67",
   "metadata": {},
   "outputs": [],
   "source": [
    "plt.plot(np.arange(0, 5, 0.1), df[\"ratio\"], label=r'$\\frac{R_{op}}{R_{ip}}$')\n",
    "plt.xlabel('Std',fontsize=15)\n",
    "plt.ylabel(r'$\\frac{R_{op}}{R_{ip}}$',fontsize=15)\n",
    "plt.grid(True)\n"
   ]
  },
  {
   "cell_type": "code",
   "execution_count": null,
   "id": "516d9914-83b6-4f5a-8fd9-e49f2bc20233",
   "metadata": {},
   "outputs": [],
   "source": [
    "def ratio_1(depth, h, std):\n",
    "    R_o = R(1,depth,h,std)\n",
    "    R_i = R_ip(1,depth,h,std)\n",
    "    return (R_o/R_i) * (4.0/depth**2)"
   ]
  },
  {
   "cell_type": "code",
   "execution_count": null,
   "id": "f7a2556d-4122-478c-8299-60d77f37f92f",
   "metadata": {},
   "outputs": [],
   "source": [
    "ratio_1(50,0.2,0)"
   ]
  },
  {
   "cell_type": "code",
   "execution_count": null,
   "id": "a4b53ff7-dda3-4df6-86e4-4b394bfee0ef",
   "metadata": {},
   "outputs": [],
   "source": [
    "MI1,a1,b1,cap_values1 = matrix_interactions_ip(1,2, 0.2, 0)\n",
    "MI2,a2,b2,cap_values2 = matrix_interactions(1,2, 0.2, 0)"
   ]
  },
  {
   "cell_type": "code",
   "execution_count": null,
   "id": "67e2ffec-096c-4d46-9d28-1c6199e9fe46",
   "metadata": {},
   "outputs": [],
   "source": [
    "np.round(cap_values2,3)"
   ]
  },
  {
   "cell_type": "code",
   "execution_count": null,
   "id": "eaca37bb-e096-49f9-b9ff-39f67a44ef18",
   "metadata": {},
   "outputs": [],
   "source": [
    "np.round(cap_values1,3)"
   ]
  },
  {
   "cell_type": "code",
   "execution_count": null,
   "id": "a91c332b-8684-4c81-94d8-7f9c6c55a6d9",
   "metadata": {},
   "outputs": [],
   "source": [
    "df.to_csv(f'/home/shardul/arvind/ca.csv')"
   ]
  },
  {
   "cell_type": "code",
   "execution_count": null,
   "id": "d1993ae2-4941-4673-a18c-40d7c56ab8c5",
   "metadata": {},
   "outputs": [],
   "source": [
    "def matrix_interactions(seed, depth, h, std):\n",
    "\n",
    "    grid,a,b = create_3d_graph(4, seed, depth)\n",
    "    num_edges = grid.number_of_edges()\n",
    "    nodes = grid.number_of_nodes()\n",
    "\n",
    "    h= int(h * num_edges)\n",
    "\n",
    "    cap_values = np.abs(1 * np.concatenate((generate_random_values(1, std, seed, num_edges-h),generate_random_values(1, 0, seed, h)))) \n",
    "    np.random.shuffle(cap_values)\n",
    "    interactions = 1 / cap_values\n",
    "    #print(cap_values)\n",
    "\n",
    "    adjM = sc.lil_matrix((nodes, nodes))\n",
    "\n",
    "    xxx = list(grid.edges())\n",
    "    #print(xxx)\n",
    "    indexlist=[]\n",
    "    for edge_idx, (i,j) in enumerate(xxx):\n",
    "        if i == a or j == a or i == b or j == b:\n",
    "            indexlist.append([i,j])\n",
    "    \n",
    "\n",
    "    return indexlist#,a,b"
   ]
  },
  {
   "cell_type": "code",
   "execution_count": null,
   "id": "c4306277-b0c9-48b5-adcf-7a7a0082d203",
   "metadata": {},
   "outputs": [],
   "source": [
    "matrix_interactions(1,2,0,0)"
   ]
  },
  {
   "cell_type": "code",
   "execution_count": null,
   "id": "d2dcc1ef-fb47-4673-b653-769a6eeb1f1b",
   "metadata": {},
   "outputs": [],
   "source": []
  }
 ],
 "metadata": {
  "kernelspec": {
   "display_name": "Python 3 (ipykernel)",
   "language": "python",
   "name": "python3"
  },
  "language_info": {
   "codemirror_mode": {
    "name": "ipython",
    "version": 3
   },
   "file_extension": ".py",
   "mimetype": "text/x-python",
   "name": "python",
   "nbconvert_exporter": "python",
   "pygments_lexer": "ipython3",
   "version": "3.11.5"
  }
 },
 "nbformat": 4,
 "nbformat_minor": 5
}
