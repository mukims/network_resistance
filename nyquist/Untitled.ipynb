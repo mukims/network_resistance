{
 "cells": [
  {
   "cell_type": "code",
   "execution_count": 1,
   "id": "b018047b-0afe-4488-8e1b-382537656f80",
   "metadata": {},
   "outputs": [],
   "source": [
    "import pandas as pd\n",
    "import matplotlib.pyplot as plt\n",
    "import numpy as np"
   ]
  },
  {
   "cell_type": "code",
   "execution_count": 33,
   "id": "06cdb5b5-818d-401e-ace2-c3e937fa4679",
   "metadata": {},
   "outputs": [],
   "source": [
    "imp = pd.read_csv(f'/home/shardul/impedance_exp/nyquist/Impedance NbMoSe2.csv',delimiter=',')"
   ]
  },
  {
   "cell_type": "code",
   "execution_count": 35,
   "id": "a6846583-a07f-40b4-82ec-866d90fadbfc",
   "metadata": {},
   "outputs": [
    {
     "data": {
      "text/html": [
       "<div>\n",
       "<style scoped>\n",
       "    .dataframe tbody tr th:only-of-type {\n",
       "        vertical-align: middle;\n",
       "    }\n",
       "\n",
       "    .dataframe tbody tr th {\n",
       "        vertical-align: top;\n",
       "    }\n",
       "\n",
       "    .dataframe thead th {\n",
       "        text-align: right;\n",
       "    }\n",
       "</style>\n",
       "<table border=\"1\" class=\"dataframe\">\n",
       "  <thead>\n",
       "    <tr style=\"text-align: right;\">\n",
       "      <th></th>\n",
       "      <th>ang freq</th>\n",
       "      <th>ReZ</th>\n",
       "      <th>ReZ.1</th>\n",
       "      <th>ReZ.2</th>\n",
       "      <th>ReZ.3</th>\n",
       "      <th>ReZ.4</th>\n",
       "      <th>Unnamed: 6</th>\n",
       "      <th>Unnamed: 7</th>\n",
       "      <th>Unnamed: 8</th>\n",
       "    </tr>\n",
       "  </thead>\n",
       "  <tbody>\n",
       "    <tr>\n",
       "      <th>0</th>\n",
       "      <td>rad/s</td>\n",
       "      <td>NaN</td>\n",
       "      <td>NaN</td>\n",
       "      <td>NaN</td>\n",
       "      <td>NaN</td>\n",
       "      <td>NaN</td>\n",
       "      <td>NaN</td>\n",
       "      <td>Nb:MoSe2</td>\n",
       "      <td>NSJ</td>\n",
       "    </tr>\n",
       "    <tr>\n",
       "      <th>1</th>\n",
       "      <td>NaN</td>\n",
       "      <td>50um</td>\n",
       "      <td>80um</td>\n",
       "      <td>100um</td>\n",
       "      <td>150um</td>\n",
       "      <td>200um</td>\n",
       "      <td>NaN</td>\n",
       "      <td>NaN</td>\n",
       "      <td>NaN</td>\n",
       "    </tr>\n",
       "    <tr>\n",
       "      <th>2</th>\n",
       "      <td>125.66371</td>\n",
       "      <td>8.15E+07</td>\n",
       "      <td>1604003.03103</td>\n",
       "      <td>1442835.98628</td>\n",
       "      <td>1186440.61149</td>\n",
       "      <td>1917008.34594</td>\n",
       "      <td>NaN</td>\n",
       "      <td>NaN</td>\n",
       "      <td>NaN</td>\n",
       "    </tr>\n",
       "    <tr>\n",
       "      <th>3</th>\n",
       "      <td>134.92512</td>\n",
       "      <td>8.14E+07</td>\n",
       "      <td>1604286.78863</td>\n",
       "      <td>1441230.51229</td>\n",
       "      <td>1184688.58503</td>\n",
       "      <td>1913547.11387</td>\n",
       "      <td>NaN</td>\n",
       "      <td>NaN</td>\n",
       "      <td>NaN</td>\n",
       "    </tr>\n",
       "    <tr>\n",
       "      <th>4</th>\n",
       "      <td>144.86512</td>\n",
       "      <td>8.14E+07</td>\n",
       "      <td>1601221.49993</td>\n",
       "      <td>1440484.95364</td>\n",
       "      <td>1185075.77042</td>\n",
       "      <td>1910412.29689</td>\n",
       "      <td>NaN</td>\n",
       "      <td>NaN</td>\n",
       "      <td>NaN</td>\n",
       "    </tr>\n",
       "  </tbody>\n",
       "</table>\n",
       "</div>"
      ],
      "text/plain": [
       "    ang freq       ReZ          ReZ.1          ReZ.2          ReZ.3  \\\n",
       "0      rad/s       NaN            NaN            NaN            NaN   \n",
       "1        NaN      50um           80um          100um          150um   \n",
       "2  125.66371  8.15E+07  1604003.03103  1442835.98628  1186440.61149   \n",
       "3  134.92512  8.14E+07  1604286.78863  1441230.51229  1184688.58503   \n",
       "4  144.86512  8.14E+07  1601221.49993  1440484.95364  1185075.77042   \n",
       "\n",
       "           ReZ.4  Unnamed: 6 Unnamed: 7 Unnamed: 8  \n",
       "0            NaN         NaN   Nb:MoSe2        NSJ  \n",
       "1          200um         NaN        NaN        NaN  \n",
       "2  1917008.34594         NaN        NaN        NaN  \n",
       "3  1913547.11387         NaN        NaN        NaN  \n",
       "4  1910412.29689         NaN        NaN        NaN  "
      ]
     },
     "execution_count": 35,
     "metadata": {},
     "output_type": "execute_result"
    }
   ],
   "source": [
    "imp.head()"
   ]
  },
  {
   "cell_type": "code",
   "execution_count": 43,
   "id": "59868552-601f-4783-bb04-19967a5722fe",
   "metadata": {},
   "outputs": [
    {
     "data": {
      "text/html": [
       "<div>\n",
       "<style scoped>\n",
       "    .dataframe tbody tr th:only-of-type {\n",
       "        vertical-align: middle;\n",
       "    }\n",
       "\n",
       "    .dataframe tbody tr th {\n",
       "        vertical-align: top;\n",
       "    }\n",
       "\n",
       "    .dataframe thead th {\n",
       "        text-align: right;\n",
       "    }\n",
       "</style>\n",
       "<table border=\"1\" class=\"dataframe\">\n",
       "  <thead>\n",
       "    <tr style=\"text-align: right;\">\n",
       "      <th></th>\n",
       "      <th>ang freq</th>\n",
       "      <th>ReZ</th>\n",
       "      <th>ReZ.1</th>\n",
       "      <th>ReZ.2</th>\n",
       "      <th>ReZ.3</th>\n",
       "      <th>ReZ.4</th>\n",
       "    </tr>\n",
       "  </thead>\n",
       "  <tbody>\n",
       "    <tr>\n",
       "      <th>0</th>\n",
       "      <td>rad/s</td>\n",
       "      <td>NaN</td>\n",
       "      <td>NaN</td>\n",
       "      <td>NaN</td>\n",
       "      <td>NaN</td>\n",
       "      <td>NaN</td>\n",
       "    </tr>\n",
       "    <tr>\n",
       "      <th>1</th>\n",
       "      <td>NaN</td>\n",
       "      <td>50um</td>\n",
       "      <td>80um</td>\n",
       "      <td>100um</td>\n",
       "      <td>150um</td>\n",
       "      <td>200um</td>\n",
       "    </tr>\n",
       "    <tr>\n",
       "      <th>2</th>\n",
       "      <td>125.66371</td>\n",
       "      <td>8.15E+07</td>\n",
       "      <td>1604003.03103</td>\n",
       "      <td>1442835.98628</td>\n",
       "      <td>1186440.61149</td>\n",
       "      <td>1917008.34594</td>\n",
       "    </tr>\n",
       "    <tr>\n",
       "      <th>3</th>\n",
       "      <td>134.92512</td>\n",
       "      <td>8.14E+07</td>\n",
       "      <td>1604286.78863</td>\n",
       "      <td>1441230.51229</td>\n",
       "      <td>1184688.58503</td>\n",
       "      <td>1913547.11387</td>\n",
       "    </tr>\n",
       "    <tr>\n",
       "      <th>4</th>\n",
       "      <td>144.86512</td>\n",
       "      <td>8.14E+07</td>\n",
       "      <td>1601221.49993</td>\n",
       "      <td>1440484.95364</td>\n",
       "      <td>1185075.77042</td>\n",
       "      <td>1910412.29689</td>\n",
       "    </tr>\n",
       "    <tr>\n",
       "      <th>...</th>\n",
       "      <td>...</td>\n",
       "      <td>...</td>\n",
       "      <td>...</td>\n",
       "      <td>...</td>\n",
       "      <td>...</td>\n",
       "      <td>...</td>\n",
       "    </tr>\n",
       "    <tr>\n",
       "      <th>229</th>\n",
       "      <td>NaN</td>\n",
       "      <td>--</td>\n",
       "      <td>--</td>\n",
       "      <td>--</td>\n",
       "      <td>--</td>\n",
       "      <td>--</td>\n",
       "    </tr>\n",
       "    <tr>\n",
       "      <th>230</th>\n",
       "      <td>NaN</td>\n",
       "      <td>--</td>\n",
       "      <td>--</td>\n",
       "      <td>--</td>\n",
       "      <td>--</td>\n",
       "      <td>--</td>\n",
       "    </tr>\n",
       "    <tr>\n",
       "      <th>231</th>\n",
       "      <td>NaN</td>\n",
       "      <td>--</td>\n",
       "      <td>--</td>\n",
       "      <td>--</td>\n",
       "      <td>--</td>\n",
       "      <td>--</td>\n",
       "    </tr>\n",
       "    <tr>\n",
       "      <th>232</th>\n",
       "      <td>NaN</td>\n",
       "      <td>--</td>\n",
       "      <td>--</td>\n",
       "      <td>--</td>\n",
       "      <td>--</td>\n",
       "      <td>--</td>\n",
       "    </tr>\n",
       "    <tr>\n",
       "      <th>233</th>\n",
       "      <td>NaN</td>\n",
       "      <td>--</td>\n",
       "      <td>--</td>\n",
       "      <td>--</td>\n",
       "      <td>--</td>\n",
       "      <td>--</td>\n",
       "    </tr>\n",
       "  </tbody>\n",
       "</table>\n",
       "<p>234 rows × 6 columns</p>\n",
       "</div>"
      ],
      "text/plain": [
       "      ang freq       ReZ          ReZ.1          ReZ.2          ReZ.3  \\\n",
       "0        rad/s       NaN            NaN            NaN            NaN   \n",
       "1          NaN      50um           80um          100um          150um   \n",
       "2    125.66371  8.15E+07  1604003.03103  1442835.98628  1186440.61149   \n",
       "3    134.92512  8.14E+07  1604286.78863  1441230.51229  1184688.58503   \n",
       "4    144.86512  8.14E+07  1601221.49993  1440484.95364  1185075.77042   \n",
       "..         ...       ...            ...            ...            ...   \n",
       "229        NaN        --             --             --             --   \n",
       "230        NaN        --             --             --             --   \n",
       "231        NaN        --             --             --             --   \n",
       "232        NaN        --             --             --             --   \n",
       "233        NaN        --             --             --             --   \n",
       "\n",
       "             ReZ.4  \n",
       "0              NaN  \n",
       "1            200um  \n",
       "2    1917008.34594  \n",
       "3    1913547.11387  \n",
       "4    1910412.29689  \n",
       "..             ...  \n",
       "229             --  \n",
       "230             --  \n",
       "231             --  \n",
       "232             --  \n",
       "233             --  \n",
       "\n",
       "[234 rows x 6 columns]"
      ]
     },
     "execution_count": 43,
     "metadata": {},
     "output_type": "execute_result"
    }
   ],
   "source": [
    "imp.drop(columns=['Unnamed: 6','Unnamed: 7','Unnamed: 8'])"
   ]
  },
  {
   "cell_type": "code",
   "execution_count": 45,
   "id": "8d62981c-0b3b-430a-b52f-8bc5a38d78c6",
   "metadata": {},
   "outputs": [
    {
     "data": {
      "text/html": [
       "<div>\n",
       "<style scoped>\n",
       "    .dataframe tbody tr th:only-of-type {\n",
       "        vertical-align: middle;\n",
       "    }\n",
       "\n",
       "    .dataframe tbody tr th {\n",
       "        vertical-align: top;\n",
       "    }\n",
       "\n",
       "    .dataframe thead th {\n",
       "        text-align: right;\n",
       "    }\n",
       "</style>\n",
       "<table border=\"1\" class=\"dataframe\">\n",
       "  <thead>\n",
       "    <tr style=\"text-align: right;\">\n",
       "      <th></th>\n",
       "      <th>ang freq</th>\n",
       "      <th>ReZ</th>\n",
       "      <th>ReZ.1</th>\n",
       "      <th>ReZ.2</th>\n",
       "      <th>ReZ.3</th>\n",
       "      <th>ReZ.4</th>\n",
       "      <th>Unnamed: 6</th>\n",
       "      <th>Unnamed: 7</th>\n",
       "      <th>Unnamed: 8</th>\n",
       "    </tr>\n",
       "  </thead>\n",
       "  <tbody>\n",
       "    <tr>\n",
       "      <th>0</th>\n",
       "      <td>rad/s</td>\n",
       "      <td>NaN</td>\n",
       "      <td>NaN</td>\n",
       "      <td>NaN</td>\n",
       "      <td>NaN</td>\n",
       "      <td>NaN</td>\n",
       "      <td>NaN</td>\n",
       "      <td>Nb:MoSe2</td>\n",
       "      <td>NSJ</td>\n",
       "    </tr>\n",
       "    <tr>\n",
       "      <th>1</th>\n",
       "      <td>NaN</td>\n",
       "      <td>50um</td>\n",
       "      <td>80um</td>\n",
       "      <td>100um</td>\n",
       "      <td>150um</td>\n",
       "      <td>200um</td>\n",
       "      <td>NaN</td>\n",
       "      <td>NaN</td>\n",
       "      <td>NaN</td>\n",
       "    </tr>\n",
       "    <tr>\n",
       "      <th>2</th>\n",
       "      <td>125.66371</td>\n",
       "      <td>8.15E+07</td>\n",
       "      <td>1604003.03103</td>\n",
       "      <td>1442835.98628</td>\n",
       "      <td>1186440.61149</td>\n",
       "      <td>1917008.34594</td>\n",
       "      <td>NaN</td>\n",
       "      <td>NaN</td>\n",
       "      <td>NaN</td>\n",
       "    </tr>\n",
       "    <tr>\n",
       "      <th>3</th>\n",
       "      <td>134.92512</td>\n",
       "      <td>8.14E+07</td>\n",
       "      <td>1604286.78863</td>\n",
       "      <td>1441230.51229</td>\n",
       "      <td>1184688.58503</td>\n",
       "      <td>1913547.11387</td>\n",
       "      <td>NaN</td>\n",
       "      <td>NaN</td>\n",
       "      <td>NaN</td>\n",
       "    </tr>\n",
       "    <tr>\n",
       "      <th>4</th>\n",
       "      <td>144.86512</td>\n",
       "      <td>8.14E+07</td>\n",
       "      <td>1601221.49993</td>\n",
       "      <td>1440484.95364</td>\n",
       "      <td>1185075.77042</td>\n",
       "      <td>1910412.29689</td>\n",
       "      <td>NaN</td>\n",
       "      <td>NaN</td>\n",
       "      <td>NaN</td>\n",
       "    </tr>\n",
       "  </tbody>\n",
       "</table>\n",
       "</div>"
      ],
      "text/plain": [
       "    ang freq       ReZ          ReZ.1          ReZ.2          ReZ.3  \\\n",
       "0      rad/s       NaN            NaN            NaN            NaN   \n",
       "1        NaN      50um           80um          100um          150um   \n",
       "2  125.66371  8.15E+07  1604003.03103  1442835.98628  1186440.61149   \n",
       "3  134.92512  8.14E+07  1604286.78863  1441230.51229  1184688.58503   \n",
       "4  144.86512  8.14E+07  1601221.49993  1440484.95364  1185075.77042   \n",
       "\n",
       "           ReZ.4  Unnamed: 6 Unnamed: 7 Unnamed: 8  \n",
       "0            NaN         NaN   Nb:MoSe2        NSJ  \n",
       "1          200um         NaN        NaN        NaN  \n",
       "2  1917008.34594         NaN        NaN        NaN  \n",
       "3  1913547.11387         NaN        NaN        NaN  \n",
       "4  1910412.29689         NaN        NaN        NaN  "
      ]
     },
     "execution_count": 45,
     "metadata": {},
     "output_type": "execute_result"
    }
   ],
   "source": [
    "imp.head()"
   ]
  },
  {
   "cell_type": "code",
   "execution_count": 81,
   "id": "ab448c9e-e3ac-4247-bc06-3856cb443bbb",
   "metadata": {},
   "outputs": [],
   "source": [
    "imp_droppped = imp.dropna(subset = 'ang freq',inplace = False)"
   ]
  },
  {
   "cell_type": "code",
   "execution_count": 83,
   "id": "7e33a7ff-9682-4b78-a7b1-ca9a43843777",
   "metadata": {},
   "outputs": [
    {
     "data": {
      "text/html": [
       "<div>\n",
       "<style scoped>\n",
       "    .dataframe tbody tr th:only-of-type {\n",
       "        vertical-align: middle;\n",
       "    }\n",
       "\n",
       "    .dataframe tbody tr th {\n",
       "        vertical-align: top;\n",
       "    }\n",
       "\n",
       "    .dataframe thead th {\n",
       "        text-align: right;\n",
       "    }\n",
       "</style>\n",
       "<table border=\"1\" class=\"dataframe\">\n",
       "  <thead>\n",
       "    <tr style=\"text-align: right;\">\n",
       "      <th></th>\n",
       "      <th>ang freq</th>\n",
       "      <th>ReZ</th>\n",
       "      <th>ReZ.1</th>\n",
       "      <th>ReZ.2</th>\n",
       "      <th>ReZ.3</th>\n",
       "      <th>ReZ.4</th>\n",
       "      <th>Unnamed: 6</th>\n",
       "      <th>Unnamed: 7</th>\n",
       "      <th>Unnamed: 8</th>\n",
       "    </tr>\n",
       "  </thead>\n",
       "  <tbody>\n",
       "    <tr>\n",
       "      <th>0</th>\n",
       "      <td>rad/s</td>\n",
       "      <td>NaN</td>\n",
       "      <td>NaN</td>\n",
       "      <td>NaN</td>\n",
       "      <td>NaN</td>\n",
       "      <td>NaN</td>\n",
       "      <td>NaN</td>\n",
       "      <td>Nb:MoSe2</td>\n",
       "      <td>NSJ</td>\n",
       "    </tr>\n",
       "    <tr>\n",
       "      <th>2</th>\n",
       "      <td>125.66371</td>\n",
       "      <td>8.15E+07</td>\n",
       "      <td>1604003.03103</td>\n",
       "      <td>1442835.98628</td>\n",
       "      <td>1186440.61149</td>\n",
       "      <td>1917008.34594</td>\n",
       "      <td>NaN</td>\n",
       "      <td>NaN</td>\n",
       "      <td>NaN</td>\n",
       "    </tr>\n",
       "    <tr>\n",
       "      <th>3</th>\n",
       "      <td>134.92512</td>\n",
       "      <td>8.14E+07</td>\n",
       "      <td>1604286.78863</td>\n",
       "      <td>1441230.51229</td>\n",
       "      <td>1184688.58503</td>\n",
       "      <td>1913547.11387</td>\n",
       "      <td>NaN</td>\n",
       "      <td>NaN</td>\n",
       "      <td>NaN</td>\n",
       "    </tr>\n",
       "    <tr>\n",
       "      <th>4</th>\n",
       "      <td>144.86512</td>\n",
       "      <td>8.14E+07</td>\n",
       "      <td>1601221.49993</td>\n",
       "      <td>1440484.95364</td>\n",
       "      <td>1185075.77042</td>\n",
       "      <td>1910412.29689</td>\n",
       "      <td>NaN</td>\n",
       "      <td>NaN</td>\n",
       "      <td>NaN</td>\n",
       "    </tr>\n",
       "    <tr>\n",
       "      <th>5</th>\n",
       "      <td>155.54025</td>\n",
       "      <td>8.12E+07</td>\n",
       "      <td>1601215.00034</td>\n",
       "      <td>1439229.88588</td>\n",
       "      <td>1186646.70867</td>\n",
       "      <td>1908984.26658</td>\n",
       "      <td>NaN</td>\n",
       "      <td>NaN</td>\n",
       "      <td>NaN</td>\n",
       "    </tr>\n",
       "  </tbody>\n",
       "</table>\n",
       "</div>"
      ],
      "text/plain": [
       "    ang freq       ReZ          ReZ.1          ReZ.2          ReZ.3  \\\n",
       "0      rad/s       NaN            NaN            NaN            NaN   \n",
       "2  125.66371  8.15E+07  1604003.03103  1442835.98628  1186440.61149   \n",
       "3  134.92512  8.14E+07  1604286.78863  1441230.51229  1184688.58503   \n",
       "4  144.86512  8.14E+07  1601221.49993  1440484.95364  1185075.77042   \n",
       "5  155.54025  8.12E+07  1601215.00034  1439229.88588  1186646.70867   \n",
       "\n",
       "           ReZ.4  Unnamed: 6 Unnamed: 7 Unnamed: 8  \n",
       "0            NaN         NaN   Nb:MoSe2        NSJ  \n",
       "2  1917008.34594         NaN        NaN        NaN  \n",
       "3  1913547.11387         NaN        NaN        NaN  \n",
       "4  1910412.29689         NaN        NaN        NaN  \n",
       "5  1908984.26658         NaN        NaN        NaN  "
      ]
     },
     "execution_count": 83,
     "metadata": {},
     "output_type": "execute_result"
    }
   ],
   "source": [
    "imp_droppped.head()"
   ]
  },
  {
   "cell_type": "code",
   "execution_count": 59,
   "id": "74dda2e0-cc23-43e9-b484-fac24b545c94",
   "metadata": {},
   "outputs": [],
   "source": [
    "freq = imp_droppped['ang freq'] "
   ]
  },
  {
   "cell_type": "code",
   "execution_count": 89,
   "id": "b5671820-918d-4978-8c7d-7caeee1e7d86",
   "metadata": {},
   "outputs": [],
   "source": [
    "freq = pd.to_numeric(imp.dropna(subset = 'ang freq',inplace = False)['ang freq'],errors='coerce').dropna()"
   ]
  },
  {
   "cell_type": "code",
   "execution_count": 91,
   "id": "8a5856b8-cec7-4825-b270-68932615a221",
   "metadata": {},
   "outputs": [
    {
     "data": {
      "text/plain": [
       "2      1.256637e+02\n",
       "3      1.349251e+02\n",
       "4      1.448651e+02\n",
       "5      1.555402e+02\n",
       "6      1.670071e+02\n",
       "           ...     \n",
       "198    1.420000e+08\n",
       "199    1.520000e+08\n",
       "200    1.640000e+08\n",
       "201    1.760000e+08\n",
       "202    1.880000e+08\n",
       "Name: ang freq, Length: 201, dtype: float64"
      ]
     },
     "execution_count": 91,
     "metadata": {},
     "output_type": "execute_result"
    }
   ],
   "source": [
    "freq"
   ]
  },
  {
   "cell_type": "code",
   "execution_count": 75,
   "id": "a5ef6775-fa31-40bd-b2b8-a4f94cf5fa2d",
   "metadata": {},
   "outputs": [],
   "source": [
    "new_imp = pd.DataFrame()"
   ]
  },
  {
   "cell_type": "code",
   "execution_count": 93,
   "id": "000b1411-bb50-4e89-bd7d-c1209f14afb3",
   "metadata": {},
   "outputs": [],
   "source": [
    "new_imp[\"freq\"] = pd.to_numeric(imp.dropna(subset = 'ang freq',inplace = False)['ang freq'],errors='coerce').dropna()"
   ]
  },
  {
   "cell_type": "code",
   "execution_count": 95,
   "id": "788068a7-6ea2-4f6d-b65c-24679480e8ab",
   "metadata": {},
   "outputs": [],
   "source": [
    "new_imp[\"imp1\"] = pd.to_numeric(imp.dropna(subset = 'ReZ',inplace = False)['ReZ'],errors='coerce').dropna()"
   ]
  },
  {
   "cell_type": "code",
   "execution_count": 97,
   "id": "4d70d7ae-4dad-4403-be4b-65be6c28193c",
   "metadata": {},
   "outputs": [],
   "source": [
    "new_imp[\"imp2\"] = pd.to_numeric(imp.dropna(subset = 'ReZ.1',inplace = False)['ReZ.1'],errors='coerce').dropna()"
   ]
  },
  {
   "cell_type": "code",
   "execution_count": 99,
   "id": "0a9fc4b2-a62e-410e-bda8-51481750498d",
   "metadata": {},
   "outputs": [],
   "source": [
    "new_imp[\"imp3\"] = pd.to_numeric(imp.dropna(subset = 'ReZ.2',inplace = False)['ReZ.2'],errors='coerce').dropna()"
   ]
  },
  {
   "cell_type": "code",
   "execution_count": 101,
   "id": "45f6a1c0-09da-4f08-ad29-edb4942f9c22",
   "metadata": {},
   "outputs": [],
   "source": [
    "new_imp[\"imp4\"] = pd.to_numeric(imp.dropna(subset = 'ReZ.3',inplace = False)['ReZ.3'],errors='coerce').dropna()"
   ]
  },
  {
   "cell_type": "code",
   "execution_count": 103,
   "id": "b3809d01-d19e-4e3d-acb5-0643c0fa3a0e",
   "metadata": {},
   "outputs": [],
   "source": [
    "new_imp[\"imp5\"] = pd.to_numeric(imp.dropna(subset = 'ReZ.4',inplace = False)['ReZ.4'],errors='coerce').dropna()"
   ]
  },
  {
   "cell_type": "code",
   "execution_count": 117,
   "id": "731803da-6352-4630-a114-c91d39d50cdd",
   "metadata": {},
   "outputs": [
    {
     "data": {
      "text/plain": [
       "array([1.25663710e+02, 1.34925120e+02, 1.44865120e+02, 1.55540250e+02,\n",
       "       1.67007070e+02, 1.79315830e+02, 1.92529360e+02, 2.06716800e+02,\n",
       "       2.21947240e+02, 2.38302370e+02, 2.55870160e+02, 2.74725990e+02,\n",
       "       2.94970420e+02, 3.16703960e+02, 3.40045990e+02, 3.65103330e+02,\n",
       "       3.92007930e+02, 4.20898020e+02, 4.51918100e+02, 4.85218990e+02,\n",
       "       5.20976590e+02, 5.59373140e+02, 6.00590830e+02, 6.44849590e+02,\n",
       "       6.92375600e+02, 7.43395070e+02, 7.98184450e+02, 8.57001340e+02,\n",
       "       9.20159920e+02, 9.87968060e+02, 1.06077761e+03, 1.13894672e+03,\n",
       "       1.22288379e+03, 1.31300352e+03, 1.40975829e+03, 1.51365076e+03,\n",
       "       1.62519615e+03, 1.74496622e+03, 1.87355789e+03, 2.01163089e+03,\n",
       "       2.15987008e+03, 2.31904202e+03, 2.48993837e+03, 2.67343252e+03,\n",
       "       2.87044807e+03, 3.08198407e+03, 3.30910866e+03, 3.55296536e+03,\n",
       "       3.81479826e+03, 4.09592682e+03, 4.39777104e+03, 4.72185774e+03,\n",
       "       5.06983311e+03, 5.44345016e+03, 5.84459384e+03, 6.27530619e+03,\n",
       "       6.73776120e+03, 7.23428992e+03, 7.76741191e+03, 8.33982265e+03,\n",
       "       8.95441243e+03, 9.61429768e+03, 1.03228148e+04, 1.10835452e+04,\n",
       "       1.19003341e+04, 1.27773097e+04, 1.37189204e+04, 1.47299226e+04,\n",
       "       1.58154246e+04, 1.69809240e+04, 1.82323147e+04, 1.95759236e+04,\n",
       "       2.10185492e+04, 2.25674863e+04, 2.42305701e+04, 2.60162136e+04,\n",
       "       2.79334460e+04, 2.99919683e+04, 3.22021918e+04, 3.45752943e+04,\n",
       "       3.71232830e+04, 3.98590385e+04, 4.27964025e+04, 4.59502348e+04,\n",
       "       4.93364821e+04, 5.29722787e+04, 5.68760091e+04, 6.10674215e+04,\n",
       "       6.55677090e+04, 7.03996482e+04, 7.55876680e+04, 8.11580071e+04,\n",
       "       8.71388518e+04, 9.35604494e+04, 1.00455278e+05, 1.07858208e+05,\n",
       "       1.15806695e+05, 1.24340932e+05, 1.33504091e+05, 1.43342522e+05,\n",
       "       1.53905977e+05, 1.65247899e+05, 1.77425649e+05, 1.90500825e+05,\n",
       "       2.04539560e+05, 2.19612865e+05, 2.35796974e+05, 2.53173758e+05,\n",
       "       2.71831098e+05, 2.91863376e+05, 3.13371907e+05, 3.36465478e+05,\n",
       "       3.61260906e+05, 3.87883605e+05, 4.16468233e+05, 4.47159369e+05,\n",
       "       4.80112257e+05, 5.15493565e+05, 5.53482263e+05, 5.94270490e+05,\n",
       "       6.38064555e+05, 6.85085973e+05, 7.35572579e+05, 7.89779736e+05,\n",
       "       8.47981630e+05, 9.10472645e+05, 9.77568858e+05, 1.04960965e+06,\n",
       "       1.12695940e+06, 1.21000935e+06, 1.29917957e+06, 1.39492109e+06,\n",
       "       1.49771816e+06, 1.60809074e+06, 1.72659710e+06, 1.85383665e+06,\n",
       "       1.99045297e+06, 2.13713707e+06, 2.29463087e+06, 2.46373101e+06,\n",
       "       2.64529277e+06, 2.84023452e+06, 3.04954227e+06, 3.27427472e+06,\n",
       "       3.51556855e+06, 3.77464425e+06, 4.05281223e+06, 4.35147947e+06,\n",
       "       4.67215665e+06, 5.01646576e+06, 5.38614832e+06, 5.78307420e+06,\n",
       "       6.20925107e+06, 6.66683455e+06, 7.15813910e+06, 7.68564977e+06,\n",
       "       8.25203471e+06, 8.86015873e+06, 9.51309774e+06, 1.02000000e+07,\n",
       "       1.10000000e+07, 1.18000000e+07, 1.26000000e+07, 1.36000000e+07,\n",
       "       1.46000000e+07, 1.56000000e+07, 1.68000000e+07, 1.80000000e+07,\n",
       "       1.94000000e+07, 2.08000000e+07, 2.23000000e+07, 2.40000000e+07,\n",
       "       2.57000000e+07, 2.76000000e+07, 2.97000000e+07, 3.19000000e+07,\n",
       "       3.42000000e+07, 3.67000000e+07, 3.94000000e+07, 4.23000000e+07,\n",
       "       4.55000000e+07, 4.88000000e+07, 5.24000000e+07, 5.63000000e+07,\n",
       "       6.04000000e+07, 6.49000000e+07, 6.97000000e+07, 7.48000000e+07,\n",
       "       8.03000000e+07, 8.62000000e+07, 9.26000000e+07, 9.94000000e+07,\n",
       "       1.07000000e+08, 1.15000000e+08, 1.23000000e+08, 1.32000000e+08,\n",
       "       1.42000000e+08, 1.52000000e+08, 1.64000000e+08, 1.76000000e+08,\n",
       "       1.88000000e+08])"
      ]
     },
     "execution_count": 117,
     "metadata": {},
     "output_type": "execute_result"
    }
   ],
   "source": [
    "freq=np.array(new_imp['freq'])"
   ]
  },
  {
   "cell_type": "code",
   "execution_count": 143,
   "id": "fcea7ac4-f736-444d-b7a8-4216acf2522c",
   "metadata": {},
   "outputs": [
    {
     "data": {
      "text/plain": [
       "[<matplotlib.lines.Line2D at 0x78e7ce4a1e50>]"
      ]
     },
     "execution_count": 143,
     "metadata": {},
     "output_type": "execute_result"
    },
    {
     "data": {
      "image/png": "[encoded data removed]",
      "text/plain": [
       "<Figure size 640x480 with 1 Axes>"
      ]
     },
     "metadata": {},
     "output_type": "display_data"
    }
   ],
   "source": [
    "plt.plot(np.log(freq),np.log(new_imp[\"imp1\"]))\n",
    "plt.plot(np.log(freq),np.log(new_imp[\"imp2\"]))\n",
    "plt.plot(np.log(freq),np.log(new_imp[\"imp3\"]))\n",
    "plt.plot(np.log(freq),np.log(new_imp[\"imp4\"]))\n",
    "plt.plot(np.log(freq),np.log(new_imp[\"imp5\"]))"
   ]
  },
  {
   "cell_type": "code",
   "execution_count": null,
   "id": "0684b7a0-3237-4016-9222-1d7bac34ed75",
   "metadata": {},
   "outputs": [],
   "source": [
    "import numpy as np\n",
    "import scipy.sparse as sc\n",
    "import networkx as nx\n",
    "from numpy.random import normal, choice\n",
    "import pandas as pd\n",
    "import scipy.sparse.linalg as spla\n",
    "import concurrent.futures"
   ]
  },
  {
   "cell_type": "code",
   "execution_count": 149,
   "id": "856ccf2d-5d94-4e38-a30d-73a6f3f6c93d",
   "metadata": {},
   "outputs": [],
   "source": [
    "def create_graph_from_sample(edges):\n",
    "    P= [(i,j) for i in range(10) for j in range(10) if i!=j]\n",
    "    sample_indices = choice(len(P),edges,replace=False)\n",
    "    sampled_edges = [P[i] for i in sample_indices]\n",
    "    G= nx.Graph()\n",
    "    G.add_edges_from(sampled_edges)\n",
    "    return G\n"
   ]
  },
  {
   "cell_type": "code",
   "execution_count": 181,
   "id": "c8d718e8-8321-48bb-890a-6d1824851ecd",
   "metadata": {},
   "outputs": [],
   "source": [
    "def graph(x,y):\n",
    "    G=nx.grid_2d_graph(x,y)\n",
    "    pos =nx.spring_layout(G)\n",
    "    return G,pos"
   ]
  },
  {
   "cell_type": "code",
   "execution_count": 165,
   "id": "a8b59876-6d6d-4d7d-aaaa-78f1d1c9c517",
   "metadata": {},
   "outputs": [
    {
     "data": {
      "text/plain": [
       "25"
      ]
     },
     "execution_count": 165,
     "metadata": {},
     "output_type": "execute_result"
    }
   ],
   "source": [
    "a,b= graph(5,5)\n",
    "a.number_of_nodes()"
   ]
  },
  {
   "cell_type": "code",
   "execution_count": 183,
   "id": "39727301-99d7-4ff4-87d2-0d87e85aa068",
   "metadata": {},
   "outputs": [],
   "source": [
    "def dist(meanc, stdc,edges,seed):\n",
    "    np.random.seed(seed)\n",
    "    return np.abs(np.random.normal(meanc, stdc,edges))"
   ]
  },
  {
   "cell_type": "code",
   "execution_count": 189,
   "id": "241ccf27-36be-4dcb-8859-5a67892ae29d",
   "metadata": {},
   "outputs": [],
   "source": [
    "def Rn(w,x,y ,mean, std, configuration):\n",
    "    grid,pos = graph(x,y)\n",
    "    nodes = grid.number_of_nodes()\n",
    "    edges = grid.number_of_edges()\n",
    "    \n",
    "    rns = dist(mean, std,edges,configuration)\n",
    "    rj = dist(1, 0.2,edges,configuration)\n",
    "\n",
    "    adjM = sc.lil_matrix((nodes,nodes))\n",
    "    xxx = list(grid.edges())\n",
    "    interactions = 1/(rns+rj/(1+(w*rj*1)**2))\n",
    "\n",
    "    for edge_idx, (i, j) in enumerate(xxx):\n",
    "        interaction_value = interactions[edge_idx]\n",
    "        adjM[i, j] = interaction_value\n",
    "        adjM[j, i] = interaction_value\n",
    "        \n",
    "    adjM.setdiag(-1*adjM.sum(axis=1).A1 - 0.0001)\n",
    "    \n",
    "    MI = spla.inv(-1*adjM.tocsc())  # Using inv for CSC matrices\n",
    "\n",
    "    R = MI[0,0]+MI[nodes-1,nodes-1]-MI[nodes-1,0]-MI[0,nodes-1]\n",
    "    \n",
    "    return R"
   ]
  },
  {
   "cell_type": "code",
   "execution_count": 173,
   "id": "a9def44b-6b31-4158-9cdd-bdd44ee7d293",
   "metadata": {},
   "outputs": [],
   "source": []
  },
  {
   "cell_type": "code",
   "execution_count": null,
   "id": "36201a0a-4272-43bf-82c4-8d32dd4935a8",
   "metadata": {},
   "outputs": [],
   "source": [
    "R_total = [np.mean([Rn(w,40,40,1,0.3,x) for x in range(10)]) for w in np.arange(0,1,0.1)]"
   ]
  },
  {
   "cell_type": "code",
   "execution_count": null,
   "id": "f17a511f-de06-4f2b-9f30-6b26b4998d4d",
   "metadata": {},
   "outputs": [],
   "source": [
    "plt.plot()"
   ]
  }
 ],
 "metadata": {
  "kernelspec": {
   "display_name": "Python 3 (ipykernel)",
   "language": "python",
   "name": "python3"
  },
  "language_info": {
   "codemirror_mode": {
    "name": "ipython",
    "version": 3
   },
   "file_extension": ".py",
   "mimetype": "text/x-python",
   "name": "python",
   "nbconvert_exporter": "python",
   "pygments_lexer": "ipython3",
   "version": "3.11.5"
  }
 },
 "nbformat": 4,
 "nbformat_minor": 5
}
