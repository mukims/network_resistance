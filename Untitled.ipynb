{
 "cells": [
  {
   "cell_type": "code",
   "execution_count": 7,
   "id": "cac20026-59e7-4070-b571-562a0b5432df",
   "metadata": {},
   "outputs": [],
   "source": [
    "import numpy as np\n",
    "import matplotlib.pyplot as plt\n",
    "import scipy as sc\n",
    "import networkx as ntx"
   ]
  },
  {
   "cell_type": "code",
   "execution_count": 196,
   "id": "e91dd981-ef68-4889-9aac-e7d42fbe0076",
   "metadata": {},
   "outputs": [],
   "source": [
    "def edges(layers):\n",
    "    m1=[]\n",
    "    for j in np.arange(0,8*layers,8):\n",
    "        m1.append([(i+j,i+1+j) for i in range(7)])\n",
    "    return np.array(m1).reshape(-1,2)"
   ]
  },
  {
   "cell_type": "code",
   "execution_count": 210,
   "id": "6600d87b-df19-4a74-9a28-6f351b4b3dee",
   "metadata": {},
   "outputs": [],
   "source": [
    "def edges2(layers):\n",
    "    m2=[]\n",
    "    for j in np.arange(0,8*layers,8):\n",
    "        m2.append(np.array([((j+i,j+7+i),(j+i,j+7+2+i)) for i in np.arange(1,7,2)]))\n",
    "    m2=np.array(m2).reshape(-1,2)\n",
    "    return m2"
   ]
  },
  {
   "cell_type": "code",
   "execution_count": 216,
   "id": "5d11b37d-6ddd-4b3c-97f2-08622fd0fbb5",
   "metadata": {},
   "outputs": [],
   "source": [
    "def edges3(layers):\n",
    "    m3=[]\n",
    "    m3.append([(j+7,j+14) for j in np.arange(0,8*layers,8)])\n",
    "    m3=np.array(m3).reshape(-1,2)\n",
    "    return m3"
   ]
  },
  {
   "cell_type": "code",
   "execution_count": 218,
   "id": "0e8ccd1b-8f4d-4649-8788-0ec6c955fb5d",
   "metadata": {},
   "outputs": [
    {
     "data": {
      "text/plain": [
       "array([[ 7, 14],\n",
       "       [15, 22],\n",
       "       [23, 30]])"
      ]
     },
     "execution_count": 218,
     "metadata": {},
     "output_type": "execute_result"
    }
   ],
   "source": [
    "edges3(3)"
   ]
  },
  {
   "cell_type": "code",
   "execution_count": 220,
   "id": "573a3267-f192-4a1c-b702-e2b9c641fac0",
   "metadata": {},
   "outputs": [
    {
     "name": "stderr",
     "output_type": "stream",
     "text": [
      "<>:16: SyntaxWarning: 'tuple' object is not callable; perhaps you missed a comma?\n",
      "<>:16: SyntaxWarning: 'tuple' object is not callable; perhaps you missed a comma?\n",
      "/tmp/ipykernel_665907/113974141.py:16: SyntaxWarning: 'tuple' object is not callable; perhaps you missed a comma?\n",
      "  (j,j+7)(\"\")\n"
     ]
    },
    {
     "ename": "TypeError",
     "evalue": "'tuple' object is not callable",
     "output_type": "error",
     "traceback": [
      "\u001b[0;31m---------------------------------------------------------------------------\u001b[0m",
      "\u001b[0;31mTypeError\u001b[0m                                 Traceback (most recent call last)",
      "Cell \u001b[0;32mIn[220], line 16\u001b[0m\n\u001b[1;32m     14\u001b[0m G \u001b[38;5;241m=\u001b[39m create_graph(\u001b[38;5;241m2\u001b[39m, \u001b[38;5;241m23\u001b[39m)\n\u001b[1;32m     15\u001b[0m pos \u001b[38;5;241m=\u001b[39m ntx\u001b[38;5;241m.\u001b[39mspring_layout(G)\n\u001b[0;32m---> 16\u001b[0m (j,j\u001b[38;5;241m+\u001b[39m\u001b[38;5;241m7\u001b[39m)(\u001b[38;5;124m\"\u001b[39m\u001b[38;5;124m\"\u001b[39m)\n\u001b[1;32m     17\u001b[0m \u001b[38;5;66;03m# Draw graph with node labels\u001b[39;00m\n\u001b[1;32m     18\u001b[0m ntx\u001b[38;5;241m.\u001b[39mdraw(G, pos, with_labels\u001b[38;5;241m=\u001b[39m\u001b[38;5;28;01mTrue\u001b[39;00m, node_size\u001b[38;5;241m=\u001b[39m\u001b[38;5;241m500\u001b[39m, font_size\u001b[38;5;241m=\u001b[39m\u001b[38;5;241m12\u001b[39m)\n",
      "\u001b[0;31mTypeError\u001b[0m: 'tuple' object is not callable"
     ]
    }
   ],
   "source": [
    "\n",
    "\n",
    "def create_graph(layers,seed):\n",
    "    np.random.seed(seed)\n",
    "    number_of_indices = 8*layers\n",
    "    G = ntx.Graph()\n",
    "    sample_edges = edges(layers)\n",
    "    inner_edges = edges2(layers)\n",
    "    inner_edges2= edges3(layers)\n",
    "    G.add_edges_from(sample_edges)\n",
    "    G.add_edges_from(inner_edges)\n",
    "    G.add_edges_from(inner_edges2)\n",
    "#    G.add_edges_from(((0,11),(6,20)))\n",
    "    return G\n",
    "\n",
    "G = create_graph(2, 23)\n",
    "pos = ntx.spring_layout(G)\n",
    ",(j,j+7)\n",
    "# Draw graph with node labels\n",
    "ntx.draw(G, pos, with_labels=True, node_size=500, font_size=12)\n",
    "\n",
    "# Add custom node labels at positions\n",
    "labels = {node: node for node in G.nodes()}  \n",
    "#ntx.draw_networkx_labels(G, pos, labels, font_size=10, font_color=\"white\")\n",
    "\n",
    "plt.show()"
   ]
  },
  {
   "cell_type": "code",
   "execution_count": 214,
   "id": "c9abf144-df48-4dc2-8327-56a147dd7047",
   "metadata": {},
   "outputs": [
    {
     "data": {
      "text/plain": [
       "[(7, 14), (15, 22), (23, 30)]"
      ]
     },
     "execution_count": 214,
     "metadata": {},
     "output_type": "execute_result"
    }
   ],
   "source": [
    "[(j+7,j+14) for j in np.arange(0,24,8)]"
   ]
  },
  {
   "cell_type": "code",
   "execution_count": 208,
   "id": "bbaa9aa0-c162-47e2-bb54-a4341688d4e9",
   "metadata": {},
   "outputs": [
    {
     "ename": "TypeError",
     "evalue": "only integer scalar arrays can be converted to a scalar index",
     "output_type": "error",
     "traceback": [
      "\u001b[0;31m---------------------------------------------------------------------------\u001b[0m",
      "\u001b[0;31mTypeError\u001b[0m                                 Traceback (most recent call last)",
      "Cell \u001b[0;32mIn[208], line 1\u001b[0m\n\u001b[0;32m----> 1\u001b[0m np\u001b[38;5;241m.\u001b[39mconcatenate(edges(\u001b[38;5;241m3\u001b[39m),edges2(\u001b[38;5;241m3\u001b[39m))\n",
      "File \u001b[0;32m<__array_function__ internals>:200\u001b[0m, in \u001b[0;36mconcatenate\u001b[0;34m(*args, **kwargs)\u001b[0m\n",
      "\u001b[0;31mTypeError\u001b[0m: only integer scalar arrays can be converted to a scalar index"
     ]
    }
   ],
   "source": []
  },
  {
   "cell_type": "code",
   "execution_count": null,
   "id": "6386ff9d-04e0-4d15-bda1-e48be56006fe",
   "metadata": {},
   "outputs": [],
   "source": []
  }
 ],
 "metadata": {
  "kernelspec": {
   "display_name": "Python 3 (ipykernel)",
   "language": "python",
   "name": "python3"
  },
  "language_info": {
   "codemirror_mode": {
    "name": "ipython",
    "version": 3
   },
   "file_extension": ".py",
   "mimetype": "text/x-python",
   "name": "python",
   "nbconvert_exporter": "python",
   "pygments_lexer": "ipython3",
   "version": "3.11.5"
  }
 },
 "nbformat": 4,
 "nbformat_minor": 5
}
