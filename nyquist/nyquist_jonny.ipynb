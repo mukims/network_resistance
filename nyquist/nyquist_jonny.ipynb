{
 "cells": [
  {
   "cell_type": "code",
   "execution_count": 3,
   "id": "b018047b-0afe-4488-8e1b-382537656f80",
   "metadata": {},
   "outputs": [],
   "source": [
    "import numpy as np\n",
    "import scipy.sparse as sc\n",
    "import networkx as nx\n",
    "from numpy.random import normal, choice\n",
    "import pandas as pd\n",
    "import scipy.sparse.linalg as spla\n",
    "import concurrent.futures\n",
    "import matplotlib.pyplot as plt"
   ]
  },
  {
   "cell_type": "code",
   "execution_count": 5,
   "id": "06cdb5b5-818d-401e-ace2-c3e937fa4679",
   "metadata": {},
   "outputs": [],
   "source": [
    "imp = pd.read_csv(f'/home/shardul/impedance_exp/nyquist/Impedance NbMoSe2.csv',delimiter=',')"
   ]
  },
  {
   "cell_type": "code",
   "execution_count": 7,
   "id": "a6846583-a07f-40b4-82ec-866d90fadbfc",
   "metadata": {},
   "outputs": [
    {
     "data": {
      "text/html": [
       "<div>\n",
       "<style scoped>\n",
       "    .dataframe tbody tr th:only-of-type {\n",
       "        vertical-align: middle;\n",
       "    }\n",
       "\n",
       "    .dataframe tbody tr th {\n",
       "        vertical-align: top;\n",
       "    }\n",
       "\n",
       "    .dataframe thead th {\n",
       "        text-align: right;\n",
       "    }\n",
       "</style>\n",
       "<table border=\"1\" class=\"dataframe\">\n",
       "  <thead>\n",
       "    <tr style=\"text-align: right;\">\n",
       "      <th></th>\n",
       "      <th>ang freq</th>\n",
       "      <th>ReZ</th>\n",
       "      <th>ReZ.1</th>\n",
       "      <th>ReZ.2</th>\n",
       "      <th>ReZ.3</th>\n",
       "      <th>ReZ.4</th>\n",
       "      <th>Unnamed: 6</th>\n",
       "      <th>Unnamed: 7</th>\n",
       "      <th>Unnamed: 8</th>\n",
       "    </tr>\n",
       "  </thead>\n",
       "  <tbody>\n",
       "    <tr>\n",
       "      <th>0</th>\n",
       "      <td>rad/s</td>\n",
       "      <td>NaN</td>\n",
       "      <td>NaN</td>\n",
       "      <td>NaN</td>\n",
       "      <td>NaN</td>\n",
       "      <td>NaN</td>\n",
       "      <td>NaN</td>\n",
       "      <td>Nb:MoSe2</td>\n",
       "      <td>NSJ</td>\n",
       "    </tr>\n",
       "    <tr>\n",
       "      <th>1</th>\n",
       "      <td>NaN</td>\n",
       "      <td>50um</td>\n",
       "      <td>80um</td>\n",
       "      <td>100um</td>\n",
       "      <td>150um</td>\n",
       "      <td>200um</td>\n",
       "      <td>NaN</td>\n",
       "      <td>NaN</td>\n",
       "      <td>NaN</td>\n",
       "    </tr>\n",
       "    <tr>\n",
       "      <th>2</th>\n",
       "      <td>125.66371</td>\n",
       "      <td>8.15E+07</td>\n",
       "      <td>1604003.03103</td>\n",
       "      <td>1442835.98628</td>\n",
       "      <td>1186440.61149</td>\n",
       "      <td>1917008.34594</td>\n",
       "      <td>NaN</td>\n",
       "      <td>NaN</td>\n",
       "      <td>NaN</td>\n",
       "    </tr>\n",
       "    <tr>\n",
       "      <th>3</th>\n",
       "      <td>134.92512</td>\n",
       "      <td>8.14E+07</td>\n",
       "      <td>1604286.78863</td>\n",
       "      <td>1441230.51229</td>\n",
       "      <td>1184688.58503</td>\n",
       "      <td>1913547.11387</td>\n",
       "      <td>NaN</td>\n",
       "      <td>NaN</td>\n",
       "      <td>NaN</td>\n",
       "    </tr>\n",
       "    <tr>\n",
       "      <th>4</th>\n",
       "      <td>144.86512</td>\n",
       "      <td>8.14E+07</td>\n",
       "      <td>1601221.49993</td>\n",
       "      <td>1440484.95364</td>\n",
       "      <td>1185075.77042</td>\n",
       "      <td>1910412.29689</td>\n",
       "      <td>NaN</td>\n",
       "      <td>NaN</td>\n",
       "      <td>NaN</td>\n",
       "    </tr>\n",
       "  </tbody>\n",
       "</table>\n",
       "</div>"
      ],
      "text/plain": [
       "    ang freq       ReZ          ReZ.1          ReZ.2          ReZ.3  \\\n",
       "0      rad/s       NaN            NaN            NaN            NaN   \n",
       "1        NaN      50um           80um          100um          150um   \n",
       "2  125.66371  8.15E+07  1604003.03103  1442835.98628  1186440.61149   \n",
       "3  134.92512  8.14E+07  1604286.78863  1441230.51229  1184688.58503   \n",
       "4  144.86512  8.14E+07  1601221.49993  1440484.95364  1185075.77042   \n",
       "\n",
       "           ReZ.4  Unnamed: 6 Unnamed: 7 Unnamed: 8  \n",
       "0            NaN         NaN   Nb:MoSe2        NSJ  \n",
       "1          200um         NaN        NaN        NaN  \n",
       "2  1917008.34594         NaN        NaN        NaN  \n",
       "3  1913547.11387         NaN        NaN        NaN  \n",
       "4  1910412.29689         NaN        NaN        NaN  "
      ]
     },
     "execution_count": 7,
     "metadata": {},
     "output_type": "execute_result"
    }
   ],
   "source": [
    "imp.head()"
   ]
  },
  {
   "cell_type": "code",
   "execution_count": 9,
   "id": "a5ef6775-fa31-40bd-b2b8-a4f94cf5fa2d",
   "metadata": {},
   "outputs": [],
   "source": [
    "new_imp = pd.DataFrame()"
   ]
  },
  {
   "cell_type": "code",
   "execution_count": 11,
   "id": "000b1411-bb50-4e89-bd7d-c1209f14afb3",
   "metadata": {},
   "outputs": [],
   "source": [
    "new_imp[\"freq\"] = pd.to_numeric(imp.dropna(subset = 'ang freq',inplace = False)['ang freq'],errors='coerce').dropna()"
   ]
  },
  {
   "cell_type": "code",
   "execution_count": 13,
   "id": "788068a7-6ea2-4f6d-b65c-24679480e8ab",
   "metadata": {},
   "outputs": [],
   "source": [
    "new_imp[\"imp1\"] = pd.to_numeric(imp.dropna(subset = 'ReZ',inplace = False)['ReZ'],errors='coerce').dropna()"
   ]
  },
  {
   "cell_type": "code",
   "execution_count": 15,
   "id": "4d70d7ae-4dad-4403-be4b-65be6c28193c",
   "metadata": {},
   "outputs": [],
   "source": [
    "new_imp[\"imp2\"] = pd.to_numeric(imp.dropna(subset = 'ReZ.1',inplace = False)['ReZ.1'],errors='coerce').dropna()"
   ]
  },
  {
   "cell_type": "code",
   "execution_count": 17,
   "id": "0a9fc4b2-a62e-410e-bda8-51481750498d",
   "metadata": {},
   "outputs": [],
   "source": [
    "new_imp[\"imp3\"] = pd.to_numeric(imp.dropna(subset = 'ReZ.2',inplace = False)['ReZ.2'],errors='coerce').dropna()"
   ]
  },
  {
   "cell_type": "code",
   "execution_count": 19,
   "id": "45f6a1c0-09da-4f08-ad29-edb4942f9c22",
   "metadata": {},
   "outputs": [],
   "source": [
    "new_imp[\"imp4\"] = pd.to_numeric(imp.dropna(subset = 'ReZ.3',inplace = False)['ReZ.3'],errors='coerce').dropna()"
   ]
  },
  {
   "cell_type": "code",
   "execution_count": 21,
   "id": "b3809d01-d19e-4e3d-acb5-0643c0fa3a0e",
   "metadata": {},
   "outputs": [],
   "source": [
    "new_imp[\"imp5\"] = pd.to_numeric(imp.dropna(subset = 'ReZ.4',inplace = False)['ReZ.4'],errors='coerce').dropna()"
   ]
  },
  {
   "cell_type": "code",
   "execution_count": 23,
   "id": "731803da-6352-4630-a114-c91d39d50cdd",
   "metadata": {},
   "outputs": [],
   "source": [
    "freq=np.array(new_imp['freq'])"
   ]
  },
  {
   "cell_type": "code",
   "execution_count": 49,
   "id": "fcea7ac4-f736-444d-b7a8-4216acf2522c",
   "metadata": {},
   "outputs": [
    {
     "data": {
      "text/plain": [
       "Text(0, 0.5, '$Z_{real}$')"
      ]
     },
     "execution_count": 49,
     "metadata": {},
     "output_type": "execute_result"
    },
    {
     "data": {
      "image/png": "[encoded data removed]",
      "text/plain": [
       "<Figure size 640x480 with 1 Axes>"
      ]
     },
     "metadata": {},
     "output_type": "display_data"
    }
   ],
   "source": [
    "for x in np.arange(2,6,1):\n",
    "    plt.loglog(freq,new_imp[f\"imp{x}\"]/10**8,label=f\"{x}\")\n",
    "plt.legend()\n",
    "plt.xlabel('freq')\n",
    "plt.ylabel(r'$Z_{real}$')"
   ]
  },
  {
   "cell_type": "code",
   "execution_count": 31,
   "id": "e2b2f72e-79dc-401b-982f-2e18f2889a9c",
   "metadata": {},
   "outputs": [
    {
     "data": {
      "text/plain": [
       "Text(0, 0.5, '$Z_{real}$')"
      ]
     },
     "execution_count": 31,
     "metadata": {},
     "output_type": "execute_result"
    },
    {
     "data": {
      "image/png": "[encoded data removed]",
      "text/plain": [
       "<Figure size 640x480 with 1 Axes>"
      ]
     },
     "metadata": {},
     "output_type": "display_data"
    }
   ],
   "source": [
    "#plt.plot(freq,new_imp[\"imp1\"],label='50')\n",
    "plt.plot(freq,new_imp[\"imp2\"]/10**3,label='80')\n",
    "plt.plot(freq,new_imp[\"imp3\"]/10**3,label='100')\n",
    "plt.plot(freq,new_imp[\"imp4\"]/10**3,label='150')\n",
    "plt.plot(freq,new_imp[\"imp5\"]/10**3,label='200')\n",
    "plt.legend()\n",
    "plt.xlabel('w')\n",
    "plt.ylabel(r'$Z_{real}$')"
   ]
  },
  {
   "cell_type": "code",
   "execution_count": 47,
   "id": "0684b7a0-3237-4016-9222-1d7bac34ed75",
   "metadata": {},
   "outputs": [],
   "source": [
    "def create_graph_from_sample(edges,seed):\n",
    "\n",
    "    np.random.seed(seed)\n",
    "    #G1=nx.random_regular_graph(1,10)\n",
    "\n",
    "    P= [(i,j) for i in range(701) for j in range(701) if i!=j]\n",
    "\n",
    "    sample_indices = choice(len(P),edges,replace=False)\n",
    "\n",
    "    sampled_edges = [P[i] for i in sample_indices]\n",
    "\n",
    "    G= nx.Graph()\n",
    "\n",
    "    #print(sampled_edges)\n",
    "\n",
    "    G.add_edges_from(sampled_edges)\n",
    "\n",
    "\n",
    "    #nx.is_connected(G)\n",
    "\n",
    "    return G"
   ]
  },
  {
   "cell_type": "code",
   "execution_count": 27,
   "id": "daa03e31-3575-4cd3-92d8-f7c82bfa3efa",
   "metadata": {},
   "outputs": [
    {
     "name": "stdout",
     "output_type": "stream",
     "text": [
      "All nodes are connected.\n",
      "All nodes are connected.\n",
      "All nodes are connected.\n",
      "All nodes are connected.\n",
      "All nodes are connected.\n",
      "All nodes are connected.\n",
      "All nodes are connected.\n",
      "All nodes are connected.\n",
      "All nodes are connected.\n",
      "All nodes are connected.\n",
      "All nodes are connected.\n",
      "All nodes are connected.\n",
      "All nodes are connected.\n",
      "All nodes are connected.\n",
      "All nodes are connected.\n",
      "All nodes are connected.\n",
      "All nodes are connected.\n",
      "All nodes are connected.\n",
      "All nodes are connected.\n",
      "All nodes are connected.\n",
      "All nodes are connected.\n",
      "All nodes are connected.\n",
      "All nodes are connected.\n",
      "All nodes are connected.\n",
      "All nodes are connected.\n",
      "All nodes are connected.\n",
      "All nodes are connected.\n",
      "All nodes are connected.\n",
      "All nodes are connected.\n",
      "All nodes are connected.\n",
      "All nodes are connected.\n",
      "All nodes are connected.\n",
      "All nodes are connected.\n",
      "All nodes are connected.\n",
      "All nodes are connected.\n",
      "All nodes are connected.\n",
      "All nodes are connected.\n",
      "All nodes are connected.\n",
      "All nodes are connected.\n",
      "All nodes are connected.\n",
      "All nodes are connected.\n",
      "All nodes are connected.\n",
      "All nodes are connected.\n",
      "All nodes are connected.\n",
      "All nodes are connected.\n",
      "All nodes are connected.\n",
      "All nodes are connected.\n",
      "All nodes are connected.\n",
      "All nodes are connected.\n",
      "All nodes are connected.\n",
      "All nodes are connected.\n",
      "All nodes are connected.\n",
      "All nodes are connected.\n",
      "All nodes are connected.\n",
      "All nodes are connected.\n",
      "All nodes are connected.\n",
      "All nodes are connected.\n",
      "All nodes are connected.\n",
      "All nodes are connected.\n",
      "All nodes are connected.\n",
      "All nodes are connected.\n",
      "All nodes are connected.\n",
      "All nodes are connected.\n",
      "All nodes are connected.\n",
      "All nodes are connected.\n",
      "All nodes are connected.\n",
      "All nodes are connected.\n",
      "All nodes are connected.\n",
      "All nodes are connected.\n",
      "All nodes are connected.\n",
      "All nodes are connected.\n",
      "All nodes are connected.\n",
      "All nodes are connected.\n",
      "All nodes are connected.\n",
      "All nodes are connected.\n",
      "All nodes are connected.\n",
      "All nodes are connected.\n",
      "All nodes are connected.\n",
      "All nodes are connected.\n",
      "All nodes are connected.\n",
      "All nodes are connected.\n",
      "All nodes are connected.\n",
      "All nodes are connected.\n",
      "All nodes are connected.\n",
      "All nodes are connected.\n",
      "All nodes are connected.\n",
      "All nodes are connected.\n",
      "All nodes are connected.\n",
      "All nodes are connected.\n",
      "All nodes are connected.\n",
      "All nodes are connected.\n",
      "All nodes are connected.\n",
      "All nodes are connected.\n",
      "All nodes are connected.\n",
      "All nodes are connected.\n",
      "All nodes are connected.\n",
      "All nodes are connected.\n",
      "All nodes are connected.\n",
      "All nodes are connected.\n",
      "All nodes are connected.\n",
      "All nodes are connected.\n",
      "All nodes are connected.\n",
      "All nodes are connected.\n",
      "All nodes are connected.\n",
      "All nodes are connected.\n",
      "All nodes are connected.\n",
      "All nodes are connected.\n",
      "All nodes are connected.\n",
      "All nodes are connected.\n",
      "All nodes are connected.\n",
      "All nodes are connected.\n",
      "All nodes are connected.\n",
      "All nodes are connected.\n",
      "All nodes are connected.\n",
      "All nodes are connected.\n",
      "All nodes are connected.\n",
      "All nodes are connected.\n",
      "All nodes are connected.\n",
      "All nodes are connected.\n",
      "All nodes are connected.\n",
      "All nodes are connected.\n",
      "All nodes are connected.\n",
      "All nodes are connected.\n",
      "All nodes are connected.\n",
      "All nodes are connected.\n",
      "All nodes are connected.\n",
      "All nodes are connected.\n",
      "All nodes are connected.\n",
      "All nodes are connected.\n",
      "All nodes are connected.\n",
      "All nodes are connected.\n",
      "All nodes are connected.\n",
      "All nodes are connected.\n",
      "All nodes are connected.\n",
      "All nodes are connected.\n",
      "All nodes are connected.\n",
      "All nodes are connected.\n",
      "All nodes are connected.\n",
      "All nodes are connected.\n",
      "All nodes are connected.\n",
      "All nodes are connected.\n",
      "All nodes are connected.\n",
      "All nodes are connected.\n",
      "All nodes are connected.\n",
      "All nodes are connected.\n",
      "All nodes are connected.\n",
      "All nodes are connected.\n",
      "All nodes are connected.\n",
      "All nodes are connected.\n",
      "All nodes are connected.\n",
      "All nodes are connected.\n",
      "All nodes are connected.\n",
      "All nodes are connected.\n",
      "All nodes are connected.\n",
      "All nodes are connected.\n",
      "All nodes are connected.\n",
      "All nodes are connected.\n",
      "All nodes are connected.\n",
      "All nodes are connected.\n",
      "All nodes are connected.\n",
      "All nodes are connected.\n",
      "All nodes are connected.\n",
      "All nodes are connected.\n",
      "All nodes are connected.\n",
      "All nodes are connected.\n",
      "All nodes are connected.\n",
      "All nodes are connected.\n",
      "All nodes are connected.\n",
      "All nodes are connected.\n",
      "All nodes are connected.\n",
      "All nodes are connected.\n",
      "All nodes are connected.\n",
      "All nodes are connected.\n",
      "All nodes are connected.\n",
      "All nodes are connected.\n",
      "All nodes are connected.\n",
      "All nodes are connected.\n",
      "All nodes are connected.\n",
      "All nodes are connected.\n",
      "All nodes are connected.\n",
      "All nodes are connected.\n",
      "All nodes are connected.\n",
      "All nodes are connected.\n",
      "All nodes are connected.\n",
      "All nodes are connected.\n",
      "All nodes are connected.\n",
      "All nodes are connected.\n",
      "All nodes are connected.\n",
      "All nodes are connected.\n",
      "All nodes are connected.\n",
      "All nodes are connected.\n",
      "All nodes are connected.\n",
      "All nodes are connected.\n",
      "All nodes are connected.\n",
      "All nodes are connected.\n",
      "All nodes are connected.\n",
      "All nodes are connected.\n",
      "All nodes are connected.\n",
      "All nodes are connected.\n",
      "All nodes are connected.\n"
     ]
    }
   ],
   "source": [
    "def identify_unconnected_nodes(G):\n",
    "    \"\"\"\n",
    "    Identifies and prints nodes that are not connected in the given graph.\n",
    "\n",
    "    Args:\n",
    "        G (nx.Graph): The graph to check for connectivity.\n",
    "    \"\"\"\n",
    "    unconnected_nodes = []\n",
    "\n",
    "    if not nx.is_connected(G):\n",
    "        components = list(nx.connected_components(G))\n",
    "        for i in range(1, len(components)):  # Exclude the largest (connected) component\n",
    "            unconnected_nodes.extend(list(components[i]))  \n",
    "\n",
    "    return unconnected_nodes\n",
    "\n",
    "# Example usage (assuming you have a graph G)\n",
    "for n in range(200):\n",
    "    unconnected_nodes = identify_unconnected_nodes(create_graph_from_sample(2100,n))\n",
    "    if unconnected_nodes:\n",
    "        print(\"The following nodes are not connected:\", unconnected_nodes)\n",
    "    else:\n",
    "        print(\"All nodes are connected.\")"
   ]
  },
  {
   "cell_type": "code",
   "execution_count": null,
   "id": "60cdd02b-b275-4370-ae5d-1649fa02f2f9",
   "metadata": {},
   "outputs": [],
   "source": [
    "nx.draw(create_graph_from_sample(5,2))"
   ]
  },
  {
   "cell_type": "code",
   "execution_count": null,
   "id": "856ccf2d-5d94-4e38-a30d-73a6f3f6c93d",
   "metadata": {},
   "outputs": [],
   "source": [
    "def create_connected_graph(edg, seed=None):\n",
    "    \"\"\"\n",
    "    Creates a random graph with a guaranteed minimum number of edges, ensuring connectivity.\n",
    "\n",
    "    Args:\n",
    "        edges (int): The minimum number of edges in the graph.\n",
    "        seed (int, optional): Seed for random number generation. Defaults to None.\n",
    "\n",
    "    Returns:\n",
    "        nx.Graph: The generated connected graph.\n",
    "    \"\"\"\n",
    "    if seed is not None:\n",
    "        np.random.seed(seed)\n",
    "\n",
    "    # 1. Create a minimal spanning tree\n",
    "    nodes = list(range(1000))  # Assume 1000 nodes\n",
    "    mst_edges = nx.random_spanning_tree(nodes, seed=seed).edges()\n",
    "    G = nx.Graph()\n",
    "    G.add_edges_from(mst_edges)\n",
    "\n",
    "    # 2. Add remaining edges randomly\n",
    "    remaining_edges = edg - len(mst_edges)\n",
    "    if remaining_edges > 0:\n",
    "        P = [(i, j) for i in nodes for j in nodes if i != j and not G.has_edge(i, j)]\n",
    "        sample_indices = choice(len(P), remaining_edges, replace=False)\n",
    "        sampled_edges = [P[i] for i in sample_indices]\n",
    "        G.add_edges_from(sampled_edges)\n",
    "\n",
    "    return G\n"
   ]
  },
  {
   "cell_type": "code",
   "execution_count": null,
   "id": "85a22c5c-aa0f-428d-8e19-794bb91501b3",
   "metadata": {},
   "outputs": [],
   "source": [
    "def E0(x):\n",
    "    m1=[]\n",
    "    for j in np.arange(0,x*x,x):\n",
    "        m1.append([(i+j,i+1+j) for i in range(x-1)])\n",
    "    return np.array(m1).reshape(-1,2) \n",
    "\n",
    "def E1(x):\n",
    "    m1=[]\n",
    "    for j in np.arange(0,x*x-x,1):\n",
    "        m1.append((j,x+j))\n",
    "    return np.array(m1).reshape(-1,2) "
   ]
  },
  {
   "cell_type": "code",
   "execution_count": null,
   "id": "c8d718e8-8321-48bb-890a-6d1824851ecd",
   "metadata": {},
   "outputs": [],
   "source": [
    "def graph(x):\n",
    "#    node_mapping={}\n",
    "#    node_count = 0\n",
    "    G = nx.Graph()    \n",
    "    e0 = E0(x)\n",
    "    e1= E1(x)\n",
    "    G.add_edges_from(e0)\n",
    "    G.add_edges_from(e1)\n",
    "#    for node in G.nodes:\n",
    "        \n",
    "    return G"
   ]
  },
  {
   "cell_type": "code",
   "execution_count": null,
   "id": "a8b59876-6d6d-4d7d-aaaa-78f1d1c9c517",
   "metadata": {},
   "outputs": [],
   "source": [
    "graph(10)"
   ]
  },
  {
   "cell_type": "code",
   "execution_count": 63,
   "id": "7c56397e-b51b-4498-a3db-8762ae09623f",
   "metadata": {},
   "outputs": [
    {
     "name": "stdout",
     "output_type": "stream",
     "text": [
      "684 1199 [(430, 274), (430, 292), (430, 366), (430, 501), (274, 66), (274, 9), (46, 113), (46, 119), (46, 396), (46, 324), (46, 307), (46, 555), (46, 363), (46, 498), (113, 372), (113, 579), (113, 45), (113, 81), (113, 673), (113, 139), (113, 490), (113, 613), (505, 690), (505, 111), (505, 451), (505, 524), (505, 502), (505, 106), (505, 596), (690, 559), (690, 664), (690, 464), (690, 303), (690, 485), (690, 640), (40, 357), (40, 490), (40, 512), (40, 121), (40, 269), (40, 268), (40, 32), (357, 339), (357, 340), (357, 173), (357, 400), (319, 119), (319, 428), (319, 214), (319, 523), (319, 163), (319, 186), (319, 494), (119, 336), (119, 601), (119, 331), (119, 425), (119, 501), (512, 189), (512, 247), (512, 619), (512, 570), (512, 61), (512, 523), (512, 114), (512, 487), (512, 262), (189, 589), (189, 56), (189, 54), (189, 371), (368, 687), (368, 61), (368, 182), (368, 268), (368, 10), (687, 613), (687, 634), (687, 661), (687, 471), (687, 482), (334, 446), (334, 184), (334, 537), (334, 402), (334, 543), (334, 407), (446, 595), (446, 300), (446, 284), (446, 647), (446, 578), (684, 291), (684, 619), (684, 182), (684, 522), (291, 476), (291, 417), (291, 439), (291, 322), (71, 230), (71, 685), (71, 390), (71, 666), (71, 162), (71, 591), (71, 659), (71, 516), (71, 160), (230, 534), (230, 360), (230, 217), (230, 196), (230, 154), (230, 621), (306, 363), (306, 167), (306, 454), (306, 571), (306, 174), (363, 509), (363, 380), (363, 29), (363, 534), (363, 674), (363, 641), (373, 251), (373, 247), (373, 172), (373, 276), (373, 268), (373, 637), (373, 169), (251, 166), (590, 615), (590, 651), (590, 650), (590, 416), (590, 45), (590, 299), (615, 427), (615, 254), (497, 333), (497, 429), (497, 582), (497, 434), (497, 491), (333, 150), (333, 217), (333, 301), (333, 38), (333, 279), (333, 481), (439, 545), (439, 591), (439, 452), (439, 616), (439, 353), (439, 336), (439, 72), (439, 317), (439, 78), (439, 686), (439, 540), (545, 599), (545, 392), (545, 517), (545, 634), (195, 138), (195, 72), (195, 600), (195, 616), (195, 623), (195, 38), (195, 44), (138, 478), (138, 527), (138, 288), (138, 443), (138, 689), (138, 101), (138, 582), (138, 132), (43, 124), (43, 640), (43, 476), (124, 7), (124, 317), (124, 321), (124, 416), (124, 693), (124, 249), (617, 5), (617, 11), (617, 32), (617, 151), (617, 622), (617, 621), (617, 564), (617, 204), (617, 562), (617, 96), (617, 30), (617, 67), (5, 330), (5, 519), (5, 345), (5, 245), (5, 315), (5, 356), (5, 56), (247, 161), (247, 647), (247, 316), (247, 623), (247, 87), (309, 172), (309, 435), (309, 593), (309, 297), (309, 556), (309, 262), (172, 161), (172, 606), (172, 394), (172, 86), (172, 202), (172, 516), (295, 178), (295, 396), (295, 297), (295, 469), (295, 99), (295, 556), (295, 249), (295, 560), (178, 420), (178, 188), (178, 30), (632, 578), (632, 341), (632, 273), (632, 106), (632, 462), (632, 367), (632, 420), (578, 171), (578, 190), (578, 144), (578, 456), (578, 182), (578, 424), (578, 191), (578, 427), (692, 682), (692, 224), (692, 162), (692, 502), (692, 514), (692, 678), (692, 54), (692, 658), (682, 518), (682, 310), (682, 144), (682, 242), (682, 268), (682, 570), (392, 246), (392, 646), (392, 67), (392, 342), (392, 435), (392, 321), (392, 569), (392, 284), (392, 328), (392, 16), (246, 160), (246, 672), (246, 220), (147, 89), (147, 671), (147, 409), (147, 393), (147, 644), (89, 289), (89, 199), (89, 337), (89, 476), (89, 499), (229, 498), (229, 33), (229, 130), (229, 162), (229, 59), (498, 547), (498, 422), (498, 280), (171, 555), (171, 264), (171, 429), (171, 510), (171, 492), (171, 271), (17, 137), (17, 173), (17, 593), (17, 254), (17, 341), (17, 73), (137, 425), (137, 345), (137, 11), (72, 73), (72, 286), (72, 27), (72, 359), (72, 572), (73, 133), (73, 271), (73, 445), (73, 401), (73, 260), (391, 97), (391, 297), (391, 19), (391, 167), (391, 652), (391, 407), (97, 68), (97, 642), (97, 286), (11, 79), (11, 70), (11, 185), (11, 539), (11, 289), (11, 201), (681, 455), (681, 641), (681, 290), (681, 689), (681, 383), (681, 425), (681, 271), (681, 677), (455, 606), (455, 351), (133, 201), (133, 161), (133, 308), (133, 142), (133, 583), (133, 417), (133, 643), (201, 254), (201, 132), (201, 472), (276, 698), (276, 111), (698, 662), (698, 347), (698, 351), (643, 658), (643, 397), (643, 361), (643, 685), (658, 540), (658, 261), (658, 619), (658, 70), (658, 231), (82, 530), (82, 491), (82, 217), (82, 347), (82, 476), (82, 117), (530, 384), (530, 146), (530, 594), (530, 471), (530, 31), (530, 361), (530, 1), (510, 596), (510, 180), (596, 526), (596, 271), (596, 414), (596, 77), (167, 181), (167, 484), (167, 539), (167, 37), (395, 320), (395, 570), (395, 90), (395, 304), (395, 105), (395, 487), (320, 428), (320, 547), (320, 242), (320, 286), (320, 130), (320, 663), (320, 407), (320, 268), (320, 646), (287, 441), (287, 671), (287, 613), (287, 255), (287, 629), (287, 630), (287, 454), (287, 176), (441, 280), (441, 640), (610, 451), (610, 56), (610, 674), (610, 180), (610, 21), (451, 419), (451, 117), (451, 589), (451, 444), (451, 560), (451, 164), (451, 253), (451, 85), (157, 55), (157, 322), (55, 562), (55, 170), (55, 598), (127, 504), (127, 62), (127, 557), (127, 543), (127, 411), (127, 386), (504, 499), (504, 302), (504, 625), (504, 572), (504, 284), (504, 226), (504, 601), (504, 0), (504, 100), (504, 191), (504, 465), (504, 568), (570, 450), (570, 162), (570, 193), (570, 111), (570, 176), (232, 648), (232, 403), (232, 153), (232, 265), (232, 331), (232, 207), (232, 343), (232, 303), (232, 156), (648, 630), (648, 418), (648, 81), (648, 205), (648, 200), (648, 164), (648, 371), (105, 445), (105, 461), (105, 437), (105, 314), (445, 211), (445, 471), (445, 191), (445, 15), (559, 586), (559, 168), (559, 354), (559, 591), (559, 631), (559, 141), (676, 555), (676, 359), (676, 173), (676, 467), (555, 310), (555, 688), (555, 308), (555, 620), (555, 540), (342, 135), (342, 390), (342, 196), (342, 66), (342, 668), (342, 580), (342, 418), (342, 150), (342, 347), (135, 93), (135, 388), (135, 239), (135, 640), (135, 631), (623, 258), (623, 154), (623, 211), (623, 535), (623, 378), (623, 367), (623, 567), (258, 372), (258, 255), (258, 534), (258, 502), (258, 691), (88, 197), (88, 39), (88, 236), (88, 394), (88, 679), (88, 636), (88, 381), (88, 282), (88, 354), (88, 298), (197, 204), (197, 279), (197, 35), (197, 384), (197, 689), (438, 181), (438, 35), (438, 464), (438, 612), (438, 582), (438, 401), (181, 134), (181, 628), (181, 375), (181, 454), (181, 466), (181, 99), (122, 473), (122, 173), (122, 223), (473, 587), (473, 75), (473, 551), (473, 608), (473, 128), (473, 669), (672, 649), (672, 148), (672, 160), (672, 601), (672, 691), (672, 603), (672, 394), (672, 465), (672, 361), (649, 326), (649, 377), (649, 256), (330, 329), (330, 268), (330, 573), (330, 18), (330, 599), (330, 618), (330, 560), (329, 80), (329, 463), (329, 144), (329, 603), (329, 323), (329, 12), (329, 459), (329, 184), (329, 487), (329, 163), (346, 226), (346, 433), (346, 402), (346, 186), (346, 182), (346, 285), (346, 494), (226, 367), (226, 211), (145, 238), (145, 250), (145, 42), (145, 236), (145, 206), (145, 568), (238, 31), (238, 600), (238, 140), (686, 87), (686, 297), (686, 638), (686, 263), (87, 118), (87, 245), (87, 663), (87, 6), (87, 673), (87, 310), (87, 359), (671, 417), (671, 337), (671, 20), (671, 328), (417, 629), (417, 269), (417, 115), (417, 280), (417, 311), (417, 110), (130, 210), (130, 335), (130, 652), (130, 515), (130, 453), (210, 507), (210, 587), (210, 603), (210, 524), (210, 205), (210, 454), (350, 411), (350, 187), (350, 310), (350, 270), (411, 47), (411, 79), (411, 141), (411, 39), (411, 423), (411, 646), (411, 173), (411, 317), (525, 489), (525, 19), (525, 144), (489, 464), (489, 23), (437, 517), (437, 414), (437, 121), (437, 302), (437, 59), (517, 420), (517, 580), (517, 163), (517, 361), (356, 286), (356, 353), (356, 354), (356, 575), (356, 115), (356, 645), (286, 626), (286, 650), (286, 123), (286, 110), (534, 378), (534, 579), (534, 163), (534, 653), (378, 650), (378, 161), (378, 531), (378, 35), (378, 370), (378, 549), (213, 156), (213, 584), (213, 94), (213, 294), (213, 518), (213, 409), (213, 227), (213, 136), (213, 516), (156, 336), (156, 4), (205, 360), (205, 219), (205, 487), (205, 381), (205, 207), (205, 111), (205, 433), (205, 196), (360, 126), (360, 288), (360, 33), (360, 77), (360, 624), (360, 613), (90, 4), (90, 293), (90, 301), (90, 469), (90, 506), (90, 425), (90, 208), (90, 479), (4, 491), (4, 394), (4, 110), (4, 196), (4, 383), (4, 450), (696, 7), (696, 483), (696, 327), (696, 521), (696, 454), (696, 12), (696, 554), (696, 29), (696, 158), (696, 668), (7, 478), (7, 407), (118, 166), (118, 51), (21, 516), (21, 625), (21, 53), (21, 370), (21, 418), (516, 461), (516, 281), (516, 603), (516, 629), (516, 611), (516, 96), (516, 399), (61, 217), (61, 31), (61, 60), (61, 313), (61, 599), (217, 222), (217, 580), (217, 59), (217, 449), (217, 691), (217, 425), (217, 126), (217, 70), (509, 447), (341, 109), (341, 675), (341, 564), (341, 600), (341, 700), (341, 22), (663, 16), (663, 372), (663, 86), (663, 144), (663, 572), (663, 646), (663, 456), (663, 667), (663, 688), (16, 388), (16, 655), (16, 244), (16, 123), (410, 293), (410, 194), (410, 638), (410, 683), (410, 416), (410, 93), (293, 345), (293, 463), (293, 466), (293, 397), (293, 533), (293, 70), (675, 579), (675, 233), (675, 423), (675, 367), (675, 144), (675, 383), (579, 546), (579, 518), (579, 163), (579, 433), (579, 415), (579, 269), (584, 91), (584, 302), (584, 471), (584, 153), (219, 457), (219, 32), (219, 59), (219, 62), (219, 397), (219, 614), (219, 409), (642, 654), (642, 426), (642, 349), (642, 598), (642, 633), (642, 483), (654, 324), (654, 164), (654, 620), (654, 493), (654, 428), (654, 576), (483, 278), (483, 647), (483, 349), (483, 35), (483, 152), (211, 301), (211, 38), (211, 292), (211, 154), (211, 146), (211, 271), (211, 231), (328, 620), (328, 152), (328, 486), (328, 402), (328, 589), (328, 415), (328, 577), (620, 511), (620, 149), (620, 599), (620, 252), (620, 221), (620, 440), (362, 678), (362, 254), (362, 220), (362, 111), (362, 224), (362, 132), (362, 20), (678, 568), (678, 670), (678, 499), (678, 192), (678, 249), (678, 625), (678, 299), (652, 0), (652, 81), (652, 76), (652, 22), (652, 15), (652, 28), (652, 633), (652, 669), (0, 94), (0, 121), (0, 272), (0, 223), (0, 182), (428, 29), (428, 81), (428, 121), (428, 101), (161, 51), (161, 432), (161, 69), (161, 595), (161, 75), (161, 673), (161, 296), (161, 456), (161, 450), (100, 27), (100, 389), (100, 101), (100, 662), (100, 151), (27, 485), (27, 377), (27, 422), (27, 270), (27, 74), (27, 344), (77, 375), (77, 315), (77, 479), (77, 598), (375, 95), (375, 317), (375, 448), (375, 300), (375, 126), (375, 369), (375, 261), (375, 79), (372, 81), (372, 496), (372, 68), (372, 554), (372, 400), (574, 384), (574, 588), (574, 354), (574, 166), (574, 591), (574, 583), (384, 140), (384, 128), (384, 492), (384, 349), (384, 316), (384, 662), (571, 50), (571, 424), (571, 249), (571, 75), (50, 216), (490, 697), (490, 442), (490, 461), (490, 163), (231, 502), (231, 655), (231, 239), (231, 141), (502, 423), (502, 220), (539, 324), (539, 697), (539, 340), (324, 31), (324, 450), (324, 2), (475, 132), (475, 431), (475, 421), (475, 593), (475, 677), (132, 224), (132, 289), (634, 250), (634, 608), (634, 57), (250, 121), (250, 496), (250, 448), (361, 149), (361, 104), (361, 179), (361, 218), (361, 506), (361, 345), (361, 414), (361, 594), (149, 69), (149, 404), (149, 369), (149, 403), (599, 153), (69, 180), (69, 190), (69, 613), (69, 29), (405, 542), (405, 299), (405, 117), (542, 174), (542, 343), (542, 165), (547, 442), (547, 586), (547, 271), (547, 85), (547, 607), (547, 298), (547, 627), (62, 196), (62, 85), (62, 501), (62, 376), (196, 513), (196, 175), (196, 453), (196, 198), (196, 160), (196, 63), (196, 281), (300, 206), (300, 220), (300, 700), (300, 531), (206, 6), (206, 636), (206, 486), (206, 583), (206, 265), (39, 513), (39, 472), (39, 8), (39, 214), (39, 155), (39, 18), (39, 273), (39, 518), (587, 420), (587, 426), (587, 112), (420, 79), (420, 275), (420, 667), (134, 385), (134, 538), (134, 110), (134, 128), (134, 667), (134, 674), (134, 397), (134, 527), (18, 44), (18, 26), (18, 499), (18, 150), (18, 125), (44, 233), (44, 550), (44, 495), (23, 273), (23, 154), (23, 301), (23, 2), (23, 639), (23, 155), (23, 94), (273, 403), (273, 677), (526, 458), (637, 139), (637, 369), (637, 460), (637, 267), (637, 645), (637, 142), (637, 349), (637, 24), (139, 469), (139, 622), (139, 212), (139, 522), (139, 434), (537, 70), (537, 177), (537, 110), (537, 691), (154, 183), (154, 116), (154, 84), (154, 75), (13, 466), (13, 603), (13, 415), (13, 382), (466, 508), (466, 401), (466, 38), (268, 117), (268, 54), (117, 267), (117, 614), (117, 401), (117, 116), (117, 168), (591, 75), (591, 289), (233, 239), (233, 234), (233, 153), (233, 449), (233, 399), (239, 485), (239, 260), (239, 399), (239, 327), (421, 187), (421, 394), (421, 31), (421, 199), (421, 461), (187, 259), (187, 693), (187, 311), (187, 429), (106, 694), (106, 449), (106, 129), (106, 110), (106, 508), (106, 45), (106, 160), (106, 414), (106, 355), (694, 688), (694, 400), (694, 301), (694, 566), (694, 487), (694, 340), (367, 447), (367, 126), (367, 544), (367, 613), (367, 460), (367, 136), (292, 202), (292, 595), (292, 208), (289, 339), (289, 316), (289, 393), (289, 614), (79, 318), (79, 144), (79, 485), (79, 665), (318, 42), (468, 170), (468, 376), (468, 275), (170, 586), (170, 670), (170, 544), (170, 242), (461, 544), (461, 668), (461, 31), (461, 131), (461, 390), (460, 666), (460, 174), (460, 558), (460, 492), (666, 185), (666, 38), (146, 192), (146, 152), (146, 558), (146, 669), (146, 20), (192, 235), (192, 24), (192, 624), (192, 640), (192, 58), (192, 412), (192, 618), (192, 477), (650, 244), (650, 237), (650, 14), (650, 1), (650, 366), (650, 261), (650, 142), (244, 28), (212, 695), (212, 193), (212, 33), (212, 78), (212, 500), (212, 640), (695, 592), (695, 560), (695, 659), (507, 669), (507, 259), (507, 478), (265, 523), (265, 355), (265, 163), (265, 532), (224, 406), (224, 651), (224, 141), (109, 400), (109, 136), (400, 403), (400, 624), (400, 249), (336, 103), (336, 208), (336, 371), (336, 365), (336, 618), (6, 298), (6, 220), (6, 294), (6, 173), (631, 603), (631, 63), (631, 470), (631, 121), (603, 607), (603, 110), (603, 481), (603, 627), (603, 640), (603, 142), (322, 257), (322, 679), (322, 332), (322, 168), (257, 447), (257, 467), (222, 253), (222, 640), (222, 163), (222, 673), (222, 394), (264, 183), (199, 624), (199, 314), (199, 38), (199, 669), (199, 308), (278, 255), (278, 49), (278, 432), (278, 228), (278, 281), (278, 371), (255, 633), (255, 140), (551, 388), (551, 143), (551, 296), (551, 68), (551, 91), (388, 500), (388, 533), (388, 670), (588, 94), (588, 481), (588, 164), (651, 657), (651, 611), (651, 262), (499, 152), (499, 340), (499, 351), (499, 448), (499, 561), (310, 249), (310, 353), (310, 332), (656, 397), (656, 307), (656, 689), (656, 125), (656, 677), (656, 641), (397, 248), (397, 245), (397, 66), (397, 266), (397, 561), (442, 382), (442, 325), (166, 606), (166, 646), (668, 398), (668, 636), (414, 301), (414, 554), (414, 364), (414, 597), (414, 12), (414, 528), (45, 422), (45, 136), (45, 282), (45, 344), (422, 389), (422, 186), (151, 337), (151, 186), (151, 383), (337, 235), (337, 416), (337, 227), (337, 680), (337, 382), (337, 347), (321, 15), (321, 279), (321, 370), (15, 546), (15, 261), (15, 96), (15, 440), (15, 398), (80, 660), (80, 304), (80, 436), (354, 128), (354, 84), (354, 99), (354, 158), (354, 191), (354, 267), (128, 480), (128, 186), (128, 563), (128, 528), (628, 605), (628, 501), (94, 316), (94, 389), (688, 141), (688, 459), (688, 474), (326, 140), (326, 114), (326, 403), (279, 683), (279, 477), (279, 697), (279, 511), (279, 245), (683, 557), (683, 66), (683, 169), (602, 327), (602, 403), (602, 59), (602, 425), (602, 365), (327, 259), (327, 285), (327, 496), (162, 522), (162, 272), (347, 470), (347, 335), (347, 622), (347, 399), (347, 8), (347, 63), (470, 42), (470, 469), (470, 447), (470, 14), (470, 29), (557, 116), (592, 272), (592, 107), (592, 302), (272, 572), (272, 412), (272, 74), (619, 194), (636, 477), (636, 647), (636, 407), (190, 74), (190, 115), (190, 573), (521, 35), (35, 562), (35, 343), (35, 28), (35, 381), (394, 235), (394, 457), (394, 627), (298, 317), (298, 104), (298, 218), (298, 123), (380, 572), (380, 567), (136, 484), (136, 662), (136, 245), (136, 1), (136, 593), (136, 607), (425, 36), (425, 554), (425, 456), (585, 700), (585, 121), (585, 386), (700, 56), (700, 323), (103, 435), (194, 387), (194, 339), (194, 594), (194, 472), (194, 312), (194, 418), (152, 355), (152, 572), (33, 308), (33, 182), (33, 348), (33, 508), (485, 535), (485, 64), (485, 51), (485, 60), (485, 358), (485, 580), (485, 366), (630, 42), (630, 385), (630, 553), (630, 558), (484, 95), (484, 290), (511, 296), (511, 253), (511, 12), (511, 541), (168, 424), (168, 159), (168, 447), (168, 472), (168, 581), (168, 443), (168, 111), (424, 601), (424, 64), (424, 31), (424, 8), (81, 412), (81, 407), (81, 177), (81, 235), (81, 153), (385, 1), (385, 93), (385, 185), (385, 307), (385, 459), (385, 290), (385, 30), (385, 355), (1, 24), (1, 680), (1, 629), (600, 142), (600, 143), (600, 546), (180, 647), (180, 351), (180, 155), (95, 176), (95, 624), (95, 396), (95, 524), (176, 12), (176, 480), (245, 433), (245, 144), (245, 548), (245, 191), (245, 416), (433, 349), (433, 101), (433, 576), (433, 558), (433, 179), (433, 369), (433, 74), (486, 165), (486, 299), (486, 647), (486, 640), (486, 30), (165, 606), (165, 381), (165, 115), (165, 633), (260, 83), (260, 283), (260, 416), (260, 351), (662, 535), (662, 553), (662, 478), (662, 175), (662, 699), (662, 228), (535, 407), (535, 355), (535, 595), (159, 331), (159, 387), (159, 271), (331, 76), (331, 104), (331, 308), (331, 339), (586, 633), (586, 598), (586, 515), (589, 126), (589, 418), (589, 220), (589, 576), (589, 412), (589, 407), (589, 660), (193, 9), (193, 487), (387, 299), (387, 32), (220, 594), (220, 463), (220, 457), (594, 296), (317, 412), (638, 500), (638, 561), (638, 543), (140, 208), (140, 242), (140, 169), (435, 413), (435, 200), (435, 449), (435, 290), (413, 241), (413, 202), (413, 506), (413, 459), (111, 294), (111, 613), (111, 409), (294, 554), (294, 228), (294, 576), (655, 598), (655, 131), (655, 221), (655, 51), (57, 223), (57, 452), (57, 412), (57, 635), (223, 432), (223, 353), (223, 563), (463, 633), (463, 562), (463, 443), (562, 179), (562, 558), (115, 311), (115, 680), (115, 558), (311, 549), (311, 209), (311, 263), (311, 456), (647, 604), (647, 492), (647, 606), (423, 606), (423, 568), (423, 528), (423, 406), (476, 479), (476, 129), (476, 301), (476, 581), (204, 285), (204, 191), (452, 275), (452, 303), (452, 508), (500, 299), (500, 150), (299, 207), (299, 236), (299, 144), (299, 198), (613, 604), (613, 241), (613, 538), (613, 58), (604, 474), (604, 640), (477, 249), (477, 353), (477, 481), (477, 679), (477, 444), (477, 271), (477, 339), (249, 616), (567, 386), (567, 60), (567, 19), (386, 444), (386, 227), (386, 207), (386, 548), (386, 141), (93, 669), (93, 256), (301, 389), (301, 677), (301, 371), (301, 186), (389, 677), (389, 99), (389, 453), (389, 606), (389, 25), (121, 112), (121, 462), (121, 3), (121, 660), (121, 280), (626, 358), (626, 481), (626, 175), (626, 67), (626, 382), (626, 624), (419, 214), (419, 200), (160, 550), (160, 467), (508, 76), (508, 518), (296, 163), (296, 208), (296, 457), (296, 369), (659, 513), (659, 653), (659, 335), (513, 457), (513, 163), (144, 606), (316, 131), (316, 108), (316, 85), (12, 344), (12, 556), (12, 37), (12, 47), (12, 63), (344, 67), (344, 456), (344, 3), (344, 68), (344, 427), (344, 48), (126, 664), (173, 458), (173, 282), (173, 625), (491, 496), (491, 237), (491, 598), (241, 456), (241, 315), (241, 345), (259, 529), (259, 645), (259, 54), (259, 627), (349, 150), (349, 86), (349, 242), (31, 432), (31, 480), (253, 412), (253, 67), (253, 370), (412, 540), (307, 541), (307, 429), (307, 303), (605, 616), (605, 528), (616, 494), (76, 622), (640, 576), (640, 351), (576, 561), (112, 120), (112, 418), (112, 284), (641, 3), (641, 493), (641, 467), (641, 92), (3, 26), (403, 64), (403, 464), (403, 283), (64, 14), (104, 41), (104, 416), (554, 86), (554, 374), (554, 396), (541, 37), (234, 561), (234, 608), (234, 699), (234, 627), (234, 431), (528, 443), (528, 358), (528, 456), (528, 660), (660, 693), (660, 674), (660, 141), (693, 618), (693, 670), (693, 581), (606, 209), (606, 267), (606, 536), (606, 432), (629, 364), (629, 644), (629, 56), (271, 302), (271, 305), (271, 282), (271, 540), (271, 548), (271, 8), (235, 25), (416, 236), (416, 453), (518, 443), (518, 26), (518, 558), (518, 34), (697, 270), (697, 355), (697, 68), (270, 492), (270, 14), (270, 242), (270, 569), (627, 543), (627, 123), (543, 191), (543, 597), (543, 96), (543, 488), (237, 290), (237, 573), (237, 601), (237, 182), (399, 398), (399, 59), (478, 283), (478, 614), (74, 454), (74, 471), (454, 52), (454, 427), (454, 402), (454, 374), (454, 225), (14, 458), (14, 116), (14, 8), (51, 335), (51, 371), (529, 242), (529, 550), (432, 598), (432, 10), (32, 580), (24, 98), (24, 303), (267, 323), (471, 86), (471, 474), (501, 667), (501, 281), (501, 514), (501, 22), (667, 496), (667, 185), (382, 208), (382, 282), (42, 538), (42, 101), (19, 376), (19, 182), (19, 679), (209, 60), (679, 418), (364, 540), (364, 153), (469, 503), (469, 125), (469, 366), (469, 370), (503, 108), (503, 200), (398, 284), (398, 482), (398, 84), (561, 565), (561, 546), (339, 374), (339, 282), (101, 552), (418, 75), (418, 58), (418, 277), (464, 200), (464, 41), (624, 98), (624, 376), (624, 665), (573, 338), (573, 611), (179, 358), (153, 203), (153, 569), (153, 443), (203, 85), (83, 556), (83, 377), (377, 141), (377, 593), (198, 283), (198, 36), (283, 188), (283, 169), (283, 531), (496, 110), (496, 252), (496, 285), (492, 129), (492, 315), (492, 644), (492, 282), (129, 506), (269, 480), (269, 532), (269, 566), (29, 308), (29, 143), (29, 277), (447, 288), (447, 49), (447, 674), (447, 30), (580, 524), (582, 290), (582, 577), (582, 8), (290, 527), (158, 462), (462, 218), (297, 84), (297, 393), (297, 351), (297, 277), (474, 120), (474, 457), (474, 338), (474, 699), (84, 402), (308, 393), (254, 91), (254, 480), (254, 538), (91, 533), (538, 25), (481, 494), (481, 393), (340, 358), (358, 282), (527, 536), (527, 546), (527, 402), (150, 612), (207, 41), (207, 99), (99, 465), (99, 548), (657, 345), (657, 569), (657, 406), (487, 415), (487, 431), (415, 556), (415, 565), (108, 41), (335, 646), (646, 28), (685, 577), (685, 621), (685, 65), (98, 63), (680, 75), (680, 365), (680, 302), (288, 332), (288, 123), (450, 381), (450, 114), (450, 305), (228, 566), (228, 175), (228, 493), (348, 25), (25, 633), (381, 689), (381, 369), (381, 177), (689, 369), (52, 393), (52, 448), (393, 312), (302, 262), (302, 102), (601, 472), (601, 402), (376, 352), (376, 558), (376, 565), (352, 564), (352, 155), (86, 169), (549, 639), (639, 406), (184, 407), (407, 186), (68, 332), (396, 53), (396, 227), (396, 182), (458, 440), (120, 553), (120, 92), (457, 275), (218, 10), (41, 402), (41, 216), (533, 633), (533, 107), (533, 532), (332, 374), (75, 262), (75, 365), (275, 28), (506, 34), (593, 315), (429, 48), (429, 402), (285, 114), (285, 575), (281, 595), (609, 280), (609, 674), (609, 369), (609, 434), (280, 60), (280, 163), (56, 427), (56, 465), (622, 242), (366, 564), (366, 488), (351, 583), (448, 548), (402, 467), (595, 107), (22, 434), (284, 514), (284, 66), (514, 191), (200, 569), (214, 611), (123, 266), (558, 256), (558, 216), (444, 560), (444, 370), (560, 66), (560, 479), (304, 227), (155, 436), (155, 383), (436, 664), (315, 262), (141, 303), (37, 359), (583, 131), (583, 261), (583, 488), (66, 365), (66, 479), (242, 449), (242, 379), (607, 303), (38, 494), (38, 440), (536, 359), (536, 406), (10, 611), (10, 243), (611, 409), (611, 60), (345, 65), (493, 252), (493, 325), (493, 480), (553, 495), (553, 252), (553, 653), (669, 519), (669, 563), (256, 440), (664, 338), (664, 252), (691, 494), (78, 383), (374, 369), (374, 645), (540, 488), (110, 479), (110, 277), (28, 227), (665, 188), (54, 313), (54, 519), (369, 26), (383, 597), (633, 566), (406, 440), (343, 563), (359, 63), (359, 565), (63, 175), (2, 96), (546, 188), (355, 96), (566, 532), (566, 661), (58, 225), (459, 30), (175, 614), (614, 434), (431, 313), (431, 453), (263, 565), (312, 262), (303, 699), (221, 645), (482, 581), (107, 53)]\n"
     ]
    }
   ],
   "source": [
    "grid = create_graph_from_sample(1200,0)\n",
    "nodes = grid.number_of_nodes()\n",
    "nedge = grid.number_of_edges()\n",
    "#xxx = list(grid.edges())\n",
    "print(nodes,nedge,xxx)"
   ]
  },
  {
   "cell_type": "code",
   "execution_count": 29,
   "id": "39727301-99d7-4ff4-87d2-0d87e85aa068",
   "metadata": {},
   "outputs": [],
   "source": [
    "def dist(meanc, stdc,nedges,seed):\n",
    "    np.random.seed(seed)\n",
    "    return np.abs(np.random.normal(meanc, stdc,nedges))"
   ]
  },
  {
   "cell_type": "code",
   "execution_count": 49,
   "id": "241ccf27-36be-4dcb-8859-5a67892ae29d",
   "metadata": {},
   "outputs": [],
   "source": [
    "def Rn(w,x,mean, std, configuration):\n",
    "    grid = create_graph_from_sample(x,configuration)\n",
    "    nodes = grid.number_of_nodes()\n",
    "    nedge = grid.number_of_edges()\n",
    "    \n",
    "    rns = dist(mean, std,nedge,configuration)\n",
    "    rj = dist(1, 0.2,nedge,configuration)\n",
    "\n",
    "    adjM = sc.lil_matrix((nodes,nodes))\n",
    "    \n",
    "    xxx = list(grid.edges())\n",
    "    #print(xxx)\n",
    "    interactions = 1/(rns+rj/(1+(w*rj*1)**2))\n",
    "\n",
    "    for edge_idx, (i, j) in enumerate(xxx):\n",
    "        interaction_value = interactions[edge_idx]\n",
    "        adjM[i, j] = interaction_value\n",
    "        adjM[j, i] = interaction_value\n",
    "        \n",
    "    adjM = adjM.tocoo()    \n",
    "    adjM.setdiag(-1*adjM.sum(axis=1).A1 - 0.000001)\n",
    "    \n",
    "    MI = spla.inv(-1*adjM.tocsc())  # Using inv for CSC matrices\n",
    "\n",
    "    R = MI[0,0]+MI[500-1,500-1]-MI[500-1,0]-MI[0,500-1]\n",
    "    #print(nodes)\n",
    "    return R"
   ]
  },
  {
   "cell_type": "code",
   "execution_count": 51,
   "id": "d0a3b892-f37c-415a-b9f2-125ff9870ef0",
   "metadata": {},
   "outputs": [
    {
     "ename": "IndexError",
     "evalue": "column index (700) out of bounds",
     "output_type": "error",
     "traceback": [
      "\u001b[0;31m---------------------------------------------------------------------------\u001b[0m",
      "\u001b[0;31mIndexError\u001b[0m                                Traceback (most recent call last)",
      "Cell \u001b[0;32mIn[51], line 2\u001b[0m\n\u001b[1;32m      1\u001b[0m \u001b[38;5;28;01mfor\u001b[39;00m x \u001b[38;5;129;01min\u001b[39;00m \u001b[38;5;28mrange\u001b[39m(\u001b[38;5;241m100\u001b[39m):\n\u001b[0;32m----> 2\u001b[0m     \u001b[38;5;28mprint\u001b[39m(Rn(\u001b[38;5;241m0\u001b[39m,\u001b[38;5;241m2100\u001b[39m,\u001b[38;5;241m1\u001b[39m, \u001b[38;5;241m0\u001b[39m, x))\n",
      "Cell \u001b[0;32mIn[49], line 17\u001b[0m, in \u001b[0;36mRn\u001b[0;34m(w, x, mean, std, configuration)\u001b[0m\n\u001b[1;32m     15\u001b[0m \u001b[38;5;28;01mfor\u001b[39;00m edge_idx, (i, j) \u001b[38;5;129;01min\u001b[39;00m \u001b[38;5;28menumerate\u001b[39m(xxx):\n\u001b[1;32m     16\u001b[0m     interaction_value \u001b[38;5;241m=\u001b[39m interactions[edge_idx]\n\u001b[0;32m---> 17\u001b[0m     adjM[i, j] \u001b[38;5;241m=\u001b[39m interaction_value\n\u001b[1;32m     18\u001b[0m     adjM[j, i] \u001b[38;5;241m=\u001b[39m interaction_value\n\u001b[1;32m     20\u001b[0m adjM \u001b[38;5;241m=\u001b[39m adjM\u001b[38;5;241m.\u001b[39mtocoo()    \n",
      "File \u001b[0;32m~/anaconda3/lib/python3.11/site-packages/scipy/sparse/_lil.py:262\u001b[0m, in \u001b[0;36m_lil_base.__setitem__\u001b[0;34m(self, key, x)\u001b[0m\n\u001b[1;32m    260\u001b[0m     \u001b[38;5;28;01mif\u001b[39;00m x\u001b[38;5;241m.\u001b[39msize \u001b[38;5;241m>\u001b[39m \u001b[38;5;241m1\u001b[39m:\n\u001b[1;32m    261\u001b[0m         \u001b[38;5;28;01mraise\u001b[39;00m \u001b[38;5;167;01mValueError\u001b[39;00m(\u001b[38;5;124m\"\u001b[39m\u001b[38;5;124mTrying to assign a sequence to an item\u001b[39m\u001b[38;5;124m\"\u001b[39m)\n\u001b[0;32m--> 262\u001b[0m     \u001b[38;5;28;01mreturn\u001b[39;00m \u001b[38;5;28mself\u001b[39m\u001b[38;5;241m.\u001b[39m_set_intXint(row, col, x)\n\u001b[1;32m    263\u001b[0m \u001b[38;5;66;03m# Fast path for full-matrix sparse assignment.\u001b[39;00m\n\u001b[1;32m    264\u001b[0m \u001b[38;5;28;01mif\u001b[39;00m (\u001b[38;5;28misinstance\u001b[39m(row, \u001b[38;5;28mslice\u001b[39m) \u001b[38;5;129;01mand\u001b[39;00m \u001b[38;5;28misinstance\u001b[39m(col, \u001b[38;5;28mslice\u001b[39m) \u001b[38;5;129;01mand\u001b[39;00m\n\u001b[1;32m    265\u001b[0m         row \u001b[38;5;241m==\u001b[39m \u001b[38;5;28mslice\u001b[39m(\u001b[38;5;28;01mNone\u001b[39;00m) \u001b[38;5;129;01mand\u001b[39;00m col \u001b[38;5;241m==\u001b[39m \u001b[38;5;28mslice\u001b[39m(\u001b[38;5;28;01mNone\u001b[39;00m) \u001b[38;5;129;01mand\u001b[39;00m\n\u001b[1;32m    266\u001b[0m         issparse(x) \u001b[38;5;129;01mand\u001b[39;00m x\u001b[38;5;241m.\u001b[39mshape \u001b[38;5;241m==\u001b[39m \u001b[38;5;28mself\u001b[39m\u001b[38;5;241m.\u001b[39mshape):\n",
      "File \u001b[0;32m~/anaconda3/lib/python3.11/site-packages/scipy/sparse/_lil.py:239\u001b[0m, in \u001b[0;36m_lil_base._set_intXint\u001b[0;34m(self, row, col, x)\u001b[0m\n\u001b[1;32m    238\u001b[0m \u001b[38;5;28;01mdef\u001b[39;00m \u001b[38;5;21m_set_intXint\u001b[39m(\u001b[38;5;28mself\u001b[39m, row, col, x):\n\u001b[0;32m--> 239\u001b[0m     _csparsetools\u001b[38;5;241m.\u001b[39mlil_insert(\u001b[38;5;28mself\u001b[39m\u001b[38;5;241m.\u001b[39mshape[\u001b[38;5;241m0\u001b[39m], \u001b[38;5;28mself\u001b[39m\u001b[38;5;241m.\u001b[39mshape[\u001b[38;5;241m1\u001b[39m], \u001b[38;5;28mself\u001b[39m\u001b[38;5;241m.\u001b[39mrows,\n\u001b[1;32m    240\u001b[0m                              \u001b[38;5;28mself\u001b[39m\u001b[38;5;241m.\u001b[39mdata, row, col, x)\n",
      "File \u001b[0;32mscipy/sparse/_csparsetools.pyx:61\u001b[0m, in \u001b[0;36m_csparsetools.lil_insert\u001b[0;34m()\u001b[0m\n",
      "File \u001b[0;32mscipy/sparse/_csparsetools.pyx:87\u001b[0m, in \u001b[0;36m_csparsetools.lil_insert\u001b[0;34m()\u001b[0m\n",
      "\u001b[0;31mIndexError\u001b[0m: column index (700) out of bounds"
     ]
    }
   ],
   "source": [
    "for x in range(100):\n",
    "    print(Rn(0,2100,1, 0, x))"
   ]
  },
  {
   "cell_type": "code",
   "execution_count": 33,
   "id": "a9265455-eef9-4e98-bd0d-bed89adc36bb",
   "metadata": {},
   "outputs": [],
   "source": [
    "df6=pd.DataFrame()"
   ]
  },
  {
   "cell_type": "code",
   "execution_count": 41,
   "id": "a9def44b-6b31-4158-9cdd-bdd44ee7d293",
   "metadata": {},
   "outputs": [
    {
     "name": "stdout",
     "output_type": "stream",
     "text": [
      "0.1\n"
     ]
    },
    {
     "ename": "IndexError",
     "evalue": "column index (699) out of bounds",
     "output_type": "error",
     "traceback": [
      "\u001b[0;31m---------------------------------------------------------------------------\u001b[0m",
      "\u001b[0;31mIndexError\u001b[0m                                Traceback (most recent call last)",
      "Cell \u001b[0;32mIn[41], line 3\u001b[0m\n\u001b[1;32m      1\u001b[0m \u001b[38;5;28;01mfor\u001b[39;00m R \u001b[38;5;129;01min\u001b[39;00m np\u001b[38;5;241m.\u001b[39marange(\u001b[38;5;241m0.1\u001b[39m,\u001b[38;5;241m2\u001b[39m,\u001b[38;5;241m0.1\u001b[39m):\n\u001b[1;32m      2\u001b[0m     \u001b[38;5;28mprint\u001b[39m(R)\n\u001b[0;32m----> 3\u001b[0m     R_total \u001b[38;5;241m=\u001b[39m [np\u001b[38;5;241m.\u001b[39mmean([Rn(w,\u001b[38;5;241m3100\u001b[39m,R,\u001b[38;5;241m0\u001b[39m,seed) \u001b[38;5;28;01mfor\u001b[39;00m seed \u001b[38;5;129;01min\u001b[39;00m \u001b[38;5;28mrange\u001b[39m(\u001b[38;5;241m100\u001b[39m)]) \u001b[38;5;28;01mfor\u001b[39;00m w \u001b[38;5;129;01min\u001b[39;00m freq]\n\u001b[1;32m      4\u001b[0m     df6[\u001b[38;5;124mf\u001b[39m\u001b[38;5;124m'\u001b[39m\u001b[38;5;124mZ_\u001b[39m\u001b[38;5;132;01m{\u001b[39;00mR\u001b[38;5;241m*\u001b[39m\u001b[38;5;241m10\u001b[39m\u001b[38;5;132;01m}\u001b[39;00m\u001b[38;5;124m'\u001b[39m]\u001b[38;5;241m=\u001b[39mR_total\n",
      "Cell \u001b[0;32mIn[41], line 3\u001b[0m, in \u001b[0;36m<listcomp>\u001b[0;34m(.0)\u001b[0m\n\u001b[1;32m      1\u001b[0m \u001b[38;5;28;01mfor\u001b[39;00m R \u001b[38;5;129;01min\u001b[39;00m np\u001b[38;5;241m.\u001b[39marange(\u001b[38;5;241m0.1\u001b[39m,\u001b[38;5;241m2\u001b[39m,\u001b[38;5;241m0.1\u001b[39m):\n\u001b[1;32m      2\u001b[0m     \u001b[38;5;28mprint\u001b[39m(R)\n\u001b[0;32m----> 3\u001b[0m     R_total \u001b[38;5;241m=\u001b[39m [np\u001b[38;5;241m.\u001b[39mmean([Rn(w,\u001b[38;5;241m3100\u001b[39m,R,\u001b[38;5;241m0\u001b[39m,seed) \u001b[38;5;28;01mfor\u001b[39;00m seed \u001b[38;5;129;01min\u001b[39;00m \u001b[38;5;28mrange\u001b[39m(\u001b[38;5;241m100\u001b[39m)]) \u001b[38;5;28;01mfor\u001b[39;00m w \u001b[38;5;129;01min\u001b[39;00m freq]\n\u001b[1;32m      4\u001b[0m     df6[\u001b[38;5;124mf\u001b[39m\u001b[38;5;124m'\u001b[39m\u001b[38;5;124mZ_\u001b[39m\u001b[38;5;132;01m{\u001b[39;00mR\u001b[38;5;241m*\u001b[39m\u001b[38;5;241m10\u001b[39m\u001b[38;5;132;01m}\u001b[39;00m\u001b[38;5;124m'\u001b[39m]\u001b[38;5;241m=\u001b[39mR_total\n",
      "Cell \u001b[0;32mIn[41], line 3\u001b[0m, in \u001b[0;36m<listcomp>\u001b[0;34m(.0)\u001b[0m\n\u001b[1;32m      1\u001b[0m \u001b[38;5;28;01mfor\u001b[39;00m R \u001b[38;5;129;01min\u001b[39;00m np\u001b[38;5;241m.\u001b[39marange(\u001b[38;5;241m0.1\u001b[39m,\u001b[38;5;241m2\u001b[39m,\u001b[38;5;241m0.1\u001b[39m):\n\u001b[1;32m      2\u001b[0m     \u001b[38;5;28mprint\u001b[39m(R)\n\u001b[0;32m----> 3\u001b[0m     R_total \u001b[38;5;241m=\u001b[39m [np\u001b[38;5;241m.\u001b[39mmean([Rn(w,\u001b[38;5;241m3100\u001b[39m,R,\u001b[38;5;241m0\u001b[39m,seed) \u001b[38;5;28;01mfor\u001b[39;00m seed \u001b[38;5;129;01min\u001b[39;00m \u001b[38;5;28mrange\u001b[39m(\u001b[38;5;241m100\u001b[39m)]) \u001b[38;5;28;01mfor\u001b[39;00m w \u001b[38;5;129;01min\u001b[39;00m freq]\n\u001b[1;32m      4\u001b[0m     df6[\u001b[38;5;124mf\u001b[39m\u001b[38;5;124m'\u001b[39m\u001b[38;5;124mZ_\u001b[39m\u001b[38;5;132;01m{\u001b[39;00mR\u001b[38;5;241m*\u001b[39m\u001b[38;5;241m10\u001b[39m\u001b[38;5;132;01m}\u001b[39;00m\u001b[38;5;124m'\u001b[39m]\u001b[38;5;241m=\u001b[39mR_total\n",
      "Cell \u001b[0;32mIn[39], line 17\u001b[0m, in \u001b[0;36mRn\u001b[0;34m(w, x, mean, std, configuration)\u001b[0m\n\u001b[1;32m     15\u001b[0m \u001b[38;5;28;01mfor\u001b[39;00m edge_idx, (i, j) \u001b[38;5;129;01min\u001b[39;00m \u001b[38;5;28menumerate\u001b[39m(xxx):\n\u001b[1;32m     16\u001b[0m     interaction_value \u001b[38;5;241m=\u001b[39m interactions[edge_idx]\n\u001b[0;32m---> 17\u001b[0m     adjM[i, j] \u001b[38;5;241m=\u001b[39m interaction_value\n\u001b[1;32m     18\u001b[0m     adjM[j, i] \u001b[38;5;241m=\u001b[39m interaction_value\n\u001b[1;32m     20\u001b[0m adjM \u001b[38;5;241m=\u001b[39m adjM\u001b[38;5;241m.\u001b[39mtocoo()    \n",
      "File \u001b[0;32m~/anaconda3/lib/python3.11/site-packages/scipy/sparse/_lil.py:262\u001b[0m, in \u001b[0;36m_lil_base.__setitem__\u001b[0;34m(self, key, x)\u001b[0m\n\u001b[1;32m    260\u001b[0m     \u001b[38;5;28;01mif\u001b[39;00m x\u001b[38;5;241m.\u001b[39msize \u001b[38;5;241m>\u001b[39m \u001b[38;5;241m1\u001b[39m:\n\u001b[1;32m    261\u001b[0m         \u001b[38;5;28;01mraise\u001b[39;00m \u001b[38;5;167;01mValueError\u001b[39;00m(\u001b[38;5;124m\"\u001b[39m\u001b[38;5;124mTrying to assign a sequence to an item\u001b[39m\u001b[38;5;124m\"\u001b[39m)\n\u001b[0;32m--> 262\u001b[0m     \u001b[38;5;28;01mreturn\u001b[39;00m \u001b[38;5;28mself\u001b[39m\u001b[38;5;241m.\u001b[39m_set_intXint(row, col, x)\n\u001b[1;32m    263\u001b[0m \u001b[38;5;66;03m# Fast path for full-matrix sparse assignment.\u001b[39;00m\n\u001b[1;32m    264\u001b[0m \u001b[38;5;28;01mif\u001b[39;00m (\u001b[38;5;28misinstance\u001b[39m(row, \u001b[38;5;28mslice\u001b[39m) \u001b[38;5;129;01mand\u001b[39;00m \u001b[38;5;28misinstance\u001b[39m(col, \u001b[38;5;28mslice\u001b[39m) \u001b[38;5;129;01mand\u001b[39;00m\n\u001b[1;32m    265\u001b[0m         row \u001b[38;5;241m==\u001b[39m \u001b[38;5;28mslice\u001b[39m(\u001b[38;5;28;01mNone\u001b[39;00m) \u001b[38;5;129;01mand\u001b[39;00m col \u001b[38;5;241m==\u001b[39m \u001b[38;5;28mslice\u001b[39m(\u001b[38;5;28;01mNone\u001b[39;00m) \u001b[38;5;129;01mand\u001b[39;00m\n\u001b[1;32m    266\u001b[0m         issparse(x) \u001b[38;5;129;01mand\u001b[39;00m x\u001b[38;5;241m.\u001b[39mshape \u001b[38;5;241m==\u001b[39m \u001b[38;5;28mself\u001b[39m\u001b[38;5;241m.\u001b[39mshape):\n",
      "File \u001b[0;32m~/anaconda3/lib/python3.11/site-packages/scipy/sparse/_lil.py:239\u001b[0m, in \u001b[0;36m_lil_base._set_intXint\u001b[0;34m(self, row, col, x)\u001b[0m\n\u001b[1;32m    238\u001b[0m \u001b[38;5;28;01mdef\u001b[39;00m \u001b[38;5;21m_set_intXint\u001b[39m(\u001b[38;5;28mself\u001b[39m, row, col, x):\n\u001b[0;32m--> 239\u001b[0m     _csparsetools\u001b[38;5;241m.\u001b[39mlil_insert(\u001b[38;5;28mself\u001b[39m\u001b[38;5;241m.\u001b[39mshape[\u001b[38;5;241m0\u001b[39m], \u001b[38;5;28mself\u001b[39m\u001b[38;5;241m.\u001b[39mshape[\u001b[38;5;241m1\u001b[39m], \u001b[38;5;28mself\u001b[39m\u001b[38;5;241m.\u001b[39mrows,\n\u001b[1;32m    240\u001b[0m                              \u001b[38;5;28mself\u001b[39m\u001b[38;5;241m.\u001b[39mdata, row, col, x)\n",
      "File \u001b[0;32mscipy/sparse/_csparsetools.pyx:61\u001b[0m, in \u001b[0;36m_csparsetools.lil_insert\u001b[0;34m()\u001b[0m\n",
      "File \u001b[0;32mscipy/sparse/_csparsetools.pyx:87\u001b[0m, in \u001b[0;36m_csparsetools.lil_insert\u001b[0;34m()\u001b[0m\n",
      "\u001b[0;31mIndexError\u001b[0m: column index (699) out of bounds"
     ]
    }
   ],
   "source": [
    "for R in np.arange(0.1,2,0.1):\n",
    "    print(R)\n",
    "    R_total = [np.mean([Rn(w,3100,R,0,seed) for seed in range(100)]) for w in freq]\n",
    "    df6[f'Z_{R*10}']=R_total"
   ]
  },
  {
   "cell_type": "code",
   "execution_count": null,
   "id": "3ae6c1b6-fe02-4288-9272-3a5c52b33572",
   "metadata": {},
   "outputs": [],
   "source": [
    "df5.head()"
   ]
  },
  {
   "cell_type": "code",
   "execution_count": null,
   "id": "2d81b9e0-7547-40cd-9e21-da0683efeb42",
   "metadata": {},
   "outputs": [],
   "source": [
    "df5.columns = np.arange(1,10,1)"
   ]
  },
  {
   "cell_type": "code",
   "execution_count": null,
   "id": "2b726fd5-f744-49f4-9cf7-556f88b8e648",
   "metadata": {},
   "outputs": [],
   "source": [
    "plt.plot(df5[1])"
   ]
  },
  {
   "cell_type": "code",
   "execution_count": null,
   "id": "2ae7e15d-ce5c-4948-933e-8ffbac665260",
   "metadata": {},
   "outputs": [],
   "source": []
  },
  {
   "cell_type": "code",
   "execution_count": null,
   "id": "f4d248da-06d9-4f4e-b5f7-d4a45b53e26b",
   "metadata": {},
   "outputs": [],
   "source": []
  },
  {
   "cell_type": "code",
   "execution_count": null,
   "id": "2d3402f9-fdec-49ff-8806-5519d41627b9",
   "metadata": {},
   "outputs": [],
   "source": []
  },
  {
   "cell_type": "code",
   "execution_count": null,
   "id": "dc35e2ff-49bd-42d2-bff0-e044c0d733ee",
   "metadata": {},
   "outputs": [],
   "source": [
    "Req=[Rn(0,x,1, 0, 1) for x in np.arange(70,110,10)]"
   ]
  },
  {
   "cell_type": "code",
   "execution_count": null,
   "id": "e7381564-faea-403e-9367-c646ddd4737c",
   "metadata": {},
   "outputs": [],
   "source": [
    "df=pd.DataFrame()"
   ]
  },
  {
   "cell_type": "code",
   "execution_count": null,
   "id": "95c76f84-b77e-4c6b-995d-fd540b1b9d7f",
   "metadata": {},
   "outputs": [],
   "source": [
    "freq"
   ]
  },
  {
   "cell_type": "code",
   "execution_count": null,
   "id": "36201a0a-4272-43bf-82c4-8d32dd4935a8",
   "metadata": {},
   "outputs": [],
   "source": [
    "for std in np.arange(0,1,0.1):\n",
    "    print(std)\n",
    "    R_total = [np.mean([Rn(w,70,1,std,x) for x in range(10)]) for w in freq]\n",
    "    df[f'Z_{std}']=R_total"
   ]
  },
  {
   "cell_type": "code",
   "execution_count": null,
   "id": "637f133e-fc66-4391-bb7f-ad5979189915",
   "metadata": {},
   "outputs": [],
   "source": [
    "df.head()"
   ]
  },
  {
   "cell_type": "code",
   "execution_count": null,
   "id": "f17a511f-de06-4f2b-9f30-6b26b4998d4d",
   "metadata": {},
   "outputs": [],
   "source": [
    "def Rn2(w,x,mean, std, configuration):\n",
    "    grid = graph(x)\n",
    "    nodes = grid.number_of_nodes()\n",
    "    nedge = grid.number_of_edges()\n",
    "    \n",
    "    rns = dist(mean, std,nedge,configuration)\n",
    "    rj = dist(1, 0,nedge,configuration)\n",
    "\n",
    "    row_indices, col_indices = zip(*grid.edges())\n",
    "    data = 1 / (rns + rj / (1 + (w * rj * 1)**2))\n",
    "    adjM = sc.coo_matrix((data, (row_indices + col_indices, col_indices + row_indices)),\n",
    "                         shape=(nodes, nodes), dtype=np.float64)\n",
    "    adjM.setdiag(-1 * adjM.sum(axis=1).A1 - 0.0001)\n",
    "\n",
    "    # Use iterative solver for larger matrices\n",
    "    try:\n",
    "        MI = spla.spsolve(adjM.tocsc(), np.eye(nodes, dtype=np.float64)) \n",
    "    except RuntimeError:\n",
    "        print(f\"Failed to converge for dim={x}x{y}. Trying LSQR...\")\n",
    "        MI = spla.lsqr(adjM.tocsc(), np.eye(nodes, dtype=np.float64))[0]\n",
    "\n",
    "    R = MI[0,0]+MI[nodes-1,nodes-1]-MI[nodes-1,0]-MI[0,nodes-1]\n",
    "    #print(nodes,nedge)\n",
    "    return R"
   ]
  },
  {
   "cell_type": "code",
   "execution_count": null,
   "id": "eab96de8-8899-4309-be1c-8220b1cda86e",
   "metadata": {},
   "outputs": [],
   "source": [
    "plt.plot(np.log(freq),np.log(df['Z_0.1']))"
   ]
  },
  {
   "cell_type": "code",
   "execution_count": null,
   "id": "498b186a-11a4-4ecd-8a9f-0aaab0d15d6c",
   "metadata": {},
   "outputs": [],
   "source": [
    "np.logspace(0,5,num=100)"
   ]
  },
  {
   "cell_type": "code",
   "execution_count": null,
   "id": "63ff3cb9-6553-4c24-b8a3-682456e97abe",
   "metadata": {},
   "outputs": [],
   "source": [
    "for R in np.logspace(4,6,num=10):\n",
    "    print(R)\n",
    "    R_total = [np.mean([Rn(w,40,R,0.1*R,x) for x in range(100)]) for w in freq]\n",
    "    df3[f'Z_{R}']=R_total"
   ]
  },
  {
   "cell_type": "code",
   "execution_count": null,
   "id": "0d0af670-8ff0-4c78-980a-616399149d66",
   "metadata": {},
   "outputs": [],
   "source": [
    "df3.head()"
   ]
  },
  {
   "cell_type": "code",
   "execution_count": null,
   "id": "6538e584-d11b-482f-8259-2a42b9f8529c",
   "metadata": {},
   "outputs": [],
   "source": [
    "df4=pd.DataFrame()"
   ]
  },
  {
   "cell_type": "code",
   "execution_count": null,
   "id": "829a434e-8782-4fc3-b2f4-2a6139709c18",
   "metadata": {},
   "outputs": [],
   "source": [
    "df3.columns = [np.arange(0,10,1)]"
   ]
  },
  {
   "cell_type": "code",
   "execution_count": null,
   "id": "236b4ec5-637d-4916-a9be-65044f1d4a7e",
   "metadata": {},
   "outputs": [],
   "source": [
    "misfit=[]\n",
    "for x in range(10):\n",
    "    y=np.log(np.abs(np.array(df3[x])-np.array(new_imp[\"imp3\"]))).sum()\n",
    "    misfit.append(y)\n",
    "    "
   ]
  },
  {
   "cell_type": "code",
   "execution_count": null,
   "id": "e30c30b6-2e68-4e5b-b87a-65d1a23803f4",
   "metadata": {},
   "outputs": [],
   "source": [
    "plt.plot(misfit)"
   ]
  },
  {
   "cell_type": "code",
   "execution_count": null,
   "id": "61aa77ab-4b13-4a58-b8be-daf9c267359f",
   "metadata": {},
   "outputs": [],
   "source": [
    "new_imp.iloc[1,1:]"
   ]
  },
  {
   "cell_type": "code",
   "execution_count": null,
   "id": "ecbf42c4-306e-49f8-9560-aacb8edab271",
   "metadata": {},
   "outputs": [],
   "source": [
    "for R in np.arange(0.1,1,0.1):\n",
    "    print(R)\n",
    "    R_total = [np.mean([Rn(w,5000,R,0,seed) for seed in range(100)]) for w in np.arange(0,1,0.1)]\n",
    "    df5[f'Z_{R*10}']=R_total"
   ]
  },
  {
   "cell_type": "code",
   "execution_count": null,
   "id": "c90692c8-ca72-4089-aa47-2e8a924634cd",
   "metadata": {},
   "outputs": [],
   "source": [
    "df5 = pd.DataFrame()"
   ]
  },
  {
   "cell_type": "code",
   "execution_count": null,
   "id": "09b9f4be-36d6-4244-a4b2-977542451568",
   "metadata": {},
   "outputs": [],
   "source": [
    "df4.columns = np.arange(0,18,1)"
   ]
  },
  {
   "cell_type": "code",
   "execution_count": null,
   "id": "bf762a20-0e2d-45ab-ad1a-a829208276d5",
   "metadata": {},
   "outputs": [],
   "source": [
    "plt.plot(np.log(freq),new_imp['imp3']/10**6)"
   ]
  },
  {
   "cell_type": "code",
   "execution_count": null,
   "id": "44626f3a-3a5e-4e70-9fd1-ccddefcd5663",
   "metadata": {},
   "outputs": [],
   "source": [
    "plt.plot(np.log(df4[10]))"
   ]
  },
  {
   "cell_type": "code",
   "execution_count": null,
   "id": "b2dd5a73-667c-4aeb-93e3-4fc91fd9caaa",
   "metadata": {},
   "outputs": [],
   "source": []
  }
 ],
 "metadata": {
  "kernelspec": {
   "display_name": "Python 3 (ipykernel)",
   "language": "python",
   "name": "python3"
  },
  "language_info": {
   "codemirror_mode": {
    "name": "ipython",
    "version": 3
   },
   "file_extension": ".py",
   "mimetype": "text/x-python",
   "name": "python",
   "nbconvert_exporter": "python",
   "pygments_lexer": "ipython3",
   "version": "3.11.5"
  }
 },
 "nbformat": 4,
 "nbformat_minor": 5
}
