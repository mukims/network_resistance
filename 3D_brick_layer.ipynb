{
 "cells": [
  {
   "cell_type": "code",
   "execution_count": 79,
   "id": "619c5c75-553b-4071-9885-cfdf93cc7bce",
   "metadata": {},
   "outputs": [],
   "source": [
    "import numpy as np\n",
    "import matplotlib.pyplot as plt\n",
    "import scipy.sparse as sc\n",
    "import networkx as ntx\n",
    "from numpy.random import choice\n",
    "import scipy.sparse.linalg as spla\n",
    "import pandas as pd"
   ]
  },
  {
   "cell_type": "code",
   "execution_count": 37,
   "id": "e354b8f7-41f2-45fb-b7f9-3a8713568f9d",
   "metadata": {},
   "outputs": [],
   "source": [
    "def E0(layers):\n",
    "    m1=[]\n",
    "    for j in np.arange(0,8*layers,8):\n",
    "        m1.append([(i+j,i+1+j) for i in range(7)])\n",
    "    return np.array(m1).reshape(-1,2)\n",
    "def E1(layers):\n",
    "    m2=[]\n",
    "    for j in np.arange(0,8*(layers-1),8):\n",
    "        m2.append(np.array([((j+i,j+7+i),(j+i,j+7+2+i)) for i in np.arange(1,7,2)]))\n",
    "    m2=np.array(m2).reshape(-1,2)\n",
    "    return m2\n",
    "def E2(layers):\n",
    "    m3=[]\n",
    "    m3.append([(j+7,j+14) for j in np.arange(0,8*(layers-1),8)])\n",
    "    m3=np.array(m3).reshape(-1,2)\n",
    "    return m3"
   ]
  },
  {
   "cell_type": "code",
   "execution_count": 3,
   "id": "c2cfb456-b7e8-45c8-ab25-b7621b119967",
   "metadata": {},
   "outputs": [],
   "source": [
    "def create_graph(layers,seed):\n",
    "    np.random.seed(seed)\n",
    "    G = ntx.Graph()\n",
    "    e0 = E0(layers)\n",
    "    e1 = E1(layers)\n",
    "    e2 = E2(layers)\n",
    "    G.add_edges_from(e0)\n",
    "    G.add_edges_from(e1)\n",
    "    G.add_edges_from(e2)\n",
    "    return G"
   ]
  },
  {
   "cell_type": "code",
   "execution_count": null,
   "id": "16ba35b7-af83-43a5-b012-1e68d6092052",
   "metadata": {},
   "outputs": [],
   "source": [
    "def create_graph2(layers,seed):\n",
    "    np.random.seed(seed)\n",
    "    G= ntx.grid_2d_graph(4,4)\n",
    "    G = ntx.convert_node_labels_to_integers(G)\n",
    "    return G\n"
   ]
  },
  {
   "cell_type": "code",
   "execution_count": 4,
   "id": "8d3e99b3-d6db-4dbe-a55e-231a29684471",
   "metadata": {},
   "outputs": [],
   "source": [
    "def create_3d_graph(layers, seed, depth):\n",
    "    G_2d = create_graph(layers, seed)\n",
    "    G_3d = ntx.Graph()\n",
    "\n",
    "    node_count = 0\n",
    "    node_mapping = {}\n",
    "\n",
    "    for z in range(depth):\n",
    "        for node in G_2d.nodes:\n",
    "            G_3d.add_node(node_count)\n",
    "            node_mapping[(node, z)] = node_count\n",
    "            node_count += 1\n",
    "\n",
    "    for edge in G_2d.edges:\n",
    "        for z in range(depth):\n",
    "            G_3d.add_edge(\n",
    "                node_mapping[(edge[0], z)], node_mapping[(edge[1], z)]\n",
    "            )\n",
    "\n",
    "    # Connect layers vertically (with the correction)\n",
    "    for z in range(depth - 1):\n",
    "        for node in G_2d.nodes:\n",
    "            if node % 2 == 1 and node < max(G_2d.nodes):\n",
    "                for neighbor in G_2d.neighbors(node):\n",
    "                    if neighbor % 2 == 0:  # Even neighbors in the current layer\n",
    "                        G_3d.add_edge(\n",
    "                            node_mapping[(node, z)], node_mapping[(neighbor, z + 1)]\n",
    "                        )\n",
    "                    elif neighbor % 2 == 1 and neighbor > node: # Odd neighbors in the current layer with a higher index\n",
    "                        G_3d.add_edge(\n",
    "                            node_mapping[(node, z)], node_mapping[(neighbor, z + 1)]\n",
    "                        )\n",
    "\n",
    "    node_count = max(G_3d.nodes) + 1\n",
    "    G_3d.add_node(node_count)  # node_in_3d_graph + 1\n",
    "    external_node_1 = node_count\n",
    "\n",
    "    node_count += 1\n",
    "    G_3d.add_node(node_count)  # node_in_3d_graph + 2\n",
    "    external_node_2 = node_count\n",
    "\n",
    "    # Connect bottom layer even nodes to external_node_1\n",
    "    for node in G_2d.nodes:\n",
    "        if node % 2 == 0:\n",
    "            G_3d.add_edge(node_mapping[(node, 0)], external_node_1)  # Bottom layer (z=0)\n",
    "\n",
    "    # Connect top layer odd nodes to external_node_2\n",
    "    for node in G_2d.nodes:\n",
    "        if node % 2 == 1 and node < max(G_2d.nodes):\n",
    "            G_3d.add_edge(node_mapping[(node, depth - 1)], external_node_2)  # Top layer (z=depth-1)\n",
    "\n",
    "\n",
    "    return G_3d,external_node_1,external_node_2\n"
   ]
  },
  {
   "cell_type": "code",
   "execution_count": null,
   "id": "d401680c-b70e-4ec3-b31e-30b963e49300",
   "metadata": {},
   "outputs": [],
   "source": [
    "create_3d_graph(4, 1, 10)"
   ]
  },
  {
   "cell_type": "code",
   "execution_count": null,
   "id": "2a46234b-7500-40c7-90b3-ed4f26b4b740",
   "metadata": {},
   "outputs": [],
   "source": [
    "print(list(create_3d_graph(4,1,2).neighbors(65)))"
   ]
  },
  {
   "cell_type": "code",
   "execution_count": null,
   "id": "a02139c0-5cf0-4e34-813d-8d2cc7bedb61",
   "metadata": {},
   "outputs": [],
   "source": [
    "# Extract node positions for plotting\n",
    "#pos_3d = {node: (node[0], node[1]) for node in create_3d_graph(4, 1, 2).edges}  \n",
    "#pos_3d"
   ]
  },
  {
   "cell_type": "code",
   "execution_count": 5,
   "id": "75c62ad5-6264-46c2-8e17-d5bf9e8276e5",
   "metadata": {},
   "outputs": [],
   "source": [
    "def generate_random_values(mean, std, seed, num_edges):\n",
    "    np.random.seed(seed)\n",
    "    return np.abs(np.random.normal(mean, std, num_edges))"
   ]
  },
  {
   "cell_type": "code",
   "execution_count": 45,
   "id": "5f02bf9e-19dc-4394-a798-23d685351514",
   "metadata": {},
   "outputs": [],
   "source": [
    "def matrix_interactions(seed, depth, std):\n",
    "\n",
    "    grid,a,b = create_3d_graph(4, seed, depth)  \n",
    "    num_edges = grid.number_of_edges()\n",
    "    nodes = grid.number_of_nodes()\n",
    "    np.random.seed(seed)\n",
    "    h= int(0.1 * num_edges)\n",
    "\n",
    "    cap_values = np.abs(1 * np.concatenate((generate_random_values(100, std, seed, num_edges-h),generate_random_values(0.001, 0, seed, h))))\n",
    "    np.random.shuffle(cap_values)\n",
    "    interactions = 1 / cap_values\n",
    "    #print(cap_values)\n",
    "\n",
    "    # Initialize adjacency matrix with correct dimensions\n",
    "    adjM = sc.lil_matrix((nodes, nodes))\n",
    "\n",
    "    # Extract edges and ensure valid indices\n",
    "    xxx = list(grid.edges())\n",
    "    #print(xxx)\n",
    "\n",
    "\n",
    "    # Fill adjacency matrix with interaction values\n",
    "    for edge_idx, (i, j) in enumerate(xxx):\n",
    "        if i < a:\n",
    "            interaction_value = interactions[edge_idx]\n",
    "            adjM[i, j] = interaction_value\n",
    "            adjM[j, i] = interaction_value\n",
    "        else :\n",
    "            interaction_value = interactions[edge_idx]\n",
    "            adjM[i, j] = 0.001\n",
    "            adjM[j, i] = 0.001\n",
    "            \n",
    "\n",
    "    # Set diagonal elements based on row sums\n",
    "    adjM.setdiag(-1 * adjM.sum(axis=1).A1 - 0.0001)\n",
    "\n",
    "    # Invert the matrix (assuming adjM is negative definite)\n",
    "    MI = spla.inv(-1 * adjM.tocsc())\n",
    "\n",
    "    return MI, a,b\n"
   ]
  },
  {
   "cell_type": "code",
   "execution_count": 21,
   "id": "0303308d-ae41-4852-a453-3dcf66b078ab",
   "metadata": {},
   "outputs": [],
   "source": [
    "n,m,o,h= matrix_interactions(1, 10, 1)"
   ]
  },
  {
   "cell_type": "code",
   "execution_count": 22,
   "id": "25fe4d0f-98a7-4b6a-ab41-2ff50a0255d4",
   "metadata": {},
   "outputs": [
    {
     "data": {
      "text/plain": [
       "95"
      ]
     },
     "execution_count": 22,
     "metadata": {},
     "output_type": "execute_result"
    }
   ],
   "source": [
    "h"
   ]
  },
  {
   "cell_type": "code",
   "execution_count": 27,
   "id": "942f40f6-f80b-48b0-8130-f2bd60eceed6",
   "metadata": {},
   "outputs": [],
   "source": [
    "def R(seed,depth,std):\n",
    "    MI,a,b = matrix_interactions(seed,depth,std)\n",
    "    return MI[a, b] + MI[b, b] - MI[a,b] - MI[b, a] "
   ]
  },
  {
   "cell_type": "code",
   "execution_count": 28,
   "id": "6f8229e8",
   "metadata": {},
   "outputs": [],
   "source": [
    "df = pd.DataFrame()"
   ]
  },
  {
   "cell_type": "code",
   "execution_count": 46,
   "id": "817d75ff",
   "metadata": {
    "scrolled": false
   },
   "outputs": [
    {
     "name": "stdout",
     "output_type": "stream",
     "text": [
      "10\n",
      "20\n",
      "30\n",
      "40\n",
      "50\n",
      "60\n",
      "70\n",
      "80\n",
      "90\n"
     ]
    }
   ],
   "source": [
    "for depth in np.arange(10,100,10):\n",
    "    print(depth)\n",
    "    joop=[np.mean([R(seed,depth,std) for seed in range(50)]) for std in np.arange(0,500,50)]\n",
    "    df[f\"{depth}_roop\"] = joop"
   ]
  },
  {
   "cell_type": "code",
   "execution_count": 38,
   "id": "cbf8a4f1-4630-435c-8567-0202f0e04d4b",
   "metadata": {},
   "outputs": [],
   "source": [
    "# depth decides # no of flakes in the box\n",
    "def create_3d_graph_ip(layers, seed, depth):\n",
    "    G_2d = create_graph(layers, seed)\n",
    "    G_3d = ntx.Graph()\n",
    "\n",
    "    node_count = 0\n",
    "    node_mapping = {} \n",
    "    \n",
    "    for z in range(depth):\n",
    "        for node in G_2d.nodes:\n",
    "            G_3d.add_node(node_count)\n",
    "            node_mapping[(node, z)] = node_count\n",
    "            node_count += 1\n",
    "\n",
    "    for edge in G_2d.edges:\n",
    "        for z in range(depth):\n",
    "            G_3d.add_edge(\n",
    "                node_mapping[(edge[0], z)], node_mapping[(edge[1], z)]\n",
    "            )\n",
    "\n",
    "    for z in range(depth - 1):\n",
    "        for node in G_2d.nodes:\n",
    "            if node % 2 == 1 and node < max(G_2d.nodes):\n",
    "                for neighbor in G_2d.neighbors(node):\n",
    "                    if neighbor % 2 == 0:  # Even neighbors in the current layer\n",
    "                        G_3d.add_edge(\n",
    "                            node_mapping[(node, z)], node_mapping[(neighbor, z + 1)]\n",
    "                        )\n",
    "                    elif neighbor % 2 == 1 and neighbor > node: # Odd neighbors in the current layer with a higher index\n",
    "                        G_3d.add_edge(\n",
    "                            node_mapping[(node, z)], node_mapping[(neighbor, z + 1)]\n",
    "                        )\n",
    "\n",
    "    node_count = max(G_3d.nodes) + 1\n",
    "    G_3d.add_node(node_count)  # node_in_3d_graph + 1\n",
    "    external_node_1 = node_count\n",
    "\n",
    "    node_count += 1\n",
    "    G_3d.add_node(node_count)  # node_in_3d_graph + 2\n",
    "    external_node_2 = node_count\n",
    "\n",
    "    # Connect side layer even nodes to external_node_1\n",
    "    for x in range(depth):\n",
    "        for node in G_2d.nodes:\n",
    "            if node % 8 == 0:\n",
    "                G_3d.add_edge(node_mapping[(node, x)], external_node_1)  # side l\n",
    "\n",
    "    # Connect side layer odd nodes to external_node_2\n",
    "    for x in range(depth):\n",
    "        for node in G_2d.nodes:\n",
    "            if node % 8 == 7 :\n",
    "                G_3d.add_edge(node_mapping[(node, x)], external_node_2)  # Top layer (z=depth-1)\n",
    "\n",
    "\n",
    "    return G_3d,external_node_1,external_node_2\n"
   ]
  },
  {
   "cell_type": "code",
   "execution_count": 47,
   "id": "69bb158f-ff2b-4f76-9408-37b219a886ca",
   "metadata": {},
   "outputs": [],
   "source": [
    "def matrix_interactions_ip(seed, depth, std):\n",
    "\n",
    "    grid,a,b = create_3d_graph_ip(4, seed, depth)  # Assuming this function exists\n",
    "    num_edges = grid.number_of_edges()\n",
    "    nodes = grid.number_of_nodes()\n",
    "    \n",
    "    np.random.seed(seed)\n",
    "    \n",
    "    h= int(0.1*num_edges)\n",
    "\n",
    "    \n",
    "    cap_values = np.abs(1 * np.concatenate((generate_random_values(100, std, seed, num_edges-h),generate_random_values(0.001, 0, seed, h))))\n",
    "    np.random.shuffle(cap_values)\n",
    "    interactions = 1 / cap_values\n",
    "\n",
    "    # Initialize adjacency matrix with correct dimensions\n",
    "    adjM = sc.lil_matrix((nodes, nodes))\n",
    "\n",
    "    # Extract edges and ensure valid indices\n",
    "    xxx = list(grid.edges())\n",
    "    #print(xxx)\n",
    "\n",
    "    # Fill adjacency matrix with interaction values\n",
    "    for edge_idx, (i, j) in enumerate(xxx):\n",
    "        if i < a:\n",
    "            interaction_value = interactions[edge_idx]\n",
    "            adjM[i, j] = interaction_value\n",
    "            adjM[j, i] = interaction_value\n",
    "        else :\n",
    "            interaction_value = interactions[edge_idx]\n",
    "            adjM[i, j] = 0.001\n",
    "            adjM[j, i] = 0.001\n",
    "            \n",
    "\n",
    "    # Set diagonal elements based on row sums\n",
    "    adjM.setdiag(-1 * adjM.sum(axis=1).A1 - 0.0001)\n",
    "\n",
    "    # Invert the matrix (assuming adjM is negative definite)\n",
    "    MI = spla.inv(-1 * adjM.tocsc())\n",
    "\n",
    "    return MI, a,b\n"
   ]
  },
  {
   "cell_type": "code",
   "execution_count": 48,
   "id": "4b3afb4e-8877-42bf-84f7-13e133501181",
   "metadata": {},
   "outputs": [],
   "source": [
    "def R_ip(seed,depth,h):\n",
    "    MI,a,b = matrix_interactions_ip(seed,depth,h)\n",
    "    return MI[a, b] + MI[b, b] - MI[a,b] - MI[b, a] "
   ]
  },
  {
   "cell_type": "code",
   "execution_count": 49,
   "id": "431cdcd1",
   "metadata": {
    "scrolled": true
   },
   "outputs": [
    {
     "name": "stdout",
     "output_type": "stream",
     "text": [
      "10\n",
      "20\n",
      "30\n",
      "40\n",
      "50\n",
      "60\n",
      "70\n",
      "80\n",
      "90\n"
     ]
    }
   ],
   "source": [
    "for depth in np.arange(10,100,10):\n",
    "    print(depth)\n",
    "    joop=[np.mean([R_ip(seed,depth,std) for seed in range(50)]) for std in np.arange(0,500,50)]\n",
    "    df[f\"{depth}_rip\"] = joop"
   ]
  },
  {
   "cell_type": "code",
   "execution_count": 58,
   "id": "6f19b6b8-2791-4774-be28-f43cb8fe526a",
   "metadata": {},
   "outputs": [
    {
     "data": {
      "text/html": [
       "<div>\n",
       "<style scoped>\n",
       "    .dataframe tbody tr th:only-of-type {\n",
       "        vertical-align: middle;\n",
       "    }\n",
       "\n",
       "    .dataframe tbody tr th {\n",
       "        vertical-align: top;\n",
       "    }\n",
       "\n",
       "    .dataframe thead th {\n",
       "        text-align: right;\n",
       "    }\n",
       "</style>\n",
       "<table border=\"1\" class=\"dataframe\">\n",
       "  <thead>\n",
       "    <tr style=\"text-align: right;\">\n",
       "      <th></th>\n",
       "      <th>{depth}_roop</th>\n",
       "      <th>10_roop</th>\n",
       "      <th>20_roop</th>\n",
       "      <th>30_roop</th>\n",
       "      <th>40_roop</th>\n",
       "      <th>50_roop</th>\n",
       "      <th>60_roop</th>\n",
       "      <th>70_roop</th>\n",
       "      <th>80_roop</th>\n",
       "      <th>90_roop</th>\n",
       "      <th>10_rip</th>\n",
       "      <th>20_rip</th>\n",
       "      <th>30_rip</th>\n",
       "      <th>40_rip</th>\n",
       "      <th>50_rip</th>\n",
       "      <th>60_rip</th>\n",
       "      <th>70_rip</th>\n",
       "      <th>80_rip</th>\n",
       "      <th>90_rip</th>\n",
       "    </tr>\n",
       "  </thead>\n",
       "  <tbody>\n",
       "    <tr>\n",
       "      <th>0</th>\n",
       "      <td>33.406147</td>\n",
       "      <td>16.886871</td>\n",
       "      <td>25.605025</td>\n",
       "      <td>29.939378</td>\n",
       "      <td>31.655500</td>\n",
       "      <td>32.493104</td>\n",
       "      <td>32.701204</td>\n",
       "      <td>32.805695</td>\n",
       "      <td>32.716994</td>\n",
       "      <td>33.001388</td>\n",
       "      <td>3.413006</td>\n",
       "      <td>1.589192</td>\n",
       "      <td>1.079676</td>\n",
       "      <td>0.789641</td>\n",
       "      <td>0.638878</td>\n",
       "      <td>0.518183</td>\n",
       "      <td>0.446756</td>\n",
       "      <td>0.385766</td>\n",
       "      <td>0.342669</td>\n",
       "    </tr>\n",
       "    <tr>\n",
       "      <th>1</th>\n",
       "      <td>28.778914</td>\n",
       "      <td>13.044184</td>\n",
       "      <td>20.327212</td>\n",
       "      <td>24.974980</td>\n",
       "      <td>26.844904</td>\n",
       "      <td>27.497784</td>\n",
       "      <td>28.095227</td>\n",
       "      <td>28.126904</td>\n",
       "      <td>28.258111</td>\n",
       "      <td>28.535228</td>\n",
       "      <td>2.570345</td>\n",
       "      <td>1.179976</td>\n",
       "      <td>0.791281</td>\n",
       "      <td>0.586976</td>\n",
       "      <td>0.468871</td>\n",
       "      <td>0.381824</td>\n",
       "      <td>0.326220</td>\n",
       "      <td>0.284535</td>\n",
       "      <td>0.253886</td>\n",
       "    </tr>\n",
       "    <tr>\n",
       "      <th>2</th>\n",
       "      <td>26.380654</td>\n",
       "      <td>11.459390</td>\n",
       "      <td>17.661926</td>\n",
       "      <td>22.267624</td>\n",
       "      <td>24.307315</td>\n",
       "      <td>25.242041</td>\n",
       "      <td>25.855857</td>\n",
       "      <td>25.867530</td>\n",
       "      <td>26.235273</td>\n",
       "      <td>26.174931</td>\n",
       "      <td>2.169598</td>\n",
       "      <td>0.992297</td>\n",
       "      <td>0.676306</td>\n",
       "      <td>0.492918</td>\n",
       "      <td>0.397632</td>\n",
       "      <td>0.322952</td>\n",
       "      <td>0.269030</td>\n",
       "      <td>0.234041</td>\n",
       "      <td>0.210156</td>\n",
       "    </tr>\n",
       "    <tr>\n",
       "      <th>3</th>\n",
       "      <td>29.063641</td>\n",
       "      <td>13.398690</td>\n",
       "      <td>21.068330</td>\n",
       "      <td>25.260277</td>\n",
       "      <td>27.190686</td>\n",
       "      <td>28.059528</td>\n",
       "      <td>28.728536</td>\n",
       "      <td>28.225097</td>\n",
       "      <td>28.572089</td>\n",
       "      <td>28.865895</td>\n",
       "      <td>2.465698</td>\n",
       "      <td>1.161168</td>\n",
       "      <td>0.787580</td>\n",
       "      <td>0.587671</td>\n",
       "      <td>0.464530</td>\n",
       "      <td>0.382238</td>\n",
       "      <td>0.324644</td>\n",
       "      <td>0.275568</td>\n",
       "      <td>0.249736</td>\n",
       "    </tr>\n",
       "    <tr>\n",
       "      <th>4</th>\n",
       "      <td>32.091656</td>\n",
       "      <td>16.217002</td>\n",
       "      <td>24.683656</td>\n",
       "      <td>28.768982</td>\n",
       "      <td>30.925166</td>\n",
       "      <td>31.926872</td>\n",
       "      <td>31.956363</td>\n",
       "      <td>31.887430</td>\n",
       "      <td>31.606931</td>\n",
       "      <td>31.914620</td>\n",
       "      <td>3.068027</td>\n",
       "      <td>1.408683</td>\n",
       "      <td>0.944655</td>\n",
       "      <td>0.707841</td>\n",
       "      <td>0.561503</td>\n",
       "      <td>0.463094</td>\n",
       "      <td>0.393431</td>\n",
       "      <td>0.332895</td>\n",
       "      <td>0.304215</td>\n",
       "    </tr>\n",
       "  </tbody>\n",
       "</table>\n",
       "</div>"
      ],
      "text/plain": [
       "   {depth}_roop    10_roop    20_roop    30_roop    40_roop    50_roop  \\\n",
       "0     33.406147  16.886871  25.605025  29.939378  31.655500  32.493104   \n",
       "1     28.778914  13.044184  20.327212  24.974980  26.844904  27.497784   \n",
       "2     26.380654  11.459390  17.661926  22.267624  24.307315  25.242041   \n",
       "3     29.063641  13.398690  21.068330  25.260277  27.190686  28.059528   \n",
       "4     32.091656  16.217002  24.683656  28.768982  30.925166  31.926872   \n",
       "\n",
       "     60_roop    70_roop    80_roop    90_roop    10_rip    20_rip    30_rip  \\\n",
       "0  32.701204  32.805695  32.716994  33.001388  3.413006  1.589192  1.079676   \n",
       "1  28.095227  28.126904  28.258111  28.535228  2.570345  1.179976  0.791281   \n",
       "2  25.855857  25.867530  26.235273  26.174931  2.169598  0.992297  0.676306   \n",
       "3  28.728536  28.225097  28.572089  28.865895  2.465698  1.161168  0.787580   \n",
       "4  31.956363  31.887430  31.606931  31.914620  3.068027  1.408683  0.944655   \n",
       "\n",
       "     40_rip    50_rip    60_rip    70_rip    80_rip    90_rip  \n",
       "0  0.789641  0.638878  0.518183  0.446756  0.385766  0.342669  \n",
       "1  0.586976  0.468871  0.381824  0.326220  0.284535  0.253886  \n",
       "2  0.492918  0.397632  0.322952  0.269030  0.234041  0.210156  \n",
       "3  0.587671  0.464530  0.382238  0.324644  0.275568  0.249736  \n",
       "4  0.707841  0.561503  0.463094  0.393431  0.332895  0.304215  "
      ]
     },
     "execution_count": 58,
     "metadata": {},
     "output_type": "execute_result"
    }
   ],
   "source": [
    "df.head()"
   ]
  },
  {
   "cell_type": "code",
   "execution_count": 67,
   "id": "f416f259-bebb-4424-aa88-7eb21907ee55",
   "metadata": {},
   "outputs": [
    {
     "data": {
      "text/plain": [
       "Text(0.5, 1.0, '$R_{\\\\mu} = 100$, # of hostpots = 10%')"
      ]
     },
     "execution_count": 67,
     "metadata": {},
     "output_type": "execute_result"
    },
    {
     "data": {
      "image/png": "[encoded data removed]",
      "text/plain": [
       "<Figure size 640x480 with 1 Axes>"
      ]
     },
     "metadata": {},
     "output_type": "display_data"
    }
   ],
   "source": [
    "for x in np.arange(10,100,20):\n",
    "    plt.plot(np.arange(0,500,50),df[f'{x}_roop'],label=f'{x}')\n",
    "plt.xlabel('# no of hotspots')\n",
    "plt.ylabel(r'$R_{oop}$')\n",
    "plt.legend()\n",
    "plt.title(r'$R_{\\mu} = 100$, # of hostpots = 10%')"
   ]
  },
  {
   "cell_type": "code",
   "execution_count": 70,
   "id": "48f7eb42",
   "metadata": {},
   "outputs": [
    {
     "data": {
      "text/plain": [
       "Text(0.5, 1.0, '$R_{\\\\mu} = 100$, # of hotspots = 10%')"
      ]
     },
     "execution_count": 70,
     "metadata": {},
     "output_type": "execute_result"
    },
    {
     "data": {
      "image/png": "[encoded data removed]",
      "text/plain": [
       "<Figure size 640x480 with 1 Axes>"
      ]
     },
     "metadata": {},
     "output_type": "display_data"
    }
   ],
   "source": [
    "for x in np.arange(10,100,20):\n",
    "    plt.plot(np.arange(0,500,50),df[f'{x}_rip'],label=f'{x}')\n",
    "plt.xlabel('# no of hotspots')\n",
    "plt.ylabel(r'$R_{oop}$')\n",
    "plt.legend()\n",
    "plt.title(r'$R_{\\mu} = 100$, # of hotspots = 10%')"
   ]
  },
  {
   "cell_type": "code",
   "execution_count": 77,
   "id": "855a123e",
   "metadata": {},
   "outputs": [
    {
     "data": {
      "text/plain": [
       "Text(0.5, 1.0, '$R_{\\\\mu} = 100$, # of hotspots = 10%')"
      ]
     },
     "execution_count": 77,
     "metadata": {},
     "output_type": "execute_result"
    },
    {
     "data": {
      "image/png": "[encoded data removed]",
      "text/plain": [
       "<Figure size 640x480 with 1 Axes>"
      ]
     },
     "metadata": {},
     "output_type": "display_data"
    }
   ],
   "source": [
    "for x in np.arange(10,100,20):\n",
    "    plt.plot(np.arange(0,500,50),df[f'{x}_roop']/df[f'{x}_rip'],label=f'{x}')\n",
    "plt.xlabel(r'$R_{\\sigma}$')\n",
    "plt.ylabel(r'$\\frac{R_{oop}}{R_{ip}}$')\n",
    "plt.legend()\n",
    "plt.title(r'$R_{\\mu} = 100$, # of hotspots = 10%')"
   ]
  },
  {
   "cell_type": "code",
   "execution_count": null,
   "id": "edb83d15-766a-4ae6-a73c-a8fc12f0f529",
   "metadata": {},
   "outputs": [],
   "source": [
    "df = pd.DataFrame()\n",
    "df[\"Rop\"] = joop\n",
    "df[\"Rip\"]= jip"
   ]
  },
  {
   "cell_type": "code",
   "execution_count": null,
   "id": "84d8e51e-2ca3-4cc6-843b-20e57d7ea13c",
   "metadata": {},
   "outputs": [],
   "source": [
    "df[\"ratio\"] = 1*(df[\"Rop\"]/df[\"Rip\"])"
   ]
  },
  {
   "cell_type": "code",
   "execution_count": 56,
   "id": "0c5866db-982a-44ce-bcfe-d0d724eca0ae",
   "metadata": {},
   "outputs": [],
   "source": [
    "df.to_csv('resistance_brick.csv')"
   ]
  },
  {
   "cell_type": "code",
   "execution_count": null,
   "id": "5164860f-7c67-487f-a1bf-04a9ace3ef1f",
   "metadata": {},
   "outputs": [],
   "source": [
    "plt.plot(np.arange(10,100,1),df[\"Rop\"],label=r'$R_{op}$')\n",
    "plt.xlabel('Std',fontsize=15)\n",
    "plt.ylabel(r'$R_{op}$',fontsize=15)\n",
    "plt.title(r'$R_{\\mu} = 100$, # of flakes = 1600,# of in plane = 16',fontsize=15)\n",
    "plt.grid(True)\n"
   ]
  },
  {
   "cell_type": "code",
   "execution_count": null,
   "id": "9ea58449-f464-40cb-98ab-6e4c8f273469",
   "metadata": {},
   "outputs": [],
   "source": [
    "plt.plot(np.arange(10,100,1),df[\"Rip\"],label=r'$R_{ip}$')\n",
    "plt.xlabel('Std',fontsize=15)\n",
    "plt.ylabel(r'$R_{ip}$',fontsize=15)\n",
    "plt.title(r'$R_{\\mu} = 100$, # of flakes = 1600,# of in plane = 16',fontsize=15)\n",
    "plt.grid(True)"
   ]
  },
  {
   "cell_type": "code",
   "execution_count": null,
   "id": "c887938c-1211-4c04-93eb-16f4ee799b67",
   "metadata": {},
   "outputs": [],
   "source": [
    "plt.plot(np.arange(10, 100,1), df[\"ratio\"], label=r'$\\frac{\\sigma_{op}}{\\sigma_{ip}}$')\n",
    "plt.xlabel('Std',fontsize=15)\n",
    "plt.ylabel(r'$\\frac{R_{op}}{R_{ip}}$',fontsize=15)\n",
    "plt.grid(True)"
   ]
  },
  {
   "cell_type": "code",
   "execution_count": null,
   "id": "516d9914-83b6-4f5a-8fd9-e49f2bc20233",
   "metadata": {},
   "outputs": [],
   "source": [
    "generate_random_values(100, 1, 1, 10)"
   ]
  },
  {
   "cell_type": "code",
   "execution_count": null,
   "id": "9a7437ea",
   "metadata": {},
   "outputs": [],
   "source": [
    "np.abs(1 * np.concatenate((generate_random_values(100, 10, 0, 10-5),generate_random_values(0.001, 0, 0,5))))"
   ]
  },
  {
   "cell_type": "code",
   "execution_count": null,
   "id": "e288e1e8",
   "metadata": {},
   "outputs": [],
   "source": []
  }
 ],
 "metadata": {
  "kernelspec": {
   "display_name": "Python 3 (ipykernel)",
   "language": "python",
   "name": "python3"
  },
  "language_info": {
   "codemirror_mode": {
    "name": "ipython",
    "version": 3
   },
   "file_extension": ".py",
   "mimetype": "text/x-python",
   "name": "python",
   "nbconvert_exporter": "python",
   "pygments_lexer": "ipython3",
   "version": "3.11.7"
  }
 },
 "nbformat": 4,
 "nbformat_minor": 5
}
